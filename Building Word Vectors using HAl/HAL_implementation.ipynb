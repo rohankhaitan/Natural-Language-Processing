{
  "nbformat": 4,
  "nbformat_minor": 0,
  "metadata": {
    "colab": {
      "name": "2nd_part_Rohan",
      "provenance": [],
      "collapsed_sections": [],
      "machine_shape": "hm"
    },
    "kernelspec": {
      "name": "python3",
      "display_name": "Python 3"
    },
    "accelerator": "GPU"
  },
  "cells": [
    {
      "cell_type": "markdown",
      "metadata": {
        "id": "k1gMHqt6hQhp",
        "colab_type": "text"
      },
      "source": [
        "    This is the 2nd part after all the preprocessing were done in the first step.\n",
        "    This is done on Google colab.\n",
        "    Contents- vocabulary-dictionary,Middle frequency range words,HAL l2r and R2l, simlilarity function, manually obtained similar words and given rating for some middle freuency range words, checking how HAL works comparing manual rating and score"
      ]
    },
    {
      "cell_type": "markdown",
      "metadata": {
        "id": "B8_dCxRXZLiS",
        "colab_type": "text"
      },
      "source": [
        "Importing the created modified corpus from the google drive"
      ]
    },
    {
      "cell_type": "code",
      "metadata": {
        "id": "qiLwKn9w4yhl",
        "colab_type": "code",
        "outputId": "cd5efd62-c1e9-450a-8f76-57cf68089cd4",
        "colab": {
          "base_uri": "https://localhost:8080/",
          "height": 121
        }
      },
      "source": [
        "from google.colab import drive\n",
        "drive.mount('/content/drive')"
      ],
      "execution_count": 2,
      "outputs": [
        {
          "output_type": "stream",
          "text": [
            "Go to this URL in a browser: https://accounts.google.com/o/oauth2/auth?client_id=947318989803-6bn6qk8qdgf4n4g3pfee6491hc0brc4i.apps.googleusercontent.com&redirect_uri=urn%3aietf%3awg%3aoauth%3a2.0%3aoob&response_type=code&scope=email%20https%3a%2f%2fwww.googleapis.com%2fauth%2fdocs.test%20https%3a%2f%2fwww.googleapis.com%2fauth%2fdrive%20https%3a%2f%2fwww.googleapis.com%2fauth%2fdrive.photos.readonly%20https%3a%2f%2fwww.googleapis.com%2fauth%2fpeopleapi.readonly\n",
            "\n",
            "Enter your authorization code:\n",
            "··········\n",
            "Mounted at /content/drive\n"
          ],
          "name": "stdout"
        }
      ]
    },
    {
      "cell_type": "markdown",
      "metadata": {
        "id": "ZIuoDbJUE9lB",
        "colab_type": "text"
      },
      "source": [
        "Reading the modified corpus"
      ]
    },
    {
      "cell_type": "code",
      "metadata": {
        "id": "zXCXw_Ygl63N",
        "colab_type": "code",
        "colab": {}
      },
      "source": [
        "corpus = open('/content/drive/My Drive/Corpus.txt', encoding='utf-8').readlines()"
      ],
      "execution_count": 0,
      "outputs": []
    },
    {
      "cell_type": "markdown",
      "metadata": {
        "id": "H2kYvOAof7b4",
        "colab_type": "text"
      },
      "source": [
        "Checking the type of the corpus\n",
        "\n",
        "    It got saved in the drive as list.\n",
        "    The corpus is in the list.\n",
        "    So our actual corpus is corpus[0]"
      ]
    },
    {
      "cell_type": "code",
      "metadata": {
        "id": "FMlVZlAunFpl",
        "colab_type": "code",
        "outputId": "c3f906ce-1c1f-4bee-8088-4dec3caef146",
        "colab": {
          "base_uri": "https://localhost:8080/",
          "height": 34
        }
      },
      "source": [
        "type(corpus)"
      ],
      "execution_count": 4,
      "outputs": [
        {
          "output_type": "execute_result",
          "data": {
            "text/plain": [
              "list"
            ]
          },
          "metadata": {
            "tags": []
          },
          "execution_count": 4
        }
      ]
    },
    {
      "cell_type": "code",
      "metadata": {
        "id": "Ucedb5lmrnoy",
        "colab_type": "code",
        "outputId": "c60f0527-a7ae-47c4-e38e-e28b3101159f",
        "colab": {
          "base_uri": "https://localhost:8080/",
          "height": 34
        }
      },
      "source": [
        "type(corpus[0])"
      ],
      "execution_count": 5,
      "outputs": [
        {
          "output_type": "execute_result",
          "data": {
            "text/plain": [
              "str"
            ]
          },
          "metadata": {
            "tags": []
          },
          "execution_count": 5
        }
      ]
    },
    {
      "cell_type": "code",
      "metadata": {
        "id": "9wzAQLYGuTD7",
        "colab_type": "code",
        "colab": {}
      },
      "source": [
        "data=corpus[0]"
      ],
      "execution_count": 0,
      "outputs": []
    },
    {
      "cell_type": "markdown",
      "metadata": {
        "id": "afvbs3y7F5Ho",
        "colab_type": "text"
      },
      "source": [
        "Forming the count dictionary"
      ]
    },
    {
      "cell_type": "code",
      "metadata": {
        "id": "ebJmSBmT22b1",
        "colab_type": "code",
        "colab": {}
      },
      "source": [
        "count_dict = {}\n",
        "for word in data.split(\" \"):\n",
        "    try:\n",
        "        if len(word) >= 1:\n",
        "            count_dict[word] += 1\n",
        "    except:\n",
        "        count_dict[word] = 1"
      ],
      "execution_count": 0,
      "outputs": []
    },
    {
      "cell_type": "markdown",
      "metadata": {
        "id": "f2IiwkKWF9No",
        "colab_type": "text"
      },
      "source": [
        "Removing the words with count less than 20"
      ]
    },
    {
      "cell_type": "code",
      "metadata": {
        "id": "IZt58rwY22rg",
        "colab_type": "code",
        "colab": {}
      },
      "source": [
        "for key in list(count_dict.keys()):\n",
        "    if count_dict[key] <= 20:\n",
        "        del count_dict[key]"
      ],
      "execution_count": 0,
      "outputs": []
    },
    {
      "cell_type": "markdown",
      "metadata": {
        "id": "rpG6uM7AZmAc",
        "colab_type": "text"
      },
      "source": [
        "Sorting the words according to decresing frequency"
      ]
    },
    {
      "cell_type": "code",
      "metadata": {
        "id": "NBHhZtcS225S",
        "colab_type": "code",
        "colab": {}
      },
      "source": [
        "sorted_tuple = sorted(count_dict.items(), key=lambda kv: kv[1],reverse=True)"
      ],
      "execution_count": 0,
      "outputs": []
    },
    {
      "cell_type": "code",
      "metadata": {
        "id": "E0SWXCqwiwex",
        "colab_type": "code",
        "outputId": "9d13cc17-c5f8-4848-ff8f-18a5a463008a",
        "colab": {
          "base_uri": "https://localhost:8080/",
          "height": 34
        }
      },
      "source": [
        "len(sorted_tuple)  ### after removing the low frequency words"
      ],
      "execution_count": 10,
      "outputs": [
        {
          "output_type": "execute_result",
          "data": {
            "text/plain": [
              "54560"
            ]
          },
          "metadata": {
            "tags": []
          },
          "execution_count": 10
        }
      ]
    },
    {
      "cell_type": "markdown",
      "metadata": {
        "id": "rgLY_cwHZnvL",
        "colab_type": "text"
      },
      "source": [
        "Creating list of sorted words, sorted counts and a dictionaty containing words with sorted frequency"
      ]
    },
    {
      "cell_type": "code",
      "metadata": {
        "id": "PX5FVWTv3Hso",
        "colab_type": "code",
        "colab": {}
      },
      "source": [
        "sorted_counts=[]\n",
        "sorted_words=[]\n",
        "sorted_dic={}\n",
        "for i in range(len(sorted_tuple)):\n",
        "    sorted_words.append(sorted_tuple[i][0])\n",
        "    sorted_counts.append(sorted_tuple[i][1])\n",
        "    sorted_dic[sorted_tuple[i][0]]=sorted_tuple[i][1]"
      ],
      "execution_count": 0,
      "outputs": []
    },
    {
      "cell_type": "markdown",
      "metadata": {
        "id": "jr_Bb9JfZzdJ",
        "colab_type": "text"
      },
      "source": [
        "Checking the most frequent words (first 15)\n"
      ]
    },
    {
      "cell_type": "code",
      "metadata": {
        "id": "o3Ub7RUgUI3e",
        "colab_type": "code",
        "outputId": "e6483d5a-0860-47f3-8e2d-99be2ac04321",
        "colab": {
          "base_uri": "https://localhost:8080/",
          "height": 269
        }
      },
      "source": [
        "sorted_tuple[:15]"
      ],
      "execution_count": 12,
      "outputs": [
        {
          "output_type": "execute_result",
          "data": {
            "text/plain": [
              "[('এবং', 512976),\n",
              " ('করে', 354079),\n",
              " ('হয়', 345185),\n",
              " ('থেকে', 247971),\n",
              " ('ছিল', 221431),\n",
              " ('একটি', 220558),\n",
              " ('করা', 179914),\n",
              " ('তিনি', 179285),\n",
              " ('তার', 179264),\n",
              " ('করেন', 159306),\n",
              " ('জন্য', 156824),\n",
              " ('কুয়েতের', 153338),\n",
              " ('সালে', 135199),\n",
              " ('কুয়েত', 133169),\n",
              " ('তাদের', 126541)]"
            ]
          },
          "metadata": {
            "tags": []
          },
          "execution_count": 12
        }
      ]
    },
    {
      "cell_type": "markdown",
      "metadata": {
        "id": "vX8uwKDRMpYS",
        "colab_type": "text"
      },
      "source": [
        "Verifying Zipf's law\n",
        "\n",
        "    Computing the constant k "
      ]
    },
    {
      "cell_type": "code",
      "metadata": {
        "id": "1kqQqyzbLhQo",
        "colab_type": "code",
        "outputId": "3084489d-4ca4-47c8-dc16-fd6fa09833a9",
        "colab": {
          "base_uri": "https://localhost:8080/",
          "height": 185
        }
      },
      "source": [
        "import math\n",
        "\n",
        "n = len(count_dict) # no. of word types\n",
        "\n",
        "T = sum(sorted_counts) # no. of tokens\n",
        "\n",
        "def H_approx(n):\n",
        "    \"\"\"\n",
        "    Returns an approximate value of n-th harmonic number.\n",
        "    http://en.wikipedia.org/wiki/Harmonic_number\n",
        "    \"\"\"\n",
        "    # Euler-Mascheroni constant\n",
        "    gamma = 0.57721566490153286060651209008240243104215933593992\n",
        "    return gamma + math.log(n) + 0.5/n - 1./(12*n**2) + 1./(120*n**4)\n",
        "\n",
        "\n",
        "k = T/H_approx(n)\n",
        "exp_freq = list(k/i for i in range(1,11))\n",
        "obs_freq = list(sorted_tuple[i][1] for i in range(len(count_dict)))\n",
        "label = list(sorted_tuple[i][0] for i in range(10))\n",
        "\n",
        "list(zip(label, obs_freq,exp_freq))  ### Printing the observed and expected frequencies of some similar words\n"
      ],
      "execution_count": 13,
      "outputs": [
        {
          "output_type": "execute_result",
          "data": {
            "text/plain": [
              "[('এবং', 512976, 2368530.055295073),\n",
              " ('করে', 354079, 1184265.0276475365),\n",
              " ('হয়', 345185, 789510.018431691),\n",
              " ('থেকে', 247971, 592132.5138237682),\n",
              " ('ছিল', 221431, 473706.0110590146),\n",
              " ('একটি', 220558, 394755.0092158455),\n",
              " ('করা', 179914, 338361.4364707247),\n",
              " ('তিনি', 179285, 296066.2569118841),\n",
              " ('তার', 179264, 263170.006143897),\n",
              " ('করেন', 159306, 236853.0055295073)]"
            ]
          },
          "metadata": {
            "tags": []
          },
          "execution_count": 13
        }
      ]
    },
    {
      "cell_type": "code",
      "metadata": {
        "id": "B1MmAQZ3MiWJ",
        "colab_type": "code",
        "outputId": "65bbc0a6-1cb3-41b7-ce2e-184898d3c131",
        "colab": {
          "base_uri": "https://localhost:8080/",
          "height": 34
        }
      },
      "source": [
        "k  ##printing the constant"
      ],
      "execution_count": 14,
      "outputs": [
        {
          "output_type": "execute_result",
          "data": {
            "text/plain": [
              "2368530.055295073"
            ]
          },
          "metadata": {
            "tags": []
          },
          "execution_count": 14
        }
      ]
    },
    {
      "cell_type": "markdown",
      "metadata": {
        "id": "cG1lTYqQaA9p",
        "colab_type": "text"
      },
      "source": [
        "Creating a list which stores the expected frequencies"
      ]
    },
    {
      "cell_type": "code",
      "metadata": {
        "id": "yH3u9RonJ8pT",
        "colab_type": "code",
        "colab": {}
      },
      "source": [
        "import numpy as np\n",
        "l=[]\n",
        "counts = np.array(sorted_counts)\n",
        "k=2368530.055295073\n",
        "for i in range(1,len(counts)+1):\n",
        "  l.append(k/i)"
      ],
      "execution_count": 0,
      "outputs": []
    },
    {
      "cell_type": "markdown",
      "metadata": {
        "id": "3KBjfM5UOPEz",
        "colab_type": "text"
      },
      "source": [
        "Plotting the log rank and log frequencies using loglog plot"
      ]
    },
    {
      "cell_type": "code",
      "metadata": {
        "id": "NAdHHCG1I9T6",
        "colab_type": "code",
        "outputId": "5d5b5838-8e2d-453c-936b-21fe87b0bfed",
        "colab": {
          "base_uri": "https://localhost:8080/",
          "height": 299
        }
      },
      "source": [
        "from pylab import *\n",
        "import numpy as np\n",
        "\n",
        "counts = np.array(sorted_counts)\n",
        "tokens = np.array(sorted_words)\n",
        "\n",
        "# A Zipf plot\n",
        "ranks = np.arange(1, len(counts)+1)\n",
        "indices = [i for i in range(len(sorted_counts))]\n",
        "frequencies = counts[indices]\n",
        "exp_val = np.array(l)\n",
        "loglog(ranks, frequencies, marker=\".\")\n",
        "loglog(ranks, exp_val, marker=\".\")\n",
        "\n",
        "title(\"Zipf plot for Bengali Corpus\")\n",
        "xlabel(\"Frequency rank of token\")\n",
        "ylabel(\"Absolute frequency of token\")\n",
        "grid(True)\n"
      ],
      "execution_count": 16,
      "outputs": [
        {
          "output_type": "display_data",
          "data": {
            "image/png": "[encoded data removed]",
            "text/plain": [
              "<Figure size 432x288 with 1 Axes>"
            ]
          },
          "metadata": {
            "tags": [],
            "needs_background": "light"
          }
        }
      ]
    },
    {
      "cell_type": "markdown",
      "metadata": {
        "id": "1oEcaQq0NMb-",
        "colab_type": "text"
      },
      "source": [
        "    We can see the two curves.They are not very far from each other for most of the words. We can say that there is slight deviation from Zipf's law for this text corpora."
      ]
    },
    {
      "cell_type": "markdown",
      "metadata": {
        "id": "XaDNlmpzWHkx",
        "colab_type": "text"
      },
      "source": [
        "Middle Frequency Range and words"
      ]
    },
    {
      "cell_type": "markdown",
      "metadata": {
        "id": "7CNy8JmuebQp",
        "colab_type": "text"
      },
      "source": [
        "      ### One way to obatain\n"
      ]
    },
    {
      "cell_type": "code",
      "metadata": {
        "id": "ZDn5wm8QPwQJ",
        "colab_type": "code",
        "colab": {}
      },
      "source": [
        "mid_freq_from_zipf=(max(l)+min(l))/2"
      ],
      "execution_count": 0,
      "outputs": []
    },
    {
      "cell_type": "code",
      "metadata": {
        "id": "C7x-bvvVQAXi",
        "colab_type": "code",
        "outputId": "ed3430e7-12e2-42c6-f7f1-4a5d6a560c0a",
        "colab": {
          "base_uri": "https://localhost:8080/",
          "height": 34
        }
      },
      "source": [
        "mid_freq_from_zipf"
      ],
      "execution_count": 18,
      "outputs": [
        {
          "output_type": "execute_result",
          "data": {
            "text/plain": [
              "1184286.7333848467"
            ]
          },
          "metadata": {
            "tags": []
          },
          "execution_count": 18
        }
      ]
    },
    {
      "cell_type": "code",
      "metadata": {
        "id": "qhm11PKyaIfT",
        "colab_type": "code",
        "colab": {}
      },
      "source": [
        "def find_mid_freq_words(mid_freq_from_zipf,window):\n",
        "  mid_range_words=[]\n",
        "  for i in sorted_dic.keys():\n",
        "    a=mid_freq_from_zipf*(1-window)\n",
        "    b=mid_freq_from_zipf*(1+window)\n",
        "    if sorted_dic[i]>a and sorted_dic[i]<b:\n",
        "      mid_range_words.append(i)\n",
        "  return mid_range_words    "
      ],
      "execution_count": 0,
      "outputs": []
    },
    {
      "cell_type": "code",
      "metadata": {
        "id": "pkXxap9DcdZ3",
        "colab_type": "code",
        "outputId": "1b3ebd2b-8916-43c1-ac49-7cfba03f2d76",
        "colab": {
          "base_uri": "https://localhost:8080/",
          "height": 34
        }
      },
      "source": [
        "len(find_mid_freq_words(mid_freq_from_zipf,0.99))   ### no of mid frequency range words"
      ],
      "execution_count": 20,
      "outputs": [
        {
          "output_type": "execute_result",
          "data": {
            "text/plain": [
              "407"
            ]
          },
          "metadata": {
            "tags": []
          },
          "execution_count": 20
        }
      ]
    },
    {
      "cell_type": "markdown",
      "metadata": {
        "id": "N-s9UW1oeVxX",
        "colab_type": "text"
      },
      "source": [
        "    ### Another way to obtain "
      ]
    },
    {
      "cell_type": "code",
      "metadata": {
        "id": "32VuKUh1dcR1",
        "colab_type": "code",
        "colab": {}
      },
      "source": [
        "min_freq=sorted_counts[-1]\n",
        "max_freq=sorted_counts[0]\n",
        "mid_frequency=round((max_freq-min_freq)/2)"
      ],
      "execution_count": 0,
      "outputs": []
    },
    {
      "cell_type": "code",
      "metadata": {
        "id": "o0TNJHMkdhMQ",
        "colab_type": "code",
        "outputId": "4cb72295-9bfc-4e4d-f8ef-25d902cd6cc7",
        "colab": {
          "base_uri": "https://localhost:8080/",
          "height": 34
        }
      },
      "source": [
        "mid_frequency"
      ],
      "execution_count": 22,
      "outputs": [
        {
          "output_type": "execute_result",
          "data": {
            "text/plain": [
              "256478"
            ]
          },
          "metadata": {
            "tags": []
          },
          "execution_count": 22
        }
      ]
    },
    {
      "cell_type": "code",
      "metadata": {
        "id": "NdEUMNWPWv1W",
        "colab_type": "code",
        "colab": {}
      },
      "source": [
        "def find(number,window):\n",
        "  output=[]\n",
        "  minimum=number-window\n",
        "  maximum=number+window\n",
        "  for i in sorted_dic.keys():\n",
        "    if sorted_dic[i]  in range(minimum,maximum):\n",
        "      output.append(i)\n",
        "  return(output)    "
      ],
      "execution_count": 0,
      "outputs": []
    },
    {
      "cell_type": "code",
      "metadata": {
        "id": "NvLX0A-JXoSj",
        "colab_type": "code",
        "outputId": "3ec49c68-a16a-4b2b-827f-88100a023754",
        "colab": {
          "base_uri": "https://localhost:8080/",
          "height": 34
        }
      },
      "source": [
        "len(find(mid_frequency,245000))   ### no of mid frequency range words"
      ],
      "execution_count": 24,
      "outputs": [
        {
          "output_type": "execute_result",
          "data": {
            "text/plain": [
              "424"
            ]
          },
          "metadata": {
            "tags": []
          },
          "execution_count": 24
        }
      ]
    },
    {
      "cell_type": "markdown",
      "metadata": {
        "id": "ABqVJVoe08rI",
        "colab_type": "text"
      },
      "source": [
        "Printing the words"
      ]
    },
    {
      "cell_type": "code",
      "metadata": {
        "id": "LFIUXkoRjZxK",
        "colab_type": "code",
        "outputId": "c2897bac-2c34-4688-fafc-e2998ddb31ad",
        "colab": {
          "base_uri": "https://localhost:8080/",
          "height": 54
        }
      },
      "source": [
        "print(find(mid_frequency,245000))"
      ],
      "execution_count": 26,
      "outputs": [
        {
          "output_type": "stream",
          "text": [
            "['করে', 'হয়', 'থেকে', 'ছিল', 'একটি', 'করা', 'তিনি', 'তার', 'করেন', 'জন্য', 'কুয়েতের', 'সালে', 'কুয়েত', 'তাদের', 'যায়', 'সাথে', 'সাবাহ', 'মধ্যে', 'প্রথম', 'তারা', 'হয়ে', 'করার', 'হিসেবে', 'থাকে', 'সালের', 'অত্তোমান', 'ছিলেন', 'এটি', 'কুয়েতে', 'তথ্যসূত্র', 'সময়', 'অর্থনৈতিক', 'উপর', 'কুয়েতি', 'প্রধান', 'বেশি', 'একজন', 'করতে', 'পূর্বে', 'পরিবার', 'রয়েছে', 'নিয়ে', 'দেয়', 'শুরু', 'বিভিন্ন', 'চলচ্চিত্র', 'জন্ম', 'কারণে', 'পর্যন্ত', 'কিছু', 'হয়েছিল', 'ব্রিটিশ', 'দ্বারা', 'সাবাহদের', 'ব্যবসায়ী', 'বছর', 'আন্তর্জাতিক', 'পরে', 'মতো', 'কিন্তু', 'হয়েছে', 'মাধ্যমে', 'জাতীয়', 'অন্যান্য', 'বলে', 'অত্তোমানরা', 'ক্ষমতা', 'ব্যবস্থা', 'কারণ', 'করতো', 'সাবাহর', 'বলা', 'সবচেয়ে', 'ক্রিকেট', 'যদিও', 'বাংলাদেশের', 'দিয়ে', 'পুরস্কার', 'শাসনের', 'বহিঃসংযোগ', 'কাজ', 'পারে', 'অনেক', 'ভারতের', 'অংশ', 'কাছে', 'দক্ষিণ', 'কোন', 'সম্পর্ক', 'জেলার', 'ব্যবহার', 'নাম', 'তাকে', 'রাজনৈতিক', 'ছিলনা', 'ভাষা', 'পুনর্নির্দেশ', 'মোহাম্মদ', 'স্থাপন', 'দিকে', 'প্রতিষ্ঠিত', 'করেছেন', 'অবস্থিত', 'চলে', 'বাণিজ্যিক', 'অধীনে', 'যেখানে', 'নামে', 'ভারতীয়', 'বাংলাদেশ', 'প্রদান', 'ইউনিয়ন', 'করেছিল', 'অবস্থান', 'তেল', 'মার্কিন', 'আরও', 'ভারত', 'শুধু', 'হতে', 'ক্রিকেটার', 'ভারতে', 'যার', 'প্রায়', 'পদে', 'দেখা', 'অবরোধ', 'খেলা', 'পরিচিত', 'বিন', 'তৈরি', 'হস্তক্ষেপ', 'কূটনৈতিক', 'আছে', 'যখন', 'যাকে', 'তখন', 'শিক্ষা', 'পরিবারেরা', 'গ্রহণ', 'সৌদির', 'ক্ষেত্রে', 'লাভ', 'উকাইর', 'দ্য', 'প্রতি', 'তবে', 'বিশেষ', 'দলের', 'ঘটে', 'পয়েন্ট', 'সেরা', 'হবে', 'সমর্থ', 'বিরুদ্ধে', 'গড়ে', 'দশকে', 'স্থান', 'বড়', 'বেশিরভাগ', 'শেষে', 'তালিকা', 'করেছিলেন', 'ক্ষমতার', 'গুরুত্বপূর্ণ', 'চাহিদা', 'আব্দুল্লাহ', 'দ্বিতীয়', 'দুই', 'জাহাজ', 'আয়', 'উত্তর', 'খালিফা', 'জালাহিমা', 'ইবনে', 'ইতিহাস', 'সদস্য', 'হিসাবে', 'ধনী', 'পায়', 'হচ্ছে', 'প্রাথমিক', 'শাসকরা', 'সাল', 'পূর্ব', 'শিল্প', 'আইন', 'মিলিটারি', 'আয়ের', 'শাসক', 'জীবন', 'হলে', 'মৃত্যু', 'জেলা', 'ব্যক্তি', 'উৎস', 'আগে', 'বেড়ে', 'দেখুন', 'ভালো', 'অবদান', 'মুক্তার', 'ব্যবসায়ীদের', 'হার', 'পরবর্তী', 'নেয়', 'খেলোয়াড়', 'আসে', 'হতো', 'উল্লেখযোগ্য', 'মন্দা', 'বাংলা', 'করত', 'বিদ্যালয়', 'সাধারণত', 'সাধারণ', 'অন্যতম', 'মুক্তি', 'যুক্ত', 'অভিজাতরা', 'ফলে', 'অভিনয়', 'শেখ', 'সঙ্গে', 'দেন', 'কলেজ', 'অনুযায়ী', 'নির্বাচনে', 'শেষ', 'পতন', 'অর্জন', 'ধরনের', 'ইউরোপিয়', 'মৃত্যুর', 'ফেলে', 'নতুন', 'শুরুতে', 'অনুসরণ', 'পারেন', 'করলে', 'শহর', 'সাম্রাজ্যের', 'প্রয়োজন', 'পাওয়া', 'সংস্কৃতি', 'চুক্তি', 'মার্চ', 'ব্যাংক', 'এটির', 'মারা', 'কমে', 'বাণিজ্যের', 'নিয়ন্ত্রণ', 'খেলার', 'হারিয়ে', 'উচ্চ', 'সুলতান', 'সোদ', 'নদী', 'যারা', 'কথা', 'প্রমাণ', 'দাবি', 'দীর্ঘ', 'অতিরিক্ত', 'বোর্ড', 'মোবারকের', 'ডিসেম্বর', 'টাকা', 'নির্দেশ', 'বিশ্ববিদ্যালয়', 'সেই', 'নয়', 'রাজ্য', 'উদ্দেশ্যে', 'এখানে', 'কুয়েতকে', 'আক্রমণ', 'লক্ষ্য', 'অক্টোবর', 'জুন', 'উপজেলার', 'জানান', 'শহরের', 'পণ্যের', 'পয়েন্টে', 'জুলাই', 'এপ্রিল', 'পৃথিবীর', 'পার্সীয়', 'সরকার', 'মন্দার', 'ইন্ডিয়া', 'শাসন', 'রেখে', 'ছেলে', 'সোনা', 'মুক্তো', 'স্বীকার', 'আরব', 'জানুয়ারি', 'মহান', 'ঢাকা', 'সকল', 'যুদ্ধের', 'গুপ্ত', 'যেমন', 'সম্পর্কের', 'পারিবারিক', 'বাণিজ্য', 'নির্মাণ', 'বিজয়ী', 'হত্যার', 'মূল', 'দেশ', 'ইস্ট', 'গিয়েছিল', 'কোম্পানির', 'উপসাগরে', 'বরং', 'সেপ্টেম্বর', 'নেওয়ার', 'বর্তমানে', 'উপস্থিতি', 'টেস্ট', 'উপজেলা', 'করেছে', 'মাঝে', 'আসলে', 'ত্যাগ', 'এছাড়াও', 'অভিনেত্রী', 'নিরাপত্তা', 'একই', 'আফ্রিকান', 'অফিসে', 'বিদেশী', 'অভ্যন্তরীণ', 'বিদেশি', 'বর্তমান', 'সরকারি', 'ইরাকের', 'খান', 'নিয়ন্ত্রিত', 'সময়ে', 'দায়িত্ব', 'পালন', 'মোবারক', 'অর্থনীতিতে', 'বিপক্ষে', 'প্রতিপক্ষের', 'চিনতে', 'অর্থনীতিকে', 'পাশা', 'বন্ধুত্ব', 'অভিনেতা', 'ভাষার', 'প্রো', 'শাসক)', 'নির্ধারিত', 'কাইম্মাকাম', 'আরো', 'উপদ্বীপ', 'মানুষ', 'অভিজাত', 'ভাইয়', 'সম্ভব', 'লক্ষ', 'খেলায়', 'অস্বীকার', 'অনুসারে', 'জন্যেও', 'রাজশাসকের', 'প্রকাশ', 'অনুষ্ঠিত', 'নারী', 'আরবীয়', 'বাজেটের', 'তিনটি', 'ফোরেই', 'সবাহ', 'বাংলাদেশী', 'যান', 'যাওয়া', 'নিরাপদ', 'সাক্ষরতার', 'মিদাত', 'অভিজাতদের', 'রাজ্যশাসক', 'অথবা', 'ভাষায়', 'হস্তক্ষেপের', 'সংখ্যা', 'ব্যবহৃত', 'দেয়া', 'ছোট', 'অত্তোমানদের', 'বিশৃঙ্খলার', 'ফতুর', 'ছেড়ে', 'প্রতিদ্বন্দ্বী', 'দ্বন্ধ', 'হয়নি—যেখানে', 'সম্পদ', 'কার্যকরিভাবে', 'মাধ্যমে—যেটিকে', 'এরপর', 'দুটি', 'নিয়ন্ত্রণে', 'স্বশাসিত', 'বেশ', 'কর্তৃক', 'যুগ', 'অঞ্চলের', 'প্রচলিত', 'কোনো', 'স্থাপনে', 'গুপ্তহত্যা', 'নামেমাত্র', 'বাসরা', 'প্রকাশিত', 'বিভাগে', 'মরুভূমির', 'পুত্রকে']\n"
          ],
          "name": "stdout"
        }
      ]
    },
    {
      "cell_type": "markdown",
      "metadata": {
        "id": "Q_it5Q3md6sb",
        "colab_type": "text"
      },
      "source": [
        "    HAL, Finding similar words"
      ]
    },
    {
      "cell_type": "markdown",
      "metadata": {
        "id": "yRCDAKj-UeCk",
        "colab_type": "text"
      },
      "source": [
        "Using NLTK to find the n-grams"
      ]
    },
    {
      "cell_type": "code",
      "metadata": {
        "id": "9tnRbiO-rnhD",
        "colab_type": "code",
        "colab": {}
      },
      "source": [
        "from nltk import ngrams"
      ],
      "execution_count": 0,
      "outputs": []
    },
    {
      "cell_type": "code",
      "metadata": {
        "id": "6sZkxmx8sUul",
        "colab_type": "code",
        "colab": {}
      },
      "source": [
        "words=corpus[0].split()"
      ],
      "execution_count": 0,
      "outputs": []
    },
    {
      "cell_type": "code",
      "metadata": {
        "id": "Evhci0eXRvkd",
        "colab_type": "code",
        "colab": {}
      },
      "source": [
        "n = 11\n",
        "grams11 = ngrams(words, n)"
      ],
      "execution_count": 0,
      "outputs": []
    },
    {
      "cell_type": "code",
      "metadata": {
        "id": "Q-umr7IYRvzt",
        "colab_type": "code",
        "colab": {}
      },
      "source": [
        "vocab_idx = {}\n",
        "hal_l2r   = {}\n",
        "hal_r2l   = {}"
      ],
      "execution_count": 0,
      "outputs": []
    },
    {
      "cell_type": "code",
      "metadata": {
        "id": "qTzSsuuTR2hM",
        "colab_type": "code",
        "colab": {}
      },
      "source": [
        "for word in words:\n",
        "  if word not in vocab_idx.keys():\n",
        "    vocab_idx[word]= 0\n",
        "  else:\n",
        "    pass\n"
      ],
      "execution_count": 0,
      "outputs": []
    },
    {
      "cell_type": "code",
      "metadata": {
        "id": "JhanDqu4R2pc",
        "colab_type": "code",
        "colab": {}
      },
      "source": [
        "i=0\n",
        "for word in vocab_idx.keys():\n",
        "    vocab_idx[word]= i\n",
        "    i=i+1"
      ],
      "execution_count": 0,
      "outputs": []
    },
    {
      "cell_type": "code",
      "metadata": {
        "id": "JqvXDs3tR2vf",
        "colab_type": "code",
        "colab": {}
      },
      "source": [
        "import pickle"
      ],
      "execution_count": 0,
      "outputs": []
    },
    {
      "cell_type": "markdown",
      "metadata": {
        "id": "F4wJ5110UynL",
        "colab_type": "text"
      },
      "source": [
        "Saving the vocab dictionary\n",
        "\n",
        "      Saved it so that we can import without running all codes"
      ]
    },
    {
      "cell_type": "code",
      "metadata": {
        "id": "mTCjZm0jR22b",
        "colab_type": "code",
        "colab": {}
      },
      "source": [
        "pickle_out=open(\"/content/drive/My Drive/Text_analytics/vocab_index.pickle\",\"wb\")\n",
        "pickle.dump(vocab_idx,pickle_out)\n",
        "pickle_out.close()"
      ],
      "execution_count": 0,
      "outputs": []
    },
    {
      "cell_type": "markdown",
      "metadata": {
        "id": "NoWmN2mkU5Z6",
        "colab_type": "text"
      },
      "source": [
        "Importing the vocab dictionary"
      ]
    },
    {
      "cell_type": "code",
      "metadata": {
        "id": "oLImM2JoSmVB",
        "colab_type": "code",
        "colab": {}
      },
      "source": [
        "pickle_in=open(\"/content/drive/My Drive/Text_analytics/vocab_index.pickle\",\"rb\")\n",
        "vocab_idx=pickle.load(pickle_in)\n",
        "pickle_in.close()   \n"
      ],
      "execution_count": 0,
      "outputs": []
    },
    {
      "cell_type": "code",
      "metadata": {
        "id": "sgspauFMR2-d",
        "colab_type": "code",
        "colab": {}
      },
      "source": [
        "ramp = [0, 10, 9, 8, 7, 6, 5, 4, 3, 2, 1]"
      ],
      "execution_count": 0,
      "outputs": []
    },
    {
      "cell_type": "markdown",
      "metadata": {
        "id": "gCB7GdrbVKe1",
        "colab_type": "text"
      },
      "source": [
        "Creating the HAL matrix\n",
        "\n",
        "Left to Right and Right to left"
      ]
    },
    {
      "cell_type": "code",
      "metadata": {
        "id": "glegMyoOR3Dv",
        "colab_type": "code",
        "colab": {}
      },
      "source": [
        "for index, grams in enumerate(grams11):\n",
        "    reversed_grams = grams[::-1]\n",
        "    if None not in grams:\n",
        "        for idx, gram in enumerate(grams):  # Left to right\n",
        "            hal_l2r[vocab_idx[grams[0]], vocab_idx[grams[idx]]] =0\n",
        "\n",
        "        for idx, gram in enumerate(reversed_grams):  # right to left\n",
        "            hal_r2l[vocab_idx[reversed_grams[0]], vocab_idx[reversed_grams[idx]]] =0"
      ],
      "execution_count": 0,
      "outputs": []
    },
    {
      "cell_type": "code",
      "metadata": {
        "id": "tLAfHX3jbqhL",
        "colab_type": "code",
        "colab": {}
      },
      "source": [
        "# We can also use this code to get the hal r2l from hal l2r\n",
        "\n",
        "# hal_r2l={}\n",
        "# for i in hal_l2r.keys():\n",
        "#       a,b=i\n",
        "#       hal_r2l[(b,a)]=hal_l2r[i]"
      ],
      "execution_count": 0,
      "outputs": []
    },
    {
      "cell_type": "code",
      "metadata": {
        "id": "WMZv68PZS15E",
        "colab_type": "code",
        "colab": {}
      },
      "source": [
        "for index, grams in enumerate(grams11):\n",
        "    reversed_grams = grams[::-1]\n",
        "    if None not in grams:\n",
        "        for idx, gram in enumerate(grams):  # Left to right\n",
        "            hal_l2r[vocab_idx[grams[0]], vocab_idx[grams[idx]]] += ramp[idx] #h5py dataset for l2r"
      ],
      "execution_count": 0,
      "outputs": []
    },
    {
      "cell_type": "markdown",
      "metadata": {
        "id": "GyiMn2FGKEjd",
        "colab_type": "text"
      },
      "source": [
        "      Saving the Hal l2r  dictionary to avoid running the code again next time"
      ]
    },
    {
      "cell_type": "code",
      "metadata": {
        "id": "-Akhy18TS2HD",
        "colab_type": "code",
        "colab": {}
      },
      "source": [
        "pickle_out=open(\"/content/drive/My Drive/Text_analytics/hal_l2r.pickle\",\"wb\")\n",
        "pickle.dump(hal_l2r,pickle_out)\n",
        "pickle_out.close()"
      ],
      "execution_count": 0,
      "outputs": []
    },
    {
      "cell_type": "code",
      "metadata": {
        "id": "qkM6gV37S2Df",
        "colab_type": "code",
        "colab": {}
      },
      "source": [
        "for index, grams in enumerate(grams11):\n",
        "    reversed_grams = grams[::-1]\n",
        "    if None not in grams:\n",
        "        for idx, gram in enumerate(reversed_grams):  # right to left\n",
        "            hal_r2l[vocab_idx[reversed_grams[0]], vocab_idx[reversed_grams[idx]]] += ramp[idx]\n"
      ],
      "execution_count": 0,
      "outputs": []
    },
    {
      "cell_type": "markdown",
      "metadata": {
        "id": "j0QImo2SKUKX",
        "colab_type": "text"
      },
      "source": [
        "    Saving the Hal r2l  dictionary to avoid running the code again next time"
      ]
    },
    {
      "cell_type": "code",
      "metadata": {
        "id": "RjNZ7F_5S2Ar",
        "colab_type": "code",
        "colab": {}
      },
      "source": [
        "pickle_out=open(\"/content/drive/My Drive/Text_analytics/hal_r2l.pickle\",\"wb\")\n",
        "pickle.dump(hal_r2l,pickle_out)\n",
        "pickle_out.close()"
      ],
      "execution_count": 0,
      "outputs": []
    },
    {
      "cell_type": "markdown",
      "metadata": {
        "id": "2Jk_hTSZ-Otq",
        "colab_type": "text"
      },
      "source": [
        "Importing the Hal_l2r and Hal_r2l dictionaries"
      ]
    },
    {
      "cell_type": "code",
      "metadata": {
        "id": "5hffrk8b-H5F",
        "colab_type": "code",
        "colab": {}
      },
      "source": [
        "pickle_in=open(\"/content/drive/My Drive/Text_analytics/hal_l2r.pickle\",\"rb\")\n",
        "hal_l2r=pickle.load(pickle_in)\n",
        "pickle_in.close()"
      ],
      "execution_count": 0,
      "outputs": []
    },
    {
      "cell_type": "code",
      "metadata": {
        "id": "bU1FaZtqS1rl",
        "colab_type": "code",
        "colab": {}
      },
      "source": [
        "pickle_in=open(\"/content/drive/My Drive/Text_analytics/hal_r2l.pickle\",\"rb\")\n",
        "hal_r2l=pickle.load(pickle_in)\n",
        "pickle_in.close()"
      ],
      "execution_count": 0,
      "outputs": []
    },
    {
      "cell_type": "markdown",
      "metadata": {
        "id": "40c-RslzMc2v",
        "colab_type": "text"
      },
      "source": [
        "      Function to get the word vector uing HAL"
      ]
    },
    {
      "cell_type": "code",
      "metadata": {
        "id": "SVsU6vtYud9m",
        "colab_type": "code",
        "colab": {}
      },
      "source": [
        "## we can get the hal r2l from hal l2r\n",
        "# So we find two vector representations and take average of both of them\n",
        "\n",
        "def word_vector_l2r(word):\n",
        "    word_vector=[]\n",
        "    for i in sorted_dic.keys():\n",
        "      try:\n",
        "        word_vector.append(hal_l2r[vocab_idx[word],vocab_idx[i]])\n",
        "      except KeyError:\n",
        "        word_vector.append(0)\n",
        "    return word_vector  \n",
        "\n",
        "def word_vector_r2l(word):\n",
        "    word_vector=[]\n",
        "    for i in sorted_dic.keys():\n",
        "      try:\n",
        "        word_vector.append(hal_l2r[vocab_idx[i],vocab_idx[word]])\n",
        "      except KeyError:\n",
        "        word_vector.append(0)\n",
        "    return word_vector  "
      ],
      "execution_count": 0,
      "outputs": []
    },
    {
      "cell_type": "code",
      "metadata": {
        "id": "XHL8eEhJ1TFV",
        "colab_type": "code",
        "colab": {}
      },
      "source": [
        "### We can also do it in this way using both hal l2r and hal r2l dictionaries\n",
        "\n",
        "# def word_vector_l2r(word):\n",
        "#     word_vector=[]\n",
        "#     for i in sorted_dic.keys():\n",
        "#       try:\n",
        "#         word_vector.append(hal_l2r[vocab_idx[word],vocab_idx[i]])\n",
        "#       except KeyError:\n",
        "#         word_vector.append(0)\n",
        "#     return word_vector  \n",
        "\n",
        "# def word_vector_r2l(word):\n",
        "#     word_vector=[]\n",
        "#     for i in sorted_dic.keys():\n",
        "#       try:\n",
        "#         word_vector.append(hal_r2l[vocab_idx[word],vocab_idx[i]])\n",
        "#       except KeyError:\n",
        "#         word_vector.append(0)\n",
        "#     return word_vector  \n",
        "\n",
        "\n",
        "\n",
        "# def final_word_vector(word):\n",
        "#     l2r_vec=word_vector_l2r(word)\n",
        "#     r2l_vec=word_vector_r2l(word)\n",
        "#     return([(x + y)/2 for x, y in zip(l2r_vec, r2l_vec)])"
      ],
      "execution_count": 0,
      "outputs": []
    },
    {
      "cell_type": "code",
      "metadata": {
        "id": "6hKBJLozy6JR",
        "colab_type": "code",
        "colab": {}
      },
      "source": [
        "def final_word_vector(word):\n",
        "    l2r_vec=word_vector_l2r(word)\n",
        "    r2l_vec=word_vector_r2l(word)\n",
        "    return([(x + y)/2 for x, y in zip(l2r_vec, r2l_vec)])"
      ],
      "execution_count": 0,
      "outputs": []
    },
    {
      "cell_type": "code",
      "metadata": {
        "id": "-UdMPZke8Pi0",
        "colab_type": "code",
        "colab": {}
      },
      "source": [
        "### some noun,verb and adjectives from the mid frequency range\n",
        "\n",
        "nouns=['শাসক', 'মহিলা','মুসলিম','এলাকা','তরল', 'বায়োলজি','ব্যক্তি','মুদ্রা','লিটারেচার','নারী']\n",
        "verbs=['হতো','করলে','হলে','রয়েছে',' হিসেবে',' বিভিন্ন',\"ছিল\",' যায়','করেন','হয়']\n",
        "adjectives=['প্রথম','ধনী','নতুন',\"প্রধান\",'নীল','শুরু','ভালোবাসা','লাল','শাসক','সুন্দর']"
      ],
      "execution_count": 0,
      "outputs": []
    },
    {
      "cell_type": "code",
      "metadata": {
        "id": "X9hcQpz_-UHx",
        "colab_type": "code",
        "colab": {}
      },
      "source": [
        "##manually created rating dictionary for similar words\n",
        "\n",
        "dic_of_similar_words={'করলে':[('করত',8),('কাজ',7),('করেছে',8.5),('করছে',8),('করবে',7)],\n",
        "'বলা' :[('বলে',9.8),(\"কাজ\",7.5),(\"শেষ\",6)],\n",
        "'হতো' : [('হচ্ছে',9),('হয়',8),('হলে',8.5),('হওয়ার',8),('হবার',9),('হলেও',8)],\n",
        "'শাসক':[('শাসকরা',9.5),('রাজ্যশাসক',8)],\n",
        "'ব্যক্তি':[('নারী',8),('পুরুষ',7),('মানুষের',9.5),('লেখক',7)],\n",
        "'মহিলা':[('নারী',9.5),('স্ত্রী',8),('নারীদের',9)],\n",
        "'ধনী':[('শাসক',7),('অভিজাতরা',8.2),('রাজ্যশাসক',8.1),('ব্যক্তি',8.9)],\n",
        "'দেশের':[('বিদেশী',7.5),('দেশে',9.5),('বাংলাদেশে',8),('প্রদেশের',8)],\n",
        "'বায়োলজি':[(\"বিজ্ঞান\",8.5), (\"পশু\",6.2),(\"জীবন\",7.3),(\"জীববিদ্যা\",7.6),(\"চিকিৎসা\",7.9)],\n",
        "'এলাকা':[('অঞ্চলে',9),('রাজ্যকে',7),('আঞ্চলিক',8),('গ্রামে',7),('প্রদেশের',8)],\n",
        "'মুসলিম':[('ইসলাম',8),(\"ধর্ম\",8), (\"ভারত\",6), (\"পাকিস্তান\",7.5), (\"ইসলামাবাদ\",8)],\n",
        "'প্রথম':[('দুই',6),('দ্বিতীয়',7),('তৃতীয়',7)],\n",
        "'শুরু':[(\"শেষ\",7), (\"ভোর\",7),(\"আরম্ভ\",9.5), (\"করা\",6)],\n",
        "'লাল':[(\"রক্ত\",7), (\"গোলাপ\",6),(\"ঠোঁট\",6.1),(\"সিঁদুর\",6.9), (\"আগুন\",6)],\n",
        "'নীল':[(\"আকাশ\",7.5),(\"জল\",6.5),(\"কালো\",8),(\"রং\",8.2),(\"লাল\",8)],\n",
        "'ছিল':[(\"শেষ\",6), (\"থাকতো\",8), (\"আরম্ভ\",7), (\"অতীত\",8.5), (\"আছে\",8)],\n",
        "'ভালোবাসা':[(\"প্রেম\",9.5),(\"সেক্স\",7.5),(\"শেষ\",5), (\"বন্ধু\",8), (\"অনুভূতি\",8)],\n",
        "'সুন্দর':[(\"অপূর্ব\",8), (\"রূপ\",7.5), (\"ছবি\",7), (\"দৃশ্য\",7.1), (\"প্রেম\",6.8)],\n",
        "'গাছ':[(\"প্রাণ\",7),(\"সবুজ\",7.9),(\"পাতা\",7.8), (\"বৃক্ষ\",9.5), (\"ফল\",7.8)],\n",
        "'লিটারেচার':[(\"সাহিত্য\",9),(\"বই\",7.5),(\"গল্প\",7.8), (\"কাব্য\",7.5),(\"উপন্যাস\",7.2)],\n",
        "'বাংলাদেশে':[('জাপান',7),('চীন',7),('ইন্ডিয়া',8),('অস্ট্রেলিয়া',6), (\"পাকিস্তান\",8)],\n",
        "'মুদ্রা':[('ডলার',8),('টাকা',9.5),('পাউন্ড',8),('ব্যাংক',7),('ইউরো',8)],\n",
        "'তরল':[('নদী',7),('মহাসাগর',7),('মদ',6),('পানি',8)]}"
      ],
      "execution_count": 0,
      "outputs": []
    },
    {
      "cell_type": "markdown",
      "metadata": {
        "id": "om5tNiR3NxWP",
        "colab_type": "text"
      },
      "source": [
        "Function to find the similarity of two words"
      ]
    },
    {
      "cell_type": "code",
      "metadata": {
        "id": "IpSHoOHC3gM7",
        "colab_type": "code",
        "colab": {}
      },
      "source": [
        "from scipy import spatial\n",
        "def similarity(word1,word2):\n",
        "  return  (1 - spatial.distance.cosine(final_word_vector(word1), final_word_vector(word2)))*10 # To get a score between o and 10"
      ],
      "execution_count": 0,
      "outputs": []
    },
    {
      "cell_type": "markdown",
      "metadata": {
        "id": "HDogVaqWGwye",
        "colab_type": "text"
      },
      "source": [
        "Checking similarity for some manually obtained words and their similar words"
      ]
    },
    {
      "cell_type": "markdown",
      "metadata": {
        "id": "jhWFA_f13wAW",
        "colab_type": "text"
      },
      "source": [
        "    Finding the similarity scores (using HAL) corresponding to manually chosen similar words for a given word"
      ]
    },
    {
      "cell_type": "code",
      "metadata": {
        "id": "pFU5Ge-80Gwq",
        "colab_type": "code",
        "colab": {}
      },
      "source": [
        "def find_similarity_of_nearby_words(word):\n",
        "    similarities=[]\n",
        "    if word in dic_of_similar_words.keys():\n",
        "        for i in dic_of_similar_words[word]:\n",
        "            a,b=i\n",
        "            similarities.append((a,[(\"Manual Rating\",b),(\"Hal Sim Score\",similarity(word,a))]))\n",
        "    return similarities"
      ],
      "execution_count": 0,
      "outputs": []
    },
    {
      "cell_type": "code",
      "metadata": {
        "id": "xwc0yl643JQZ",
        "colab_type": "code",
        "outputId": "d87ffd27-7069-4b7c-9351-53ab9600d007",
        "colab": {
          "base_uri": "https://localhost:8080/",
          "height": 102
        }
      },
      "source": [
        "find_similarity_of_nearby_words('সুন্দর')"
      ],
      "execution_count": 0,
      "outputs": [
        {
          "output_type": "execute_result",
          "data": {
            "text/plain": [
              "[('অপূর্ব', [('Manual Rating', 8), ('Hal Sim Score', 7.148222239359222)]),\n",
              " ('রূপ', [('Manual Rating', 7.5), ('Hal Sim Score', 8.236717376543606)]),\n",
              " ('ছবি', [('Manual Rating', 7), ('Hal Sim Score', 8.316894893602983)]),\n",
              " ('দৃশ্য', [('Manual Rating', 7.1), ('Hal Sim Score', 8.22740056541983)]),\n",
              " ('প্রেম', [('Manual Rating', 6.8), ('Hal Sim Score', 7.0343721297791015)])]"
            ]
          },
          "metadata": {
            "tags": []
          },
          "execution_count": 167
        }
      ]
    },
    {
      "cell_type": "code",
      "metadata": {
        "id": "akSeW6EI6FH2",
        "colab_type": "code",
        "outputId": "080364bf-a825-4f22-c407-87150b954ffa",
        "colab": {
          "base_uri": "https://localhost:8080/",
          "height": 85
        }
      },
      "source": [
        "find_similarity_of_nearby_words('শুরু')"
      ],
      "execution_count": 0,
      "outputs": [
        {
          "output_type": "execute_result",
          "data": {
            "text/plain": [
              "[('শেষ', [('Manual Rating', 7), ('Hal Sim Score', 5.645634906101517)]),\n",
              " ('ভোর', [('Manual Rating', 7), ('Hal Sim Score', 5.190440181936476)]),\n",
              " ('আরম্ভ', [('Manual Rating', 9.5), ('Hal Sim Score', 6.739331776979702)]),\n",
              " ('করা', [('Manual Rating', 6), ('Hal Sim Score', 4.840712373882142)])]"
            ]
          },
          "metadata": {
            "tags": []
          },
          "execution_count": 117
        }
      ]
    },
    {
      "cell_type": "code",
      "metadata": {
        "id": "eNSOFjW43mk6",
        "colab_type": "code",
        "outputId": "8228295e-98f4-4d40-f694-f31aa15edb01",
        "colab": {
          "base_uri": "https://localhost:8080/",
          "height": 102
        }
      },
      "source": [
        "find_similarity_of_nearby_words('মুসলিম')"
      ],
      "execution_count": 0,
      "outputs": [
        {
          "output_type": "execute_result",
          "data": {
            "text/plain": [
              "[('ইসলাম', [('Manual Rating', 8), ('Hal Sim Score', 6.028173300504454)]),\n",
              " ('ধর্ম', [('Manual Rating', 8), ('Hal Sim Score', 4.173118039833941)]),\n",
              " ('ভারত', [('Manual Rating', 6), ('Hal Sim Score', 3.937113852457453)]),\n",
              " ('পাকিস্তান', [('Manual Rating', 7.5), ('Hal Sim Score', 6.744857615271184)]),\n",
              " ('ইসলামাবাদ', [('Manual Rating', 8), ('Hal Sim Score', 4.115685243352432)])]"
            ]
          },
          "metadata": {
            "tags": []
          },
          "execution_count": 118
        }
      ]
    },
    {
      "cell_type": "markdown",
      "metadata": {
        "id": "yxypdwIL8GIV",
        "colab_type": "text"
      },
      "source": [
        "    Hal similarity scores and manual rating for all manually chosen words and their nearby words"
      ]
    },
    {
      "cell_type": "code",
      "metadata": {
        "id": "VpsPttK94Gce",
        "colab_type": "code",
        "colab": {}
      },
      "source": [
        "similar_words_hal_value_dic={}\n",
        "for i in dic_of_similar_words.keys():\n",
        "    similar_words_hal_value_dic[i]=find_similarity_of_nearby_words(i)"
      ],
      "execution_count": 0,
      "outputs": []
    },
    {
      "cell_type": "code",
      "metadata": {
        "id": "KtjqMf9K5HZZ",
        "colab_type": "code",
        "outputId": "d9380074-44b6-427f-ff03-33cac364f93b",
        "colab": {
          "base_uri": "https://localhost:8080/",
          "height": 1000
        }
      },
      "source": [
        "similar_words_hal_value_dic"
      ],
      "execution_count": 0,
      "outputs": [
        {
          "output_type": "execute_result",
          "data": {
            "text/plain": [
              "{'এলাকা': [('অঞ্চলে',\n",
              "   [('Manual Rating', 9), ('Hal Sim Score', 4.743515799875967)]),\n",
              "  ('রাজ্যকে', [('Manual Rating', 7), ('Hal Sim Score', 1.1794327943512273)]),\n",
              "  ('আঞ্চলিক', [('Manual Rating', 8), ('Hal Sim Score', 1.2850441250796174)]),\n",
              "  ('গ্রামে', [('Manual Rating', 7), ('Hal Sim Score', 4.198894392148005)]),\n",
              "  ('প্রদেশের', [('Manual Rating', 8), ('Hal Sim Score', 4.8625062389321005)])],\n",
              " 'করলে': [('করত',\n",
              "   [('Manual Rating', 8), ('Hal Sim Score', 1.8831727780917495)]),\n",
              "  ('কাজ', [('Manual Rating', 7), ('Hal Sim Score', 1.8612546138832142)]),\n",
              "  ('করেছে', [('Manual Rating', 8.5), ('Hal Sim Score', 2.1199205292293866)]),\n",
              "  ('করছে', [('Manual Rating', 8), ('Hal Sim Score', 2.038372533944235)]),\n",
              "  ('করবে', [('Manual Rating', 7), ('Hal Sim Score', 2.221979533427483)])],\n",
              " 'গাছ': [('প্রাণ',\n",
              "   [('Manual Rating', 7), ('Hal Sim Score', 3.565628575497548)]),\n",
              "  ('সবুজ', [('Manual Rating', 7.9), ('Hal Sim Score', 6.247935675756869)]),\n",
              "  ('পাতা', [('Manual Rating', 7.8), ('Hal Sim Score', 6.512837330615895)]),\n",
              "  ('বৃক্ষ', [('Manual Rating', 9.5), ('Hal Sim Score', 8.490030878423507)]),\n",
              "  ('ফল', [('Manual Rating', 7.8), ('Hal Sim Score', 3.071025532542444)])],\n",
              " 'ছিল': [('শেষ', [('Manual Rating', 6), ('Hal Sim Score', 3.996569643648824)]),\n",
              "  ('থাকতো', [('Manual Rating', 8), ('Hal Sim Score', 5.079767139845376)]),\n",
              "  ('আরম্ভ', [('Manual Rating', 7), ('Hal Sim Score', 3.501381729929054)]),\n",
              "  ('অতীত', [('Manual Rating', 8.5), ('Hal Sim Score', 4.7156233134226335)]),\n",
              "  ('আছে', [('Manual Rating', 8), ('Hal Sim Score', 4.875174724062114)])],\n",
              " 'তরল': [('নদী',\n",
              "   [('Manual Rating', 7), ('Hal Sim Score', 1.7538978815104933)]),\n",
              "  ('মহাসাগর', [('Manual Rating', 7), ('Hal Sim Score', 2.210037251317336)]),\n",
              "  ('মদ', [('Manual Rating', 6), ('Hal Sim Score', 3.512857552533435)]),\n",
              "  ('পানি', [('Manual Rating', 8), ('Hal Sim Score', 6.837346951087441)])],\n",
              " 'দেশের': [('বিদেশী',\n",
              "   [('Manual Rating', 7.5), ('Hal Sim Score', 1.7222999437251718)]),\n",
              "  ('দেশে', [('Manual Rating', 9.5), ('Hal Sim Score', 8.701009824061375)]),\n",
              "  ('বাংলাদেশে', [('Manual Rating', 8), ('Hal Sim Score', 7.0658944348518915)]),\n",
              "  ('প্রদেশের', [('Manual Rating', 8), ('Hal Sim Score', 4.68581064741959)])],\n",
              " 'ধনী': [('শাসক',\n",
              "   [('Manual Rating', 7), ('Hal Sim Score', 1.7347006949512733)]),\n",
              "  ('অভিজাতরা', [('Manual Rating', 8.2), ('Hal Sim Score', 4.780035129061466)]),\n",
              "  ('রাজ্যশাসক',\n",
              "   [('Manual Rating', 8.1), ('Hal Sim Score', 0.11205916499637203)]),\n",
              "  ('ব্যক্তি',\n",
              "   [('Manual Rating', 8.9), ('Hal Sim Score', 0.3793788022840139)])],\n",
              " 'নীল': [('আকাশ',\n",
              "   [('Manual Rating', 7.5), ('Hal Sim Score', 6.225711399671384)]),\n",
              "  ('জল', [('Manual Rating', 6.5), ('Hal Sim Score', 2.40534215805328)]),\n",
              "  ('কালো', [('Manual Rating', 8), ('Hal Sim Score', 7.121863308148171)]),\n",
              "  ('রং', [('Manual Rating', 8.2), ('Hal Sim Score', 2.4635461335651323)]),\n",
              "  ('লাল', [('Manual Rating', 8), ('Hal Sim Score', 8.108185435364566)])],\n",
              " 'প্রথম': [('দুই',\n",
              "   [('Manual Rating', 6), ('Hal Sim Score', 5.488880351644135)]),\n",
              "  ('দ্বিতীয়', [('Manual Rating', 7), ('Hal Sim Score', 6.606366155481181)]),\n",
              "  ('তৃতীয়', [('Manual Rating', 7), ('Hal Sim Score', 6.939045809689739)])],\n",
              " 'বলা': [('বলে',\n",
              "   [('Manual Rating', 9.8), ('Hal Sim Score', 3.51356964007145)]),\n",
              "  ('কাজ', [('Manual Rating', 7.5), ('Hal Sim Score', 1.9887111159590698)]),\n",
              "  ('শেষ', [('Manual Rating', 6), ('Hal Sim Score', 3.72508624785024)])],\n",
              " 'বাংলাদেশে': [('জাপান',\n",
              "   [('Manual Rating', 7), ('Hal Sim Score', 1.9393076528976771)]),\n",
              "  ('চীন', [('Manual Rating', 7), ('Hal Sim Score', 3.409133827635734)]),\n",
              "  ('ইন্ডিয়া', [('Manual Rating', 8), ('Hal Sim Score', 1.4225444087630756)]),\n",
              "  ('অস্ট্রেলিয়া', [('Manual Rating', 6), ('Hal Sim Score', 4.1906107290602)]),\n",
              "  ('পাকিস্তান', [('Manual Rating', 8), ('Hal Sim Score', 6.251943428635222)])],\n",
              " 'বায়োলজি': [('বিজ্ঞান',\n",
              "   [('Manual Rating', 8.5), ('Hal Sim Score', 4.709882173772351)]),\n",
              "  ('পশু', [('Manual Rating', 6.2), ('Hal Sim Score', 3.721951903182444)]),\n",
              "  ('জীবন', [('Manual Rating', 7.3), ('Hal Sim Score', 3.4561238232945413)]),\n",
              "  ('জীববিদ্যা',\n",
              "   [('Manual Rating', 7.6), ('Hal Sim Score', 4.639826269159796)]),\n",
              "  ('চিকিৎসা', [('Manual Rating', 7.9), ('Hal Sim Score', 4.225525013620455)])],\n",
              " 'ব্যক্তি': [('নারী',\n",
              "   [('Manual Rating', 8), ('Hal Sim Score', 2.451438089518132)]),\n",
              "  ('পুরুষ', [('Manual Rating', 7), ('Hal Sim Score', 1.7558756105150874)]),\n",
              "  ('মানুষের', [('Manual Rating', 9.5), ('Hal Sim Score', 1.0131376552276194)]),\n",
              "  ('লেখক', [('Manual Rating', 7), ('Hal Sim Score', 4.5430722500123455)])],\n",
              " 'ভালোবাসা': [('প্রেম',\n",
              "   [('Manual Rating', 9.5), ('Hal Sim Score', 5.749562239311228)]),\n",
              "  ('সেক্স', [('Manual Rating', 7.5), ('Hal Sim Score', 3.391025552297753)]),\n",
              "  ('শেষ', [('Manual Rating', 5), ('Hal Sim Score', 3.6713485325498807)]),\n",
              "  ('বন্ধু', [('Manual Rating', 8), ('Hal Sim Score', 4.284600757909303)]),\n",
              "  ('অনুভূতি', [('Manual Rating', 8), ('Hal Sim Score', 4.670563980106609)])],\n",
              " 'মহিলা': [('নারী',\n",
              "   [('Manual Rating', 9.5), ('Hal Sim Score', 5.803749318533629)]),\n",
              "  ('স্ত্রী', [('Manual Rating', 8), ('Hal Sim Score', 4.3568122855823885)]),\n",
              "  ('নারীদের', [('Manual Rating', 9), ('Hal Sim Score', 2.995915999982853)])],\n",
              " 'মুদ্রা': [('ডলার',\n",
              "   [('Manual Rating', 8), ('Hal Sim Score', 3.8908972020177535)]),\n",
              "  ('টাকা', [('Manual Rating', 9.5), ('Hal Sim Score', 1.953969531581976)]),\n",
              "  ('পাউন্ড', [('Manual Rating', 8), ('Hal Sim Score', 2.6353525156176283)]),\n",
              "  ('ব্যাংক', [('Manual Rating', 7), ('Hal Sim Score', 2.0756374716554706)]),\n",
              "  ('ইউরো', [('Manual Rating', 8), ('Hal Sim Score', 3.327139415748923)])],\n",
              " 'মুসলিম': [('ইসলাম',\n",
              "   [('Manual Rating', 8), ('Hal Sim Score', 6.028173300504454)]),\n",
              "  ('ধর্ম', [('Manual Rating', 8), ('Hal Sim Score', 4.173118039833941)]),\n",
              "  ('ভারত', [('Manual Rating', 6), ('Hal Sim Score', 3.937113852457453)]),\n",
              "  ('পাকিস্তান',\n",
              "   [('Manual Rating', 7.5), ('Hal Sim Score', 6.744857615271184)]),\n",
              "  ('ইসলামাবাদ', [('Manual Rating', 8), ('Hal Sim Score', 4.115685243352432)])],\n",
              " 'লাল': [('রক্ত', [('Manual Rating', 7), ('Hal Sim Score', 6.08660268583283)]),\n",
              "  ('গোলাপ', [('Manual Rating', 6), ('Hal Sim Score', 4.506356849432849)]),\n",
              "  ('ঠোঁট', [('Manual Rating', 6.1), ('Hal Sim Score', 5.5862147918061655)]),\n",
              "  ('সিঁদুর', [('Manual Rating', 6.9), ('Hal Sim Score', 5.178748440161629)]),\n",
              "  ('আগুন', [('Manual Rating', 6), ('Hal Sim Score', 6.320065735627171)])],\n",
              " 'লিটারেচার': [('সাহিত্য',\n",
              "   [('Manual Rating', 9), ('Hal Sim Score', 3.8570054754317464)]),\n",
              "  ('বই', [('Manual Rating', 7.5), ('Hal Sim Score', 2.138924437134091)]),\n",
              "  ('গল্প', [('Manual Rating', 7.8), ('Hal Sim Score', 3.755618231196003)]),\n",
              "  ('কাব্য', [('Manual Rating', 7.5), ('Hal Sim Score', 3.504575180858409)]),\n",
              "  ('উপন্যাস',\n",
              "   [('Manual Rating', 7.2), ('Hal Sim Score', 3.5090713765375714)])],\n",
              " 'শাসক': [('শাসকরা',\n",
              "   [('Manual Rating', 9.5), ('Hal Sim Score', 0.5091661201978426)]),\n",
              "  ('রাজ্যশাসক',\n",
              "   [('Manual Rating', 8), ('Hal Sim Score', 0.8281928056637544)])],\n",
              " 'শুরু': [('শেষ',\n",
              "   [('Manual Rating', 7), ('Hal Sim Score', 5.645634906101517)]),\n",
              "  ('ভোর', [('Manual Rating', 7), ('Hal Sim Score', 5.190440181936476)]),\n",
              "  ('আরম্ভ', [('Manual Rating', 9.5), ('Hal Sim Score', 6.739331776979702)]),\n",
              "  ('করা', [('Manual Rating', 6), ('Hal Sim Score', 4.840712373882142)])],\n",
              " 'সুন্দর': [('অপূর্ব',\n",
              "   [('Manual Rating', 8), ('Hal Sim Score', 7.148222239359222)]),\n",
              "  ('রূপ', [('Manual Rating', 7.5), ('Hal Sim Score', 8.236717376543606)]),\n",
              "  ('ছবি', [('Manual Rating', 7), ('Hal Sim Score', 8.316894893602983)]),\n",
              "  ('দৃশ্য', [('Manual Rating', 7.1), ('Hal Sim Score', 8.22740056541983)]),\n",
              "  ('প্রেম', [('Manual Rating', 6.8), ('Hal Sim Score', 7.0343721297791015)])],\n",
              " 'হতো': [('হচ্ছে',\n",
              "   [('Manual Rating', 9), ('Hal Sim Score', 1.35924574006971)]),\n",
              "  ('হয়', [('Manual Rating', 8), ('Hal Sim Score', 1.9761449505714634)]),\n",
              "  ('হলে', [('Manual Rating', 8.5), ('Hal Sim Score', 0.981092574526613)]),\n",
              "  ('হওয়ার', [('Manual Rating', 8), ('Hal Sim Score', 1.6090611888917028)]),\n",
              "  ('হবার', [('Manual Rating', 9), ('Hal Sim Score', 0.3911662897195578)]),\n",
              "  ('হলেও', [('Manual Rating', 8), ('Hal Sim Score', 1.7858057885884493)])]}"
            ]
          },
          "metadata": {
            "tags": []
          },
          "execution_count": 169
        }
      ]
    },
    {
      "cell_type": "markdown",
      "metadata": {
        "id": "zphqKsdDi_Do",
        "colab_type": "text"
      },
      "source": [
        "    So in some cases it worked very badly and some cases it worked very well. "
      ]
    },
    {
      "cell_type": "markdown",
      "metadata": {
        "id": "iySUG3FyhcGz",
        "colab_type": "text"
      },
      "source": [
        "    Toughest job was to read the data and applying some functions on the data for preprocessing.(On my system It was challenging, but in colab it will be much easier). But it was also a good learning.\n",
        "    Got idea about creating word embeddings. Though it was a very basic approach.\n",
        "    Working in local language was really interesting as we tried to do something different than usual and in this process I learned many things."
      ]
    },
    {
      "cell_type": "code",
      "metadata": {
        "id": "JRA46veu1ril",
        "colab_type": "code",
        "colab": {}
      },
      "source": [
        ""
      ],
      "execution_count": 0,
      "outputs": []
    }
  ]
}