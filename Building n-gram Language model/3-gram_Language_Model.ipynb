{
  "nbformat": 4,
  "nbformat_minor": 0,
  "metadata": {
    "kernelspec": {
      "display_name": "Python 3",
      "language": "python",
      "name": "python3"
    },
    "language_info": {
      "codemirror_mode": {
        "name": "ipython",
        "version": 3
      },
      "file_extension": ".py",
      "mimetype": "text/x-python",
      "name": "python",
      "nbconvert_exporter": "python",
      "pygments_lexer": "ipython3",
      "version": "3.7.3"
    },
    "colab": {
      "name": "Text_analytics_Assignment 4.ipynb",
      "provenance": [],
      "collapsed_sections": []
    }
  },
  "cells": [
    {
      "cell_type": "markdown",
      "metadata": {
        "id": "UJ1JracjdqYl",
        "colab_type": "text"
      },
      "source": [
        "    Here I worked on the Bengali Language. Preproceesng work is done in separate notebook.\n",
        "\n",
        "    Here I have worked with the whole Corpus, which is around 5 crore tokens.\n",
        "    Here the task was to develop a language model using 3-grams."
      ]
    },
    {
      "cell_type": "markdown",
      "metadata": {
        "id": "alw-FQaFvQZT",
        "colab_type": "text"
      },
      "source": [
        "###Importing Required Libraries"
      ]
    },
    {
      "cell_type": "code",
      "metadata": {
        "id": "a6Yy0oSlIDxc",
        "colab_type": "code",
        "colab": {}
      },
      "source": [
        "import pandas as pd\n",
        "import numpy as np\n",
        "from collections import Counter, defaultdict\n",
        "from nltk import bigrams, trigrams\n",
        "import json\n",
        "import time\n",
        "from random import randint\n",
        "from IPython.core.interactiveshell import InteractiveShell\n",
        "InteractiveShell.ast_node_interactivity = \"all\"\n",
        "import warnings\n",
        "warnings.filterwarnings(\"ignore\")"
      ],
      "execution_count": 0,
      "outputs": []
    },
    {
      "cell_type": "markdown",
      "metadata": {
        "id": "ynuYhUJw_RGy",
        "colab_type": "text"
      },
      "source": [
        "### Mount Google Drive\n"
      ]
    },
    {
      "cell_type": "code",
      "metadata": {
        "id": "g0FWfuMpI35R",
        "colab_type": "code",
        "outputId": "36879963-ab2d-41ff-900e-2fd909ad25f8",
        "colab": {
          "base_uri": "https://localhost:8080/",
          "height": 34
        }
      },
      "source": [
        "from google.colab import drive\n",
        "drive.mount('/content/drive')"
      ],
      "execution_count": 0,
      "outputs": [
        {
          "output_type": "stream",
          "text": [
            "Drive already mounted at /content/drive; to attempt to forcibly remount, call drive.mount(\"/content/drive\", force_remount=True).\n"
          ],
          "name": "stdout"
        }
      ]
    },
    {
      "cell_type": "markdown",
      "metadata": {
        "id": "yrj49HGnvboQ",
        "colab_type": "text"
      },
      "source": [
        "### Reading the Bengali Corpus\n",
        "\n",
        "\n",
        "\n"
      ]
    },
    {
      "cell_type": "code",
      "metadata": {
        "id": "52K29i6gJwfc",
        "colab_type": "code",
        "colab": {}
      },
      "source": [
        "## Reading the corpus\n",
        "corpus=open(\"/content/drive/My Drive/Corpus.txt\",encoding=\"utf-8\").readlines()\n",
        "data=corpus[0]"
      ],
      "execution_count": 0,
      "outputs": []
    },
    {
      "cell_type": "code",
      "metadata": {
        "id": "kO4hsqgYKwBt",
        "colab_type": "code",
        "outputId": "59c746a0-898d-4dba-d55b-60dc55fb9682",
        "colab": {
          "base_uri": "https://localhost:8080/",
          "height": 34
        }
      },
      "source": [
        "len(data)  ## length of the whole string"
      ],
      "execution_count": 0,
      "outputs": [
        {
          "output_type": "execute_result",
          "data": {
            "text/plain": [
              "206406578"
            ]
          },
          "metadata": {
            "tags": []
          },
          "execution_count": 4
        }
      ]
    },
    {
      "cell_type": "code",
      "metadata": {
        "id": "JJ5QQiEjLvpK",
        "colab_type": "code",
        "colab": {}
      },
      "source": [
        "## creating a list with all the tokens which are in the sequence as in corpus\n",
        "splitted_data=data.split() # Working with all the tokens"
      ],
      "execution_count": 0,
      "outputs": []
    },
    {
      "cell_type": "markdown",
      "metadata": {
        "id": "uVkv9SpiIDyU",
        "colab_type": "text"
      },
      "source": [
        "###Creating a placeholder for model"
      ]
    },
    {
      "cell_type": "code",
      "metadata": {
        "id": "R-GwMlm8IDyW",
        "colab_type": "code",
        "colab": {}
      },
      "source": [
        "model = defaultdict(lambda: defaultdict(lambda: 0))"
      ],
      "execution_count": 0,
      "outputs": []
    },
    {
      "cell_type": "markdown",
      "metadata": {
        "id": "zsWVjglLIDye",
        "colab_type": "text"
      },
      "source": [
        "###Co-occurance frequency"
      ]
    },
    {
      "cell_type": "code",
      "metadata": {
        "id": "mVy633coIDyg",
        "colab_type": "code",
        "colab": {}
      },
      "source": [
        "## Stroing the frequency for a word to occur after given two words\n",
        "for w1, w2, w3 in trigrams(splitted_data, pad_right=True, pad_left=True):\n",
        "    model[(w1, w2)][w3] += 1"
      ],
      "execution_count": 0,
      "outputs": []
    },
    {
      "cell_type": "markdown",
      "metadata": {
        "id": "qZOESIuFIDyp",
        "colab_type": "text"
      },
      "source": [
        "### Converting the frequencies into probabilities"
      ]
    },
    {
      "cell_type": "code",
      "metadata": {
        "id": "aVHQIgETIDyq",
        "colab_type": "code",
        "colab": {}
      },
      "source": [
        "for w1_w2 in model:\n",
        "    ## Total count of words occuring after two given words \n",
        "    total_count = float(sum(model[w1_w2].values()))\n",
        "    for w3 in model[w1_w2]:\n",
        "        ## Convert into probabilities\n",
        "        model[w1_w2][w3] /= total_count"
      ],
      "execution_count": 0,
      "outputs": []
    },
    {
      "cell_type": "markdown",
      "metadata": {
        "id": "RhVHVKlswX1-",
        "colab_type": "text"
      },
      "source": [
        "\n",
        "### Function to get the next most probable word given the previous two words\n",
        "\n",
        "\n"
      ]
    },
    {
      "cell_type": "code",
      "metadata": {
        "id": "K62GGWMyNK7y",
        "colab_type": "code",
        "colab": {}
      },
      "source": [
        "## We want to get the next most probable word given the previous two words\n",
        "def next_max_probable_word(dic):\n",
        "  value=[0]     ##probability value\n",
        "  for i in dic.keys():\n",
        "    if dic[i]>value[0]:\n",
        "      next_word,value=[i],[dic[i]]    ## key and Probability value getting updated if a key with more probability is encountered \n",
        "    ## In case more than one word exists with maximum probability \n",
        "    elif dic[i]==value[0]: \n",
        "      value.append(dic[i])\n",
        "      next_word.append(i)\n",
        "    else:\n",
        "      pass \n",
        "  ## next_word can be a list in case more than one word exists with maximum probability \n",
        "  ## Choose randomly among words with same maximum probability   \n",
        "  if len(next_word)>1:\n",
        "    r = randint(0, len(next_word)-1)   \n",
        "    return next_word[r] \n",
        "  return next_word[0]"
      ],
      "execution_count": 0,
      "outputs": []
    },
    {
      "cell_type": "markdown",
      "metadata": {
        "id": "58SIXxwZ_e3Y",
        "colab_type": "text"
      },
      "source": [
        "## Examples to check how the function works\n"
      ]
    },
    {
      "cell_type": "code",
      "metadata": {
        "id": "Ep9XSw5MVqHo",
        "colab_type": "code",
        "outputId": "bdce6bf4-8aac-426f-df9b-c6dbc87d164f",
        "colab": {
          "base_uri": "https://localhost:8080/",
          "height": 51
        }
      },
      "source": [
        "print('[\"গ্রেপ্তার\",\"করেন\"]:',next_max_probable_word(model[\"গ্রেপ্তার\",\"করেন\"]))\n",
        "print('[\"বাংলাদেশ\", \"জাতীয়তাবাদী\"]:',next_max_probable_word(model[\"বাংলাদেশ\", \"জাতীয়তাবাদী\"]))"
      ],
      "execution_count": 0,
      "outputs": [
        {
          "output_type": "stream",
          "text": [
            "[\"গ্রেপ্তার\",\"করেন\"]: এবং\n",
            "[\"বাংলাদেশ\", \"জাতীয়তাবাদী\"]: দলের\n"
          ],
          "name": "stdout"
        }
      ]
    },
    {
      "cell_type": "markdown",
      "metadata": {
        "id": "OknQDppewa5r",
        "colab_type": "text"
      },
      "source": [
        "### Function for Generating Sentence\n",
        "\n",
        "\n",
        "\n"
      ]
    },
    {
      "cell_type": "code",
      "metadata": {
        "id": "_JiQjNzNlNtB",
        "colab_type": "code",
        "colab": {}
      },
      "source": [
        "## The function takes a text and length(length of the sentence we want) and generates the sentence \n",
        "\n",
        "def generate_sentence(text,length):\n",
        "  sentence=text+\" \"\n",
        "  ## Given a text we take the last two words and based on that the next words are generated \n",
        "  word_1=sentence.split()[-2]\n",
        "  word_2=sentence.split()[-1]\n",
        "  while length>=0:\n",
        "    try:\n",
        "        ## Using the function to generate the next max probable word\n",
        "        generated_word= next_max_probable_word(model[word_1, word_2])\n",
        "        sentence += generated_word+ \" \"\n",
        "        word_1 = word_2\n",
        "        word_2 = generated_word\n",
        "        length -= 1\n",
        "    except:\n",
        "        break\n",
        "  return sentence      "
      ],
      "execution_count": 0,
      "outputs": []
    },
    {
      "cell_type": "markdown",
      "metadata": {
        "id": "Jq1LxpwwclE9",
        "colab_type": "text"
      },
      "source": [
        "###Some examples of generated setences"
      ]
    },
    {
      "cell_type": "code",
      "metadata": {
        "id": "swEz-SLlsZPZ",
        "colab_type": "code",
        "outputId": "4048d784-a1c9-4813-b906-185f0bbc7e20",
        "colab": {
          "base_uri": "https://localhost:8080/",
          "height": 34
        }
      },
      "source": [
        "generate_sentence(\"বাঙালিদের উপর\",25)    ## Generated sentence is not good"
      ],
      "execution_count": 0,
      "outputs": [
        {
          "output_type": "execute_result",
          "data": {
            "text/plain": [
              "'বাঙালিদের উপর অত্যাচার শুরু করে দুইটি থাকে তাদের পয়েন্টে এবং পয়েন্টে দুইজন খেলোয়াড় তাদের গুটিসমূহ বিপরীত দিকে পয়েন্ট থেকে পর্যন্তকে বলা হয় মাঝপয়েন্ট অবস্থান্তর পয়েন্ট থেকে পর্যন্তকে বলা '"
            ]
          },
          "metadata": {
            "tags": []
          },
          "execution_count": 16
        }
      ]
    },
    {
      "cell_type": "code",
      "metadata": {
        "id": "3AVtNReZIDy2",
        "colab_type": "code",
        "outputId": "45365cfa-62cb-4971-abbe-4c6303ff9e55",
        "colab": {
          "base_uri": "https://localhost:8080/",
          "height": 34
        }
      },
      "source": [
        "generate_sentence(\"মুক্ত নাগরিককে রাষ্ট্রীয় সিদ্ধান্ত\",25)   ## Generated sentence is good"
      ],
      "execution_count": 0,
      "outputs": [
        {
          "output_type": "execute_result",
          "data": {
            "text/plain": [
              "'মুক্ত নাগরিককে রাষ্ট্রীয় সিদ্ধান্ত নেয়ার ক্ষেত্রে এটিই মূল চেম্বার এখানে সরু হাঁটার রাস্তা সালের হিসাবে এটি ব্যবহার করা হয় তিনি একজন সাবাহ ছিলেন সাবাহ বিন জাবের সাবাহদের কূটনীতি প্রতিবেশি জাতিদের '"
            ]
          },
          "metadata": {
            "tags": []
          },
          "execution_count": 20
        }
      ]
    },
    {
      "cell_type": "code",
      "metadata": {
        "id": "OpPnKBYDh2Xu",
        "colab_type": "code",
        "outputId": "293d52b9-ed8d-4938-eb0a-8867ecadf9b1",
        "colab": {
          "base_uri": "https://localhost:8080/",
          "height": 54
        }
      },
      "source": [
        "generate_sentence(\"জাতীয়তাবাদী দলের রাজনীতিবিদ\",30)   ## Genrated sentence is moderately good"
      ],
      "execution_count": 0,
      "outputs": [
        {
          "output_type": "execute_result",
          "data": {
            "text/plain": [
              "'জাতীয়তাবাদী দলের রাজনীতিবিদ এবং সাবেক সংসদ সদস্য নির্বাচিত হয়েছিলেন তিনি সালে বাংলাদেশ সরকার তাকে বীর প্রতীক খেতাব প্রদান করে জন্ম শিক্ষাজীবন কর্মজীবন রাজনৈতিক জীবন সালে তিনি তার প্রথম শ্রেণীর ক্রিকেটে অভিষেক ঘটে তার এরপর '"
            ]
          },
          "metadata": {
            "tags": []
          },
          "execution_count": 21
        }
      ]
    },
    {
      "cell_type": "code",
      "metadata": {
        "id": "XLHRWZykisHz",
        "colab_type": "code",
        "outputId": "7ef0603e-98c9-459c-bd61-b29983145dc2",
        "colab": {
          "base_uri": "https://localhost:8080/",
          "height": 54
        }
      },
      "source": [
        "generate_sentence(\"উনবংশ শতাব্দীর\",30)  ## Generated sentence is pretty good"
      ],
      "execution_count": 0,
      "outputs": [
        {
          "output_type": "execute_result",
          "data": {
            "text/plain": [
              "'উনবংশ শতাব্দীর মধ্যভাগে তিব্বতের খাম্স অঞ্চলে অবস্থিত একটি প্রাচীন স্থাপনা এটি মূলত একটি ছোট শহর যেটি বাংলাদেশের টাঙ্গাইল জেলার অন্তর্গত একটি ইউনিয়ন আয়তন জনসংখ্যা অবস্থান সীমানা চট্টগ্রাম সিটি কর্পোরেশনের আওতাধীন একটি ইউনিয়ন আয়তন '"
            ]
          },
          "metadata": {
            "tags": []
          },
          "execution_count": 19
        }
      ]
    },
    {
      "cell_type": "markdown",
      "metadata": {
        "id": "9XejKTOh_C54",
        "colab_type": "text"
      },
      "source": [
        "    Different types of examples are shown.The results are not satisfactory in some cases. Though in some cases the generated sentences are making sense and pretty good. But in some cases the results are awful."
      ]
    },
    {
      "cell_type": "code",
      "metadata": {
        "id": "RY3vkrcu_J4F",
        "colab_type": "code",
        "colab": {}
      },
      "source": [
        ""
      ],
      "execution_count": 0,
      "outputs": []
    }
  ]
}