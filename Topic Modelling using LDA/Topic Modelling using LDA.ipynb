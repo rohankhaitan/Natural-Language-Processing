{
 "cells": [
  {
   "cell_type": "markdown",
   "metadata": {},
   "source": [
    "# AML Project : LDA Topic recommender system"
   ]
  },
  {
   "cell_type": "markdown",
   "metadata": {},
   "source": [
    "Here we perform **LDA** on a documents containing questions from Economics so that we may find the most important topics from where questions have been asked, without physically going through all the questions.  "
   ]
  },
  {
   "cell_type": "code",
   "execution_count": 1,
   "metadata": {},
   "outputs": [
    {
     "data": {
      "text/html": [
       "<script type=\"text/javascript\">window.PlotlyConfig = {MathJaxConfig: 'local'};</script><script type=\"text/javascript\">if (window.MathJax) {MathJax.Hub.Config({SVG: {font: \"STIX-Web\"}});}</script><script>requirejs.config({paths: { 'plotly': ['https://cdn.plot.ly/plotly-latest.min']},});if(!window._Plotly) {require(['plotly'],function(plotly) {window._Plotly=plotly;});}</script>"
      ],
      "text/vnd.plotly.v1+html": [
       "<script type=\"text/javascript\">window.PlotlyConfig = {MathJaxConfig: 'local'};</script><script type=\"text/javascript\">if (window.MathJax) {MathJax.Hub.Config({SVG: {font: \"STIX-Web\"}});}</script><script>requirejs.config({paths: { 'plotly': ['https://cdn.plot.ly/plotly-latest.min']},});if(!window._Plotly) {require(['plotly'],function(plotly) {window._Plotly=plotly;});}</script>"
      ]
     },
     "metadata": {},
     "output_type": "display_data"
    }
   ],
   "source": [
    "import os\n",
    "import numpy as np\n",
    "from plotly.offline import download_plotlyjs, init_notebook_mode, plot, iplot\n",
    "import plotly as py\n",
    "import plotly.graph_objs as go\n",
    "\n",
    "init_notebook_mode(connected=True) \n",
    "\n",
    "from gensim import corpora, models, similarities\n",
    "\n",
    "import warnings\n",
    "warnings.filterwarnings(\"ignore\")"
   ]
  },
  {
   "cell_type": "code",
   "execution_count": 2,
   "metadata": {},
   "outputs": [],
   "source": [
    "import os\n",
    "os.chdir(\"D:\\Data\\Data_AML\")"
   ]
  },
  {
   "cell_type": "code",
   "execution_count": 3,
   "metadata": {},
   "outputs": [],
   "source": [
    "import pandas as pd\n",
    "data1 = pd.read_csv(\"Data1\", sep='delimiter', header=None)\n",
    "data2 = pd.read_csv(\"Data3\", sep='delimiter', header=None)"
   ]
  },
  {
   "cell_type": "code",
   "execution_count": 4,
   "metadata": {},
   "outputs": [
    {
     "data": {
      "text/html": [
       "<div>\n",
       "<style scoped>\n",
       "    .dataframe tbody tr th:only-of-type {\n",
       "        vertical-align: middle;\n",
       "    }\n",
       "\n",
       "    .dataframe tbody tr th {\n",
       "        vertical-align: top;\n",
       "    }\n",
       "\n",
       "    .dataframe thead th {\n",
       "        text-align: right;\n",
       "    }\n",
       "</style>\n",
       "<table border=\"1\" class=\"dataframe\">\n",
       "  <thead>\n",
       "    <tr style=\"text-align: right;\">\n",
       "      <th></th>\n",
       "      <th>0</th>\n",
       "    </tr>\n",
       "  </thead>\n",
       "  <tbody>\n",
       "    <tr>\n",
       "      <th>0</th>\n",
       "      <td>A firm in a perfectly competitive market in th...</td>\n",
       "    </tr>\n",
       "    <tr>\n",
       "      <th>1</th>\n",
       "      <td>In a competitive market, in equilibrium, total...</td>\n",
       "    </tr>\n",
       "    <tr>\n",
       "      <th>2</th>\n",
       "      <td>A new technology for producing computer chips ...</td>\n",
       "    </tr>\n",
       "    <tr>\n",
       "      <th>3</th>\n",
       "      <td>Negative production externality is the result of</td>\n",
       "    </tr>\n",
       "    <tr>\n",
       "      <th>4</th>\n",
       "      <td>A lumpsum tax</td>\n",
       "    </tr>\n",
       "  </tbody>\n",
       "</table>\n",
       "</div>"
      ],
      "text/plain": [
       "                                                   0\n",
       "0  A firm in a perfectly competitive market in th...\n",
       "1  In a competitive market, in equilibrium, total...\n",
       "2  A new technology for producing computer chips ...\n",
       "3   Negative production externality is the result of\n",
       "4                                      A lumpsum tax"
      ]
     },
     "execution_count": 4,
     "metadata": {},
     "output_type": "execute_result"
    }
   ],
   "source": [
    "data = pd.merge(data1, data2, how = 'outer')\n",
    "data.head()"
   ]
  },
  {
   "cell_type": "code",
   "execution_count": 5,
   "metadata": {},
   "outputs": [
    {
     "data": {
      "text/plain": [
       "range(0, 59)"
      ]
     },
     "execution_count": 5,
     "metadata": {},
     "output_type": "execute_result"
    }
   ],
   "source": [
    "range(len(data))"
   ]
  },
  {
   "cell_type": "code",
   "execution_count": 6,
   "metadata": {},
   "outputs": [
    {
     "data": {
      "text/plain": [
       "'A new technology for producing computer chips invented by Intel Corporation is an example of: Which of the following is an example of public good'"
      ]
     },
     "execution_count": 6,
     "metadata": {},
     "output_type": "execute_result"
    }
   ],
   "source": [
    "data[0][2]"
   ]
  },
  {
   "cell_type": "code",
   "execution_count": 7,
   "metadata": {},
   "outputs": [
    {
     "data": {
      "text/plain": [
       "['A firm in a perfectly competitive market in the short run making losses but continuing in production. This implies that?',\n",
       " 'In a competitive market, in equilibrium, total surplus can be increased by',\n",
       " 'A new technology for producing computer chips invented by Intel Corporation is an example of: Which of the following is an example of public good',\n",
       " 'Negative production externality is the result of',\n",
       " 'A lumpsum tax']"
      ]
     },
     "execution_count": 7,
     "metadata": {},
     "output_type": "execute_result"
    }
   ],
   "source": [
    "corpus = []\n",
    "a = []\n",
    "for i in range(len(data1)):\n",
    "        a = data[0][i]\n",
    "        corpus.append(a)\n",
    "        \n",
    "corpus[0:5]"
   ]
  },
  {
   "cell_type": "code",
   "execution_count": 8,
   "metadata": {},
   "outputs": [
    {
     "data": {
      "text/html": [
       "<div>\n",
       "<style scoped>\n",
       "    .dataframe tbody tr th:only-of-type {\n",
       "        vertical-align: middle;\n",
       "    }\n",
       "\n",
       "    .dataframe tbody tr th {\n",
       "        vertical-align: top;\n",
       "    }\n",
       "\n",
       "    .dataframe thead th {\n",
       "        text-align: right;\n",
       "    }\n",
       "</style>\n",
       "<table border=\"1\" class=\"dataframe\">\n",
       "  <thead>\n",
       "    <tr style=\"text-align: right;\">\n",
       "      <th></th>\n",
       "      <th>0</th>\n",
       "    </tr>\n",
       "  </thead>\n",
       "  <tbody>\n",
       "    <tr>\n",
       "      <th>0</th>\n",
       "      <td>A firm in a perfectly competitive market in th...</td>\n",
       "    </tr>\n",
       "    <tr>\n",
       "      <th>1</th>\n",
       "      <td>In a competitive market, in equilibrium, total...</td>\n",
       "    </tr>\n",
       "    <tr>\n",
       "      <th>2</th>\n",
       "      <td>A new technology for producing computer chips ...</td>\n",
       "    </tr>\n",
       "    <tr>\n",
       "      <th>3</th>\n",
       "      <td>Negative production externality is the result of</td>\n",
       "    </tr>\n",
       "    <tr>\n",
       "      <th>4</th>\n",
       "      <td>A lumpsum tax</td>\n",
       "    </tr>\n",
       "    <tr>\n",
       "      <th>5</th>\n",
       "      <td>the Stackelberg model of duopoly, if both the ...</td>\n",
       "    </tr>\n",
       "    <tr>\n",
       "      <th>6</th>\n",
       "      <td>Purchasing Power Parity (PPP) is used in the c...</td>\n",
       "    </tr>\n",
       "    <tr>\n",
       "      <th>7</th>\n",
       "      <td>Difference between GDP and GNP is</td>\n",
       "    </tr>\n",
       "    <tr>\n",
       "      <th>8</th>\n",
       "      <td>Suppose annual growth rate of Nominal GDP, Rea...</td>\n",
       "    </tr>\n",
       "    <tr>\n",
       "      <th>9</th>\n",
       "      <td>Money multiplier determines</td>\n",
       "    </tr>\n",
       "  </tbody>\n",
       "</table>\n",
       "</div>"
      ],
      "text/plain": [
       "                                                   0\n",
       "0  A firm in a perfectly competitive market in th...\n",
       "1  In a competitive market, in equilibrium, total...\n",
       "2  A new technology for producing computer chips ...\n",
       "3   Negative production externality is the result of\n",
       "4                                      A lumpsum tax\n",
       "5  the Stackelberg model of duopoly, if both the ...\n",
       "6  Purchasing Power Parity (PPP) is used in the c...\n",
       "7                  Difference between GDP and GNP is\n",
       "8  Suppose annual growth rate of Nominal GDP, Rea...\n",
       "9                        Money multiplier determines"
      ]
     },
     "execution_count": 8,
     "metadata": {},
     "output_type": "execute_result"
    }
   ],
   "source": [
    "import pandas as pd\n",
    "#quest = pd.read_csv(data, encoding='latin1')\n",
    "quest=data\n",
    "quest.head(10)"
   ]
  },
  {
   "cell_type": "code",
   "execution_count": 9,
   "metadata": {},
   "outputs": [
    {
     "name": "stdout",
     "output_type": "stream",
     "text": [
      "Folder \"C:\\Users\\ASUS\\AppData\\Local\\Temp\" will be used to save temporary dictionary and corpus.\n"
     ]
    }
   ],
   "source": [
    "import gensim\n",
    "import logging\n",
    "import tempfile\n",
    "\n",
    "TEMP_FOLDER = tempfile.gettempdir()\n",
    "print('Folder \"{}\" will be used to save temporary dictionary and corpus.'.format(TEMP_FOLDER))\n",
    "\n",
    "from gensim import corpora\n",
    "logging.basicConfig(format='%(asctime)s : %(levelname)s : %(message)s', level=logging.INFO)"
   ]
  },
  {
   "cell_type": "code",
   "execution_count": 10,
   "metadata": {},
   "outputs": [],
   "source": [
    "from nltk.corpus import stopwords\n",
    "from string import punctuation\n",
    "\n",
    "# remove common words and tokenize\n",
    "list1 = ['RT','rt']\n",
    "stoplist = stopwords.words('english') + list(punctuation) + list1\n",
    "\n",
    "texts = [[word for word in str(document).lower().split() if word not in stoplist] for document in corpus]"
   ]
  },
  {
   "cell_type": "code",
   "execution_count": 11,
   "metadata": {},
   "outputs": [
    {
     "name": "stderr",
     "output_type": "stream",
     "text": [
      "2019-03-08 16:02:26,511 : INFO : adding document #0 to Dictionary(0 unique tokens: [])\n",
      "2019-03-08 16:02:26,511 : INFO : built Dictionary(187 unique tokens: ['competitive', 'continuing', 'firm', 'implies', 'losses']...) from 32 documents (total 234 corpus positions)\n",
      "2019-03-08 16:02:26,511 : INFO : saving Dictionary object under C:\\Users\\ASUS\\AppData\\Local\\Temp\\quest.dict, separately None\n",
      "2019-03-08 16:02:26,511 : INFO : saved C:\\Users\\ASUS\\AppData\\Local\\Temp\\quest.dict\n"
     ]
    }
   ],
   "source": [
    "dictionary = corpora.Dictionary(texts)\n",
    "dictionary.save(os.path.join(TEMP_FOLDER, 'quest.dict'))  # store the dictionary, for future reference\n",
    "#print(dictionary)"
   ]
  },
  {
   "cell_type": "code",
   "execution_count": 12,
   "metadata": {},
   "outputs": [
    {
     "name": "stderr",
     "output_type": "stream",
     "text": [
      "2019-03-08 16:02:27,292 : INFO : storing corpus in Matrix Market format to C:\\Users\\ASUS\\AppData\\Local\\Temp\\quest.mm\n",
      "2019-03-08 16:02:27,292 : INFO : saving sparse matrix to C:\\Users\\ASUS\\AppData\\Local\\Temp\\quest.mm\n",
      "2019-03-08 16:02:27,292 : INFO : PROGRESS: saving document #0\n",
      "2019-03-08 16:02:27,307 : INFO : saved 32x187 matrix, density=3.710% (222/5984)\n",
      "2019-03-08 16:02:27,307 : INFO : saving MmCorpus index to C:\\Users\\ASUS\\AppData\\Local\\Temp\\quest.mm.index\n"
     ]
    }
   ],
   "source": [
    "corpus = [dictionary.doc2bow(text) for text in texts]\n",
    "corpora.MmCorpus.serialize(os.path.join(TEMP_FOLDER, 'quest.mm'), corpus)  # store to disk, for later use"
   ]
  },
  {
   "cell_type": "code",
   "execution_count": 13,
   "metadata": {},
   "outputs": [],
   "source": [
    "from gensim import corpora, models, similarities"
   ]
  },
  {
   "cell_type": "code",
   "execution_count": 14,
   "metadata": {},
   "outputs": [
    {
     "name": "stderr",
     "output_type": "stream",
     "text": [
      "2019-03-08 16:02:28,792 : INFO : collecting document frequencies\n",
      "2019-03-08 16:02:28,792 : INFO : PROGRESS: processing document #0\n",
      "2019-03-08 16:02:28,792 : INFO : calculating IDF weights for 32 documents and 186 features (222 matrix non-zeros)\n"
     ]
    }
   ],
   "source": [
    "tfidf = models.TfidfModel(corpus) # step 1 -- initialize a model"
   ]
  },
  {
   "cell_type": "code",
   "execution_count": 15,
   "metadata": {},
   "outputs": [],
   "source": [
    "corpus_tfidf = tfidf[corpus]  # step 2 -- use the model to transform vectors"
   ]
  },
  {
   "cell_type": "code",
   "execution_count": 16,
   "metadata": {},
   "outputs": [
    {
     "name": "stderr",
     "output_type": "stream",
     "text": [
      "2019-03-08 16:02:30,167 : INFO : using symmetric alpha at 0.2\n",
      "2019-03-08 16:02:30,167 : INFO : using symmetric eta at 0.2\n",
      "2019-03-08 16:02:30,182 : INFO : using serial LDA version on this node\n",
      "2019-03-08 16:02:30,182 : INFO : running online (single-pass) LDA training, 5 topics, 1 passes over the supplied corpus of 32 documents, updating model once every 32 documents, evaluating perplexity every 32 documents, iterating 50x with a convergence threshold of 0.001000\n",
      "2019-03-08 16:02:30,182 : WARNING : too few updates, training might not converge; consider increasing the number of passes or iterations to improve accuracy\n",
      "2019-03-08 16:02:30,197 : INFO : -8.768 per-word bound, 435.8 perplexity estimate based on a held-out corpus of 32 documents with 234 words\n",
      "2019-03-08 16:02:30,197 : INFO : PROGRESS: pass 0, at document #32/32\n",
      "2019-03-08 16:02:30,229 : INFO : topic #0 (0.200): 0.038*\"according\" + 0.038*\"manufacturing\" + 0.021*\"gdp\" + 0.020*\"indiaâ€™s\" + 0.020*\"year\" + 0.020*\"share\" + 0.020*\"2022\" + 0.020*\"announced\" + 0.020*\"national\" + 0.020*\"targeted\"\n",
      "2019-03-08 16:02:30,229 : INFO : topic #1 (0.200): 0.026*\"factor\" + 0.026*\"money\" + 0.022*\"domestic\" + 0.014*\"according\" + 0.014*\"equal\" + 0.014*\"production\" + 0.014*\"india\" + 0.014*\"marginal\" + 0.014*\"total\" + 0.014*\"product\"\n",
      "2019-03-08 16:02:30,229 : INFO : topic #2 (0.200): 0.022*\"competitive\" + 0.019*\"growth\" + 0.016*\"year\" + 0.014*\"respectively\" + 0.013*\"real\" + 0.013*\"rate\" + 0.013*\"gdp,\" + 0.012*\"gdp\" + 0.012*\"money\" + 0.012*\"losses\"\n",
      "2019-03-08 16:02:30,229 : INFO : topic #3 (0.200): 0.030*\"source\" + 0.030*\"india\" + 0.029*\"gdp\" + 0.028*\"rate\" + 0.016*\"growth\" + 0.016*\"country\" + 0.016*\"receives\" + 0.016*\"much\" + 0.016*\"globalisation\" + 0.016*\"revenue\"\n",
      "2019-03-08 16:02:30,229 : INFO : topic #4 (0.200): 0.021*\"example\" + 0.021*\"investment\" + 0.021*\"deficit\" + 0.021*\"interest\" + 0.021*\"according\" + 0.016*\"overall\" + 0.016*\"increases\" + 0.012*\"tax\" + 0.012*\"public\" + 0.012*\"multiplier\"\n",
      "2019-03-08 16:02:30,229 : INFO : topic diff=3.036496, rho=1.000000\n"
     ]
    }
   ],
   "source": [
    "total_topics = 5\n",
    "lda = models.LdaModel(corpus, id2word=dictionary, num_topics=total_topics)\n",
    "corpus_lda = lda[corpus_tfidf] # create a double wrapper over the original corpus: bow->tfidf->fold-in-lsi\n"
   ]
  },
  {
   "cell_type": "code",
   "execution_count": 17,
   "metadata": {},
   "outputs": [
    {
     "data": {
      "text/plain": [
       "[(0,\n",
       "  '0.038*\"according\" + 0.038*\"manufacturing\" + 0.021*\"gdp\" + 0.020*\"indiaâ€™s\" + 0.020*\"year\"'),\n",
       " (1,\n",
       "  '0.026*\"factor\" + 0.026*\"money\" + 0.022*\"domestic\" + 0.014*\"according\" + 0.014*\"equal\"'),\n",
       " (2,\n",
       "  '0.022*\"competitive\" + 0.019*\"growth\" + 0.016*\"year\" + 0.014*\"respectively\" + 0.013*\"real\"'),\n",
       " (3,\n",
       "  '0.030*\"source\" + 0.030*\"india\" + 0.029*\"gdp\" + 0.028*\"rate\" + 0.016*\"growth\"'),\n",
       " (4,\n",
       "  '0.021*\"example\" + 0.021*\"investment\" + 0.021*\"deficit\" + 0.021*\"interest\" + 0.021*\"according\"')]"
      ]
     },
     "execution_count": 17,
     "metadata": {},
     "output_type": "execute_result"
    }
   ],
   "source": [
    "lda.show_topics(total_topics,5)"
   ]
  },
  {
   "cell_type": "code",
   "execution_count": 18,
   "metadata": {},
   "outputs": [],
   "source": [
    "from collections import OrderedDict\n",
    "\n",
    "data_lda = {i: OrderedDict(lda.show_topic(i,25)) for i in range(total_topics)}"
   ]
  },
  {
   "cell_type": "code",
   "execution_count": 19,
   "metadata": {},
   "outputs": [
    {
     "name": "stdout",
     "output_type": "stream",
     "text": [
      "(103, 5)\n",
      "(5, 103)\n"
     ]
    }
   ],
   "source": [
    "import pandas as pd\n",
    "\n",
    "df_lda = pd.DataFrame(data_lda)\n",
    "print(df_lda.shape)\n",
    "df_lda = df_lda.fillna(0).T\n",
    "print(df_lda.shape)"
   ]
  },
  {
   "cell_type": "code",
   "execution_count": 20,
   "metadata": {},
   "outputs": [
    {
     "data": {
      "text/html": [
       "<div>\n",
       "<style scoped>\n",
       "    .dataframe tbody tr th:only-of-type {\n",
       "        vertical-align: middle;\n",
       "    }\n",
       "\n",
       "    .dataframe tbody tr th {\n",
       "        vertical-align: top;\n",
       "    }\n",
       "\n",
       "    .dataframe thead th {\n",
       "        text-align: right;\n",
       "    }\n",
       "</style>\n",
       "<table border=\"1\" class=\"dataframe\">\n",
       "  <thead>\n",
       "    <tr style=\"text-align: right;\">\n",
       "      <th></th>\n",
       "      <th>2011,</th>\n",
       "      <th>2022</th>\n",
       "      <th>according</th>\n",
       "      <th>announced</th>\n",
       "      <th>balance</th>\n",
       "      <th>borrowings</th>\n",
       "      <th>chips</th>\n",
       "      <th>competitive</th>\n",
       "      <th>computer</th>\n",
       "      <th>context</th>\n",
       "      <th>...</th>\n",
       "      <th>source</th>\n",
       "      <th>sum</th>\n",
       "      <th>targeted</th>\n",
       "      <th>tax</th>\n",
       "      <th>technology</th>\n",
       "      <th>that?</th>\n",
       "      <th>theorem,</th>\n",
       "      <th>total</th>\n",
       "      <th>used</th>\n",
       "      <th>year</th>\n",
       "    </tr>\n",
       "  </thead>\n",
       "  <tbody>\n",
       "    <tr>\n",
       "      <th>0</th>\n",
       "      <td>0.02048</td>\n",
       "      <td>0.020487</td>\n",
       "      <td>0.037576</td>\n",
       "      <td>0.020485</td>\n",
       "      <td>0.00000</td>\n",
       "      <td>0.003467</td>\n",
       "      <td>0.000000</td>\n",
       "      <td>0.000000</td>\n",
       "      <td>0.000000</td>\n",
       "      <td>0.00000</td>\n",
       "      <td>...</td>\n",
       "      <td>0.000000</td>\n",
       "      <td>0.000000</td>\n",
       "      <td>0.020481</td>\n",
       "      <td>0.02031</td>\n",
       "      <td>0.000000</td>\n",
       "      <td>0.000000</td>\n",
       "      <td>0.000000</td>\n",
       "      <td>0.000000</td>\n",
       "      <td>0.00000</td>\n",
       "      <td>0.020489</td>\n",
       "    </tr>\n",
       "    <tr>\n",
       "      <th>1</th>\n",
       "      <td>0.00000</td>\n",
       "      <td>0.000000</td>\n",
       "      <td>0.014285</td>\n",
       "      <td>0.000000</td>\n",
       "      <td>0.00000</td>\n",
       "      <td>0.000000</td>\n",
       "      <td>0.000000</td>\n",
       "      <td>0.000000</td>\n",
       "      <td>0.000000</td>\n",
       "      <td>0.01421</td>\n",
       "      <td>...</td>\n",
       "      <td>0.000000</td>\n",
       "      <td>0.014231</td>\n",
       "      <td>0.000000</td>\n",
       "      <td>0.00000</td>\n",
       "      <td>0.000000</td>\n",
       "      <td>0.000000</td>\n",
       "      <td>0.014231</td>\n",
       "      <td>0.014239</td>\n",
       "      <td>0.01421</td>\n",
       "      <td>0.000000</td>\n",
       "    </tr>\n",
       "    <tr>\n",
       "      <th>2</th>\n",
       "      <td>0.00000</td>\n",
       "      <td>0.000000</td>\n",
       "      <td>0.000000</td>\n",
       "      <td>0.000000</td>\n",
       "      <td>0.01179</td>\n",
       "      <td>0.000000</td>\n",
       "      <td>0.000000</td>\n",
       "      <td>0.021616</td>\n",
       "      <td>0.000000</td>\n",
       "      <td>0.00000</td>\n",
       "      <td>...</td>\n",
       "      <td>0.000000</td>\n",
       "      <td>0.000000</td>\n",
       "      <td>0.000000</td>\n",
       "      <td>0.00000</td>\n",
       "      <td>0.000000</td>\n",
       "      <td>0.011795</td>\n",
       "      <td>0.000000</td>\n",
       "      <td>0.011792</td>\n",
       "      <td>0.00000</td>\n",
       "      <td>0.015630</td>\n",
       "    </tr>\n",
       "    <tr>\n",
       "      <th>3</th>\n",
       "      <td>0.00000</td>\n",
       "      <td>0.000000</td>\n",
       "      <td>0.000000</td>\n",
       "      <td>0.000000</td>\n",
       "      <td>0.00000</td>\n",
       "      <td>0.000000</td>\n",
       "      <td>0.000000</td>\n",
       "      <td>0.000000</td>\n",
       "      <td>0.000000</td>\n",
       "      <td>0.00000</td>\n",
       "      <td>...</td>\n",
       "      <td>0.029564</td>\n",
       "      <td>0.000000</td>\n",
       "      <td>0.000000</td>\n",
       "      <td>0.00000</td>\n",
       "      <td>0.000000</td>\n",
       "      <td>0.000000</td>\n",
       "      <td>0.000000</td>\n",
       "      <td>0.000000</td>\n",
       "      <td>0.00000</td>\n",
       "      <td>0.000000</td>\n",
       "    </tr>\n",
       "    <tr>\n",
       "      <th>4</th>\n",
       "      <td>0.00000</td>\n",
       "      <td>0.000000</td>\n",
       "      <td>0.021356</td>\n",
       "      <td>0.000000</td>\n",
       "      <td>0.00000</td>\n",
       "      <td>0.000000</td>\n",
       "      <td>0.011686</td>\n",
       "      <td>0.000000</td>\n",
       "      <td>0.011682</td>\n",
       "      <td>0.00000</td>\n",
       "      <td>...</td>\n",
       "      <td>0.000000</td>\n",
       "      <td>0.000000</td>\n",
       "      <td>0.000000</td>\n",
       "      <td>0.01170</td>\n",
       "      <td>0.011684</td>\n",
       "      <td>0.000000</td>\n",
       "      <td>0.000000</td>\n",
       "      <td>0.000000</td>\n",
       "      <td>0.00000</td>\n",
       "      <td>0.000000</td>\n",
       "    </tr>\n",
       "  </tbody>\n",
       "</table>\n",
       "<p>5 rows × 103 columns</p>\n",
       "</div>"
      ],
      "text/plain": [
       "     2011,      2022  according  announced  balance  borrowings     chips  \\\n",
       "0  0.02048  0.020487   0.037576   0.020485  0.00000    0.003467  0.000000   \n",
       "1  0.00000  0.000000   0.014285   0.000000  0.00000    0.000000  0.000000   \n",
       "2  0.00000  0.000000   0.000000   0.000000  0.01179    0.000000  0.000000   \n",
       "3  0.00000  0.000000   0.000000   0.000000  0.00000    0.000000  0.000000   \n",
       "4  0.00000  0.000000   0.021356   0.000000  0.00000    0.000000  0.011686   \n",
       "\n",
       "   competitive  computer  context    ...       source       sum  targeted  \\\n",
       "0     0.000000  0.000000  0.00000    ...     0.000000  0.000000  0.020481   \n",
       "1     0.000000  0.000000  0.01421    ...     0.000000  0.014231  0.000000   \n",
       "2     0.021616  0.000000  0.00000    ...     0.000000  0.000000  0.000000   \n",
       "3     0.000000  0.000000  0.00000    ...     0.029564  0.000000  0.000000   \n",
       "4     0.000000  0.011682  0.00000    ...     0.000000  0.000000  0.000000   \n",
       "\n",
       "       tax  technology     that?  theorem,     total     used      year  \n",
       "0  0.02031    0.000000  0.000000  0.000000  0.000000  0.00000  0.020489  \n",
       "1  0.00000    0.000000  0.000000  0.014231  0.014239  0.01421  0.000000  \n",
       "2  0.00000    0.000000  0.011795  0.000000  0.011792  0.00000  0.015630  \n",
       "3  0.00000    0.000000  0.000000  0.000000  0.000000  0.00000  0.000000  \n",
       "4  0.01170    0.011684  0.000000  0.000000  0.000000  0.00000  0.000000  \n",
       "\n",
       "[5 rows x 103 columns]"
      ]
     },
     "execution_count": 20,
     "metadata": {},
     "output_type": "execute_result"
    }
   ],
   "source": [
    "df_lda"
   ]
  },
  {
   "cell_type": "code",
   "execution_count": 21,
   "metadata": {},
   "outputs": [
    {
     "data": {
      "image/png": "[encoded data removed]",
      "text/plain": [
       "<Figure size 864x864 with 4 Axes>"
      ]
     },
     "metadata": {
      "needs_background": "light"
     },
     "output_type": "display_data"
    }
   ],
   "source": [
    "import seaborn as sns\n",
    "import matplotlib.pyplot as plt\n",
    "%matplotlib inline\n",
    "\n",
    "g=sns.clustermap(df_lda.corr(), center=0, cmap=\"RdBu\", metric='cosine', linewidths=.75, figsize=(12, 12))\n",
    "plt.setp(g.ax_heatmap.yaxis.get_majorticklabels(), rotation=0)\n",
    "plt.show()\n",
    "#plt.setp(ax_heatmap.get_yticklabels(), rotation=0)  # For y axis"
   ]
  },
  {
   "cell_type": "code",
   "execution_count": 22,
   "metadata": {},
   "outputs": [
    {
     "name": "stdout",
     "output_type": "stream",
     "text": [
      "Dictionary(187 unique tokens: ['competitive', 'continuing', 'firm', 'implies', 'losses']...)\n",
      "<class 'gensim.corpora.dictionary.Dictionary'>\n"
     ]
    }
   ],
   "source": [
    "print(dictionary)\n",
    "print(type(dictionary))"
   ]
  },
  {
   "cell_type": "code",
   "execution_count": 23,
   "metadata": {},
   "outputs": [
    {
     "data": {
      "text/html": [
       "\n",
       "<link rel=\"stylesheet\" type=\"text/css\" href=\"https://cdn.rawgit.com/bmabey/pyLDAvis/files/ldavis.v1.0.0.css\">\n",
       "\n",
       "\n",
       "<div id=\"ldavis_el1498815200904838328754677037\"></div>\n",
       "<script type=\"text/javascript\">\n",
       "\n",
       "var ldavis_el1498815200904838328754677037_data = {\"mdsDat\": {\"x\": [146.48782348632812, -32.54533386230469, 102.65270233154297, -28.682418823242188, -122.91217041015625], \"y\": [-152.77737426757812, 117.032470703125, 12.438985824584961, -176.990234375, -34.969261169433594], \"topics\": [1, 2, 3, 4, 5], \"cluster\": [1, 1, 1, 1, 1], \"Freq\": [59.98797607421875, 10.003898620605469, 10.003101348876953, 10.002744674682617, 10.002277374267578]}, \"tinfo\": {\"Category\": [\"Default\", \"Default\", \"Default\", \"Default\", \"Default\", \"Default\", \"Default\", \"Default\", \"Default\", \"Default\", \"Default\", \"Default\", \"Default\", \"Default\", \"Default\", \"Default\", \"Default\", \"Default\", \"Default\", \"Default\", \"Default\", \"Default\", \"Default\", \"Default\", \"Default\", \"Default\", \"Default\", \"Default\", \"Default\", \"Default\", \"Topic1\", \"Topic1\", \"Topic1\", \"Topic1\", \"Topic1\", \"Topic1\", \"Topic1\", \"Topic1\", \"Topic1\", \"Topic1\", \"Topic1\", \"Topic1\", \"Topic1\", \"Topic1\", \"Topic1\", \"Topic1\", \"Topic1\", \"Topic1\", \"Topic1\", \"Topic1\", \"Topic1\", \"Topic1\", \"Topic1\", \"Topic1\", \"Topic1\", \"Topic1\", \"Topic1\", \"Topic1\", \"Topic1\", \"Topic1\", \"Topic1\", \"Topic1\", \"Topic1\", \"Topic1\", \"Topic1\", \"Topic1\", \"Topic1\", \"Topic1\", \"Topic1\", \"Topic1\", \"Topic2\", \"Topic2\", \"Topic2\", \"Topic2\", \"Topic2\", \"Topic2\", \"Topic2\", \"Topic2\", \"Topic2\", \"Topic2\", \"Topic2\", \"Topic2\", \"Topic2\", \"Topic2\", \"Topic2\", \"Topic2\", \"Topic2\", \"Topic2\", \"Topic2\", \"Topic2\", \"Topic2\", \"Topic2\", \"Topic2\", \"Topic2\", \"Topic2\", \"Topic2\", \"Topic2\", \"Topic2\", \"Topic2\", \"Topic2\", \"Topic2\", \"Topic2\", \"Topic2\", \"Topic2\", \"Topic2\", \"Topic2\", \"Topic2\", \"Topic2\", \"Topic2\", \"Topic2\", \"Topic2\", \"Topic2\", \"Topic2\", \"Topic2\", \"Topic2\", \"Topic2\", \"Topic2\", \"Topic2\", \"Topic2\", \"Topic3\", \"Topic3\", \"Topic3\", \"Topic3\", \"Topic3\", \"Topic3\", \"Topic3\", \"Topic3\", \"Topic3\", \"Topic3\", \"Topic3\", \"Topic3\", \"Topic3\", \"Topic3\", \"Topic3\", \"Topic3\", \"Topic3\", \"Topic3\", \"Topic3\", \"Topic3\", \"Topic3\", \"Topic3\", \"Topic3\", \"Topic3\", \"Topic3\", \"Topic3\", \"Topic3\", \"Topic3\", \"Topic3\", \"Topic3\", \"Topic3\", \"Topic3\", \"Topic3\", \"Topic3\", \"Topic3\", \"Topic4\", \"Topic4\", \"Topic4\", \"Topic4\", \"Topic4\", \"Topic4\", \"Topic4\", \"Topic4\", \"Topic4\", \"Topic4\", \"Topic4\", \"Topic4\", \"Topic4\", \"Topic4\", \"Topic4\", \"Topic4\", \"Topic4\", \"Topic4\", \"Topic4\", \"Topic4\", \"Topic4\", \"Topic4\", \"Topic4\", \"Topic4\", \"Topic4\", \"Topic4\", \"Topic4\", \"Topic4\", \"Topic4\", \"Topic4\", \"Topic4\", \"Topic4\", \"Topic4\", \"Topic4\", \"Topic4\", \"Topic4\", \"Topic4\", \"Topic4\", \"Topic4\", \"Topic5\", \"Topic5\", \"Topic5\", \"Topic5\", \"Topic5\", \"Topic5\", \"Topic5\", \"Topic5\", \"Topic5\", \"Topic5\", \"Topic5\", \"Topic5\", \"Topic5\", \"Topic5\", \"Topic5\", \"Topic5\", \"Topic5\", \"Topic5\", \"Topic5\", \"Topic5\", \"Topic5\", \"Topic5\", \"Topic5\", \"Topic5\", \"Topic5\", \"Topic5\", \"Topic5\", \"Topic5\", \"Topic5\", \"Topic5\", \"Topic5\", \"Topic5\", \"Topic5\", \"Topic5\", \"Topic5\", \"Topic5\", \"Topic5\", \"Topic5\", \"Topic5\", \"Topic5\"], \"Freq\": [0.0, 0.0, 0.0, 0.0, 0.0, 0.0, 0.0, 0.0, 0.0, 0.0, 0.0, 0.0, 0.0, 0.0, 0.0, 0.0, 0.0, 0.0, 0.0, 0.0, 0.0, 0.0, 0.0, 0.0, 0.0, 0.0, 0.0, 0.0, 0.0, 0.0, 0.4149380624294281, 0.22655171155929565, 0.22653083503246307, 0.2265317589044571, 0.22650820016860962, 0.22647541761398315, 0.22641518712043762, 0.2264094352722168, 0.22640952467918396, 0.22640648484230042, 0.22638404369354248, 0.22633887827396393, 0.22632543742656708, 0.22632452845573425, 0.2263011336326599, 0.22630372643470764, 0.22627921402454376, 0.2262078821659088, 0.22619974613189697, 0.2262076586484909, 0.22619915008544922, 0.22619731724262238, 0.22617340087890625, 0.22611476480960846, 0.22602176666259766, 0.22599181532859802, 0.22597944736480713, 0.22591117024421692, 0.2259189486503601, 0.2259047031402588, 0.2259155660867691, 0.357644647359848, 0.2634325623512268, 0.30003899335861206, 0.2527294158935547, 0.24100834131240845, 0.24745285511016846, 0.23528453707695007, 0.2271142452955246, 0.226357564330101, 0.12022747844457626, 0.06558693200349808, 0.06558322161436081, 0.06557610630989075, 0.06556107103824615, 0.06556432694196701, 0.06556088477373123, 0.06556598842144012, 0.06549757719039917, 0.06545598059892654, 0.06545202434062958, 0.0654367059469223, 0.06540412455797195, 0.06512570381164551, 0.12028912454843521, 0.06559129059314728, 0.06501728296279907, 0.0657070204615593, 0.06559044867753983, 0.011020408011972904, 0.011017200537025928, 0.011018150486052036, 0.011009857058525085, 0.01099881250411272, 0.010995187796652317, 0.010998916812241077, 0.010994057171046734, 0.010979263111948967, 0.0109793022274971, 0.010987762361764908, 0.010991397313773632, 0.010984662920236588, 0.011076128110289574, 0.011070061475038528, 0.011026603169739246, 0.011132978834211826, 0.011040919460356236, 0.011036872863769531, 0.011095542460680008, 0.011076378636062145, 0.011074434965848923, 0.011204550974071026, 0.011117735877633095, 0.011056228540837765, 0.011098082177340984, 0.011097714304924011, 0.011092850007116795, 0.0110777597874403, 0.011076095513999462, 0.09463293105363846, 0.0946318656206131, 0.05166582763195038, 0.05162506178021431, 0.05160614848136902, 0.051597919315099716, 0.051560550928115845, 0.051547180861234665, 0.05155625566840172, 0.051574256271123886, 0.0515628345310688, 0.05153578147292137, 0.05154595524072647, 0.051481835544109344, 0.05146907642483711, 0.051378533244132996, 0.05151462182402611, 0.09007977694272995, 0.09276154637336731, 0.03399665281176567, 0.05171588435769081, 0.03118893876671791, 0.02446073107421398, 0.029354723170399666, 0.02890092320740223, 0.02769996039569378, 0.04857863858342171, 0.027445683255791664, 0.014971199445426464, 0.01487220823764801, 0.026690367609262466, 0.04335838928818703, 0.045928992331027985, 0.05227220430970192, 0.028577538207173347, 0.08352073282003403, 0.06944645941257477, 0.04555295780301094, 0.045552849769592285, 0.0455508828163147, 0.045551758259534836, 0.04555148258805275, 0.045551449060440063, 0.04552551358938217, 0.04550781473517418, 0.045485466718673706, 0.045501161366701126, 0.04549063742160797, 0.04549117758870125, 0.045486994087696075, 0.04548393562436104, 0.04547766223549843, 0.0454842671751976, 0.045483000576496124, 0.04545985534787178, 0.04546554386615753, 0.045437876135110855, 0.04545063525438309, 0.045453932136297226, 0.04545288532972336, 0.04543549567461014, 0.04536983370780945, 0.045258525758981705, 0.04136599227786064, 0.0409681461751461, 0.08299020677804947, 0.04559806361794472, 0.0455782450735569, 0.045537713915109634, 0.045725371688604355, 0.045591842383146286, 0.045584674924612045, 0.045577287673950195, 0.045506786555051804, 0.06856334954500198, 0.06843340396881104, 0.06838800758123398, 0.06836819648742676, 0.03741544857621193, 0.03740917146205902, 0.03740961477160454, 0.037402234971523285, 0.037399087101221085, 0.037399400025606155, 0.03739878907799721, 0.037402234971523285, 0.037390854209661484, 0.037392277270555496, 0.03739122673869133, 0.03738625347614288, 0.03738816827535629, 0.03738730400800705, 0.03738566115498543, 0.03737872466444969, 0.03738391026854515, 0.03738202899694443, 0.037379857152700424, 0.037379659712314606, 0.037372373044490814, 0.03737200051546097, 0.0373680554330349, 0.03736024722456932, 0.03733791038393974, 0.037344809621572495, 0.03734754025936127, 0.0683535560965538, 0.05207933858036995, 0.04983866959810257, 0.037449005991220474, 0.03743971139192581, 0.037419386208057404, 0.03740637004375458, 0.037404682487249374, 0.037394508719444275], \"Term\": [\"according\", \"gdp\", \"manufacturing\", \"rate\", \"money\", \"india\", \"source\", \"factor\", \"india\\u00e2\\u20ac\\u2122s\", \"tax\", \"domestic\", \"year\", \"example\", \"investment\", \"deficit\", \"interest\", \"increases\", \"share\", \"2022\", \"announced\", \"national\", \"targeted\", \"2011,\", \"policy\", \"phillip\\u00e2\\u20ac\\u2122s\", \"curve\", \"friedman\", \"long-run\", \"shape\", \"lumpsum\", \"competitive\", \"losses\", \"implies\", \"run\", \"perfectly\", \"continuing\", \"firm\", \"production.\", \"that?\", \"items\", \"market\", \"contributed\", \"balance\", \"short\", \"market,\", \"deficits\", \"making\", \"two\", \"trade\", \"2012\\u00e2\\u20ac\\u201c13\", \"remittance\", \"inflation\", \"equals\", \"cost\", \"receiving\", \"largest\", \"equilibrium,\", \"holding\", \"periods\", \"increased\", \"world\", \"growth\", \"respectively\", \"year\", \"real\", \"gdp,\", \"rate\", \"gdp\", \"money\", \"total\", \"manufacturing\", \"share\", \"2022\", \"announced\", \"policy\", \"targeted\", \"2011,\", \"national\", \"phillip\\u00e2\\u20ac\\u2122s\", \"curve\", \"friedman\", \"long-run\", \"shape\", \"lumpsum\", \"according\", \"india\\u00e2\\u20ac\\u2122s\", \"tax\", \"gdp\", \"year\", \"consumption\", \"friedman,\", \"theory,\", \"household\", \"credit\", \"depends\", \"primary\", \"fiscal\", \"of:\", \"budget\", \"0.75,\", \"keynesian\", \"balanced\", \"supply\", \"gnp\", \"determines\", \"difference\", \"identify\", \"reverse\", \"multiplier\", \"interest\", \"deficit\", \"money\", \"india\", \"equal\", \"real\", \"borrowings\", \"increases\", \"rate\", \"known\", \"source\", \"india\", \"receives\", \"much\", \"globalisation\", \"revenue\", \"important\", \"repo\", \"fdi\", \"government\", \"narrow\", \"measure\", \"indicates\", \"identify\", \"reverse\", \"gnp\", \"difference\", \"rate\", \"gdp\", \"nominal\", \"country\", \"deflator\", \"domestic\", \"population\", \"2%.\", \"capita\", \"gdp,\", \"annual\", \"exceeds\", \"one\", \"4%,\", \"respectively\", \"real\", \"growth\", \"per\", \"factor\", \"domestic\", \"product\", \"sum\", \"euler\\u00e2\\u20ac\\u2122s\", \"payments\", \"theorem,\", \"output\", \"dominant\", \"manifest\", \"context\", \"privatization\", \"form\", \"purchasing\", \"enterprises\", \"parity\", \"power\", \"used\", \"sector\", \"stackelberg\", \"followers,\", \"firms\", \"model\", \"behave\", \"duopoly,\", \"(ppp)\", \"determines\", \"supply\", \"savings,\", \"would\", \"money\", \"equal\", \"marginal\", \"paid\", \"according\", \"production\", \"india\", \"total\", \"public\", \"example\", \"investment\", \"deficit\", \"interest\", \"producing\", \"invented\", \"intel\", \"new\", \"good\", \"corporation\", \"technology\", \"chips\", \"of:\", \"computer\", \"r&d\", \"cent\", \"gross\", \"following\", \"value\", \"budget\", \"consume\", \"propensity\", \"research\", \"measured\", \"expenditure\", \"if,\", \"intensity,\", \"balanced\", \"credit\", \"0.75,\", \"depends\", \"according\", \"overall\", \"increases\", \"tax\", \"public\", \"multiplier\", \"per\", \"india\\u00e2\\u20ac\\u2122s\", \"rate\"], \"Total\": [0.0, 0.0, 0.0, 0.0, 0.0, 0.0, 0.0, 0.0, 0.0, 0.0, 0.0, 0.0, 0.0, 0.0, 0.0, 0.0, 0.0, 0.0, 0.0, 0.0, 0.0, 0.0, 0.0, 0.0, 0.0, 0.0, 0.0, 0.0, 0.0, 0.0, 0.4485652446746826, 0.26003363728523254, 0.2600148618221283, 0.2600174844264984, 0.25999897718429565, 0.2599739730358124, 0.2599274516105652, 0.2599223852157593, 0.25992274284362793, 0.25992313027381897, 0.2599034607410431, 0.2598675787448883, 0.2598556876182556, 0.2598561644554138, 0.25983449816703796, 0.25983962416648865, 0.2598224878311157, 0.25976377725601196, 0.259756475687027, 0.2597694396972656, 0.2597605288028717, 0.2597607374191284, 0.25973886251449585, 0.25969910621643066, 0.2596188187599182, 0.2595953047275543, 0.25958722829818726, 0.2595222294330597, 0.25953468680381775, 0.25952258706092834, 0.25953519344329834, 0.44398438930511475, 0.33164817094802856, 0.41006869077682495, 0.35469305515289307, 0.3455955684185028, 0.39371877908706665, 0.4077744483947754, 0.33655864000320435, 0.297899454832077, 0.18071618676185608, 0.12597869336605072, 0.1259784698486328, 0.12597087025642395, 0.1259721964597702, 0.1259874701499939, 0.12598416209220886, 0.12599724531173706, 0.1260020136833191, 0.12604618072509766, 0.1260482668876648, 0.12604917585849762, 0.12608429789543152, 0.12609294056892395, 0.28173813223838806, 0.1573108732700348, 0.15742573142051697, 0.4077744483947754, 0.41006869077682495, 0.1026751846075058, 0.10267826914787292, 0.10271817445755005, 0.10267232358455658, 0.1025765985250473, 0.10261234641075134, 0.10264736413955688, 0.10263830423355103, 0.10250504314899445, 0.10252492129802704, 0.1026046872138977, 0.10264888405799866, 0.10258050262928009, 0.10961145162582397, 0.11465118080377579, 0.10951493680477142, 0.14621557295322418, 0.11464270204305649, 0.11468365043401718, 0.14089453220367432, 0.13410049676895142, 0.1340755820274353, 0.33655864000320435, 0.195861354470253, 0.14079274237155914, 0.35469305515289307, 0.2588578164577484, 0.23528754711151123, 0.39371877908706665, 0.25911906361579895, 0.15772441029548645, 0.195861354470253, 0.11446961760520935, 0.11449537426233292, 0.1145743727684021, 0.11456423997879028, 0.11451691389083862, 0.11454179137945175, 0.11456439644098282, 0.11460892111063004, 0.11459212005138397, 0.11455601453781128, 0.11459583044052124, 0.11464270204305649, 0.11468365043401718, 0.11465118080377579, 0.14621557295322418, 0.39371877908706665, 0.4077744483947754, 0.174375981092453, 0.3027605712413788, 0.18385694921016693, 0.1494443565607071, 0.19004859030246735, 0.19162937998771667, 0.1957063376903534, 0.3455955684185028, 0.1965416967868805, 0.11013999581336975, 0.11012276262044907, 0.1990966796875, 0.33164817094802856, 0.35469305515289307, 0.44398438930511475, 0.22410207986831665, 0.14735424518585205, 0.1494443565607071, 0.10928401350975037, 0.10929498821496964, 0.10929127037525177, 0.10929694771766663, 0.10930030792951584, 0.10930073261260986, 0.10933709144592285, 0.1093263328075409, 0.10931874066591263, 0.10935848206281662, 0.10933806747198105, 0.10935571789741516, 0.10936295241117477, 0.10936085134744644, 0.1093544065952301, 0.1093783900141716, 0.10939891636371613, 0.10939614474773407, 0.10942529141902924, 0.10936504602432251, 0.10940231382846832, 0.10941274464130402, 0.10944158583879471, 0.10946904122829437, 0.10951493680477142, 0.10961145162582397, 0.10990550369024277, 0.10995499044656754, 0.33655864000320435, 0.14079274237155914, 0.14064538478851318, 0.14089171588420868, 0.28173813223838806, 0.29738134145736694, 0.195861354470253, 0.297899454832077, 0.14064660668373108, 0.13380473852157593, 0.13397440314292908, 0.1340755820274353, 0.13410049676895142, 0.1024845540523529, 0.1025041863322258, 0.1025080680847168, 0.10249768197536469, 0.10249775648117065, 0.10250535607337952, 0.10250449180603027, 0.10251568257808685, 0.10250504314899445, 0.10252618789672852, 0.10252931714057922, 0.10251694917678833, 0.10253273695707321, 0.1025329977273941, 0.10253375768661499, 0.10252492129802704, 0.10253924131393433, 0.10255259275436401, 0.10254992544651031, 0.10255010426044464, 0.10253775864839554, 0.10257776826620102, 0.102572500705719, 0.10258050262928009, 0.1025765985250473, 0.1026046872138977, 0.10261234641075134, 0.28173813223838806, 0.19313690066337585, 0.23528754711151123, 0.15742573142051697, 0.14064660668373108, 0.14089453220367432, 0.22410207986831665, 0.1573108732700348, 0.39371877908706665], \"loglift\": [30.0, 29.0, 28.0, 27.0, 26.0, 25.0, 24.0, 23.0, 22.0, 21.0, 20.0, 19.0, 18.0, 17.0, 16.0, 15.0, 14.0, 13.0, 12.0, 11.0, 10.0, 9.0, 8.0, 7.0, 6.0, 5.0, 4.0, 3.0, 2.0, 1.0, 0.43309998512268066, 0.373199999332428, 0.373199999332428, 0.373199999332428, 0.37310001254081726, 0.37310001254081726, 0.37299999594688416, 0.37299999594688416, 0.37299999594688416, 0.37299999594688416, 0.37290000915527344, 0.37290000915527344, 0.37290000915527344, 0.37290000915527344, 0.37279999256134033, 0.37279999256134033, 0.37279999256134033, 0.3727000057697296, 0.3727000057697296, 0.3727000057697296, 0.3727000057697296, 0.3727000057697296, 0.3727000057697296, 0.3725000023841858, 0.3723999857902527, 0.3723999857902527, 0.3723999857902527, 0.37229999899864197, 0.37229999899864197, 0.37229999899864197, 0.37229999899864197, 0.2948000133037567, 0.2806999981403351, 0.19859999418258667, 0.1720999926328659, 0.15060000121593475, 0.04659999907016754, -0.03889999911189079, 0.1177000030875206, 0.23639999330043793, 1.894700050354004, 1.6495000123977661, 1.649399995803833, 1.649399995803833, 1.6490999460220337, 1.6490000486373901, 1.6490000486373901, 1.6490000486373901, 1.6478999853134155, 1.6469000577926636, 1.6468000411987305, 1.6466000080108643, 1.645799994468689, 1.6414999961853027, 1.4510999917984009, 1.42739999294281, 1.4178999662399292, 0.4767000079154968, 0.4693000018596649, 0.07039999961853027, 0.07010000199079514, 0.0697999969124794, 0.06939999759197235, 0.06939999759197235, 0.06870000064373016, 0.06870000064373016, 0.06830000132322311, 0.06830000132322311, 0.06809999793767929, 0.06809999793767929, 0.06800000369548798, 0.06800000369548798, 0.009999999776482582, -0.03550000116229057, 0.006399999838322401, -0.27300000190734863, -0.03799999877810478, -0.03869999945163727, -0.23929999768733978, -0.1915999948978424, -0.1915999948978424, -1.1002999544143677, -0.5666999816894531, -0.24210000038146973, -1.1622999906539917, -0.8472999930381775, -0.7523000240325928, -1.2684999704360962, -0.8503000140190125, 1.7913999557495117, 1.5749000310897827, 1.5068000555038452, 1.5056999921798706, 1.504699945449829, 1.5046000480651855, 1.5042999982833862, 1.5038000345230103, 1.5038000345230103, 1.5038000345230103, 1.5037000179290771, 1.503499984741211, 1.5032999515533447, 1.5017000436782837, 1.501099944114685, 1.4996000528335571, 1.2590999603271484, 0.8273000121116638, 0.8216000199317932, 0.6672999858856201, 0.535099983215332, 0.5281999707221985, 0.49239999055862427, 0.4343999922275543, 0.4106000065803528, 0.34709998965263367, 0.3402000069618225, 0.3336000144481659, 0.3066999912261963, 0.3001999855041504, 0.29280000925064087, 0.2676999866962433, 0.2581000030040741, 0.16300000250339508, 0.24279999732971191, 1.7345999479293823, 1.5358999967575073, 1.4271999597549438, 1.4270999431610107, 1.4270999431610107, 1.4270999431610107, 1.4270999431610107, 1.4270999431610107, 1.4261000156402588, 1.4258999824523926, 1.4254000186920166, 1.4254000186920166, 1.4254000186920166, 1.4251999855041504, 1.4250999689102173, 1.4249999523162842, 1.4249000549316406, 1.4249000549316406, 1.4246000051498413, 1.4242000579833984, 1.4240000247955322, 1.4240000247955322, 1.4239000082015991, 1.4239000082015991, 1.4235999584197998, 1.4229999780654907, 1.4211000204086304, 1.417799949645996, 1.3250999450683594, 1.315000057220459, 0.9023000001907349, 1.1749000549316406, 1.1755000352859497, 1.1728999614715576, 0.48399999737739563, 0.4269999861717224, 0.8445000052452087, 0.42500001192092896, 1.1739000082015991, 1.6337000131607056, 1.6305999755859375, 1.6291999816894531, 1.6287000179290771, 1.294700026512146, 1.2943999767303467, 1.2942999601364136, 1.2941999435424805, 1.2941999435424805, 1.294100046157837, 1.294100046157837, 1.294100046157837, 1.2939000129699707, 1.2936999797821045, 1.2935999631881714, 1.2935999631881714, 1.2934999465942383, 1.2934999465942383, 1.2934999465942383, 1.2934000492095947, 1.2934000492095947, 1.2932000160217285, 1.2930999994277954, 1.2930999994277954, 1.2930999994277954, 1.2927000522613525, 1.2926000356674194, 1.2922999858856201, 1.2918000221252441, 1.291700005531311, 1.291700005531311, 0.8860999941825867, 0.9916999936103821, 0.7502999901771545, 0.8664000034332275, 0.9787999987602234, 0.9764999747276306, 0.5120999813079834, 0.8658999800682068, -0.05180000141263008], \"logprob\": [30.0, 29.0, 28.0, 27.0, 26.0, 25.0, 24.0, 23.0, 22.0, 21.0, 20.0, 19.0, 18.0, 17.0, 16.0, 15.0, 14.0, 13.0, 12.0, 11.0, 10.0, 9.0, 8.0, 7.0, 6.0, 5.0, 4.0, 3.0, 2.0, 1.0, -3.8343000411987305, -4.439499855041504, -4.439599990844727, -4.439599990844727, -4.439700126647949, -4.439799785614014, -4.440100193023682, -4.440100193023682, -4.440100193023682, -4.440100193023682, -4.440199851989746, -4.440400123596191, -4.440499782562256, -4.440499782562256, -4.4405999183654785, -4.4405999183654785, -4.440700054168701, -4.440999984741211, -4.440999984741211, -4.440999984741211, -4.440999984741211, -4.441100120544434, -4.441199779510498, -4.441400051116943, -4.441800117492676, -4.441999912261963, -4.441999912261963, -4.442299842834473, -4.442299842834473, -4.442399978637695, -4.442299842834473, -3.9828999042510986, -4.288700103759766, -4.158599853515625, -4.330100059509277, -4.377600193023682, -4.351200103759766, -4.401700019836426, -4.436999797821045, -4.440299987792969, -3.281899929046631, -3.8879001140594482, -3.888000011444092, -3.8880999088287354, -3.8882999420166016, -3.8882999420166016, -3.8882999420166016, -3.888200044631958, -3.8893001079559326, -3.889899969100952, -3.890000104904175, -3.890199899673462, -3.890700101852417, -3.8949999809265137, -3.281399965286255, -3.8879001140594482, -3.8966000080108643, -3.8861000537872314, -3.8879001140594482, -5.671500205993652, -5.671800136566162, -5.671800136566162, -5.672500133514404, -5.673500061035156, -5.673799991607666, -5.673500061035156, -5.673900127410889, -5.675300121307373, -5.675300121307373, -5.674499988555908, -5.674200057983398, -5.674799919128418, -5.666500091552734, -5.667099952697754, -5.671000003814697, -5.661399841308594, -5.6697001457214355, -5.670100212097168, -5.66480016708374, -5.666500091552734, -5.6666998863220215, -5.65500020980835, -5.662799835205078, -5.668300151824951, -5.6645002365112305, -5.664599895477295, -5.664999961853027, -5.666399955749512, -5.666500091552734, -3.521199941635132, -3.521199941635132, -4.126399993896484, -4.127200126647949, -4.127600193023682, -4.127699851989746, -4.128499984741211, -4.128699779510498, -4.128499984741211, -4.128200054168701, -4.128399848937988, -4.128900051116943, -4.128699779510498, -4.130000114440918, -4.130199909210205, -4.131999969482422, -4.12939977645874, -3.570499897003174, -3.5411999225616455, -4.545000076293945, -4.125500202178955, -4.631199836730957, -4.874100208282471, -4.691800117492676, -4.707300186157227, -4.749800205230713, -4.188000202178955, -4.758999824523926, -5.365099906921387, -5.371699810028076, -4.786900043487549, -4.301700115203857, -4.244100093841553, -4.114799976348877, -4.718599796295166, -3.6461000442504883, -3.8306000232696533, -4.252299785614014, -4.252299785614014, -4.252399921417236, -4.252299785614014, -4.252299785614014, -4.252299785614014, -4.252900123596191, -4.253300189971924, -4.253799915313721, -4.253399848937988, -4.253699779510498, -4.253699779510498, -4.253799915313721, -4.253799915313721, -4.254000186920166, -4.253799915313721, -4.253799915313721, -4.25439977645874, -4.254199981689453, -4.254799842834473, -4.2546000480651855, -4.254499912261963, -4.254499912261963, -4.254899978637695, -4.25629997253418, -4.258800029754639, -4.348700046539307, -4.358399868011475, -3.6524999141693115, -4.251299858093262, -4.251800060272217, -4.252600193023682, -4.248499870300293, -4.251500129699707, -4.2515997886657715, -4.251800060272217, -4.253300189971924, -3.843400001525879, -3.8452999591827393, -3.845900058746338, -3.8461999893188477, -4.448999881744385, -4.44920015335083, -4.44920015335083, -4.449399948120117, -4.44950008392334, -4.44950008392334, -4.44950008392334, -4.449399948120117, -4.449699878692627, -4.449699878692627, -4.449699878692627, -4.44980001449585, -4.44980001449585, -4.44980001449585, -4.44980001449585, -4.449999809265137, -4.449900150299072, -4.449900150299072, -4.449999809265137, -4.449999809265137, -4.450200080871582, -4.450200080871582, -4.450300216674805, -4.450500011444092, -4.451099872589111, -4.450900077819824, -4.450900077819824, -3.846400022506714, -4.1184000968933105, -4.162300109863281, -4.448200225830078, -4.448400020599365, -4.44890022277832, -4.4492998123168945, -4.4492998123168945, -4.4496002197265625]}, \"token.table\": {\"Topic\": [], \"Freq\": [], \"Term\": []}, \"R\": 30, \"lambda.step\": 0.01, \"plot.opts\": {\"xlab\": \"PC1\", \"ylab\": \"PC2\"}, \"topic.order\": [3, 1, 4, 2, 5]};\n",
       "\n",
       "function LDAvis_load_lib(url, callback){\n",
       "  var s = document.createElement('script');\n",
       "  s.src = url;\n",
       "  s.async = true;\n",
       "  s.onreadystatechange = s.onload = callback;\n",
       "  s.onerror = function(){console.warn(\"failed to load library \" + url);};\n",
       "  document.getElementsByTagName(\"head\")[0].appendChild(s);\n",
       "}\n",
       "\n",
       "if(typeof(LDAvis) !== \"undefined\"){\n",
       "   // already loaded: just create the visualization\n",
       "   !function(LDAvis){\n",
       "       new LDAvis(\"#\" + \"ldavis_el1498815200904838328754677037\", ldavis_el1498815200904838328754677037_data);\n",
       "   }(LDAvis);\n",
       "}else if(typeof define === \"function\" && define.amd){\n",
       "   // require.js is available: use it to load d3/LDAvis\n",
       "   require.config({paths: {d3: \"https://cdnjs.cloudflare.com/ajax/libs/d3/3.5.5/d3.min\"}});\n",
       "   require([\"d3\"], function(d3){\n",
       "      window.d3 = d3;\n",
       "      LDAvis_load_lib(\"https://cdn.rawgit.com/bmabey/pyLDAvis/files/ldavis.v1.0.0.js\", function(){\n",
       "        new LDAvis(\"#\" + \"ldavis_el1498815200904838328754677037\", ldavis_el1498815200904838328754677037_data);\n",
       "      });\n",
       "    });\n",
       "}else{\n",
       "    // require.js not available: dynamically load d3 & LDAvis\n",
       "    LDAvis_load_lib(\"https://cdnjs.cloudflare.com/ajax/libs/d3/3.5.5/d3.min.js\", function(){\n",
       "         LDAvis_load_lib(\"https://cdn.rawgit.com/bmabey/pyLDAvis/files/ldavis.v1.0.0.js\", function(){\n",
       "                 new LDAvis(\"#\" + \"ldavis_el1498815200904838328754677037\", ldavis_el1498815200904838328754677037_data);\n",
       "            })\n",
       "         });\n",
       "}\n",
       "</script>"
      ],
      "text/plain": [
       "PreparedData(topic_coordinates=                x           y  topics  cluster       Freq\n",
       "topic                                                    \n",
       "2      146.487823 -152.777374       1        1  59.987976\n",
       "0      -32.545334  117.032471       2        1  10.003899\n",
       "3      102.652702   12.438986       3        1  10.003101\n",
       "1      -28.682419 -176.990234       4        1  10.002745\n",
       "4     -122.912170  -34.969261       5        1  10.002277, topic_info=     Category      Freq           Term     Total  loglift  logprob\n",
       "term                                                              \n",
       "69    Default  0.000000      according  0.000000  30.0000  30.0000\n",
       "49    Default  0.000000            gdp  0.000000  29.0000  29.0000\n",
       "151   Default  0.000000  manufacturing  0.000000  28.0000  28.0000\n",
       "62    Default  0.000000           rate  0.000000  27.0000  27.0000\n",
       "67    Default  0.000000          money  0.000000  26.0000  26.0000\n",
       "137   Default  0.000000          india  0.000000  25.0000  25.0000\n",
       "139   Default  0.000000         source  0.000000  24.0000  24.0000\n",
       "109   Default  0.000000         factor  0.000000  23.0000  23.0000\n",
       "143   Default  0.000000      indiaâ€™s  0.000000  22.0000  22.0000\n",
       "35    Default  0.000000            tax  0.000000  21.0000  21.0000\n",
       "121   Default  0.000000       domestic  0.000000  20.0000  20.0000\n",
       "99    Default  0.000000           year  0.000000  19.0000  19.0000\n",
       "20    Default  0.000000        example  0.000000  18.0000  18.0000\n",
       "134   Default  0.000000     investment  0.000000  17.0000  17.0000\n",
       "184   Default  0.000000        deficit  0.000000  16.0000  16.0000\n",
       "103   Default  0.000000       interest  0.000000  15.0000  15.0000\n",
       "89    Default  0.000000      increases  0.000000  14.0000  14.0000\n",
       "154   Default  0.000000          share  0.000000  13.0000  13.0000\n",
       "149   Default  0.000000           2022  0.000000  12.0000  12.0000\n",
       "150   Default  0.000000      announced  0.000000  11.0000  11.0000\n",
       "152   Default  0.000000       national  0.000000  10.0000  10.0000\n",
       "155   Default  0.000000       targeted  0.000000   9.0000   9.0000\n",
       "148   Default  0.000000          2011,  0.000000   8.0000   8.0000\n",
       "153   Default  0.000000         policy  0.000000   7.0000   7.0000\n",
       "131   Default  0.000000    phillipâ€™s  0.000000   6.0000   6.0000\n",
       "128   Default  0.000000          curve  0.000000   5.0000   5.0000\n",
       "129   Default  0.000000       friedman  0.000000   4.0000   4.0000\n",
       "130   Default  0.000000       long-run  0.000000   3.0000   3.0000\n",
       "132   Default  0.000000          shape  0.000000   2.0000   2.0000\n",
       "34    Default  0.000000        lumpsum  0.000000   1.0000   1.0000\n",
       "...       ...       ...            ...       ...      ...      ...\n",
       "29     Topic5  0.037399     technology  0.102504   1.2941  -4.4495\n",
       "17     Topic5  0.037402          chips  0.102516   1.2941  -4.4494\n",
       "26     Topic5  0.037391            of:  0.102505   1.2939  -4.4497\n",
       "18     Topic5  0.037392       computer  0.102526   1.2937  -4.4497\n",
       "146    Topic5  0.037391            r&d  0.102529   1.2936  -4.4497\n",
       "140    Topic5  0.037386           cent  0.102517   1.2936  -4.4498\n",
       "142    Topic5  0.037388          gross  0.102533   1.2935  -4.4498\n",
       "21     Topic5  0.037387      following  0.102533   1.2935  -4.4498\n",
       "81     Topic5  0.037386          value  0.102534   1.2935  -4.4498\n",
       "76     Topic5  0.037379         budget  0.102525   1.2934  -4.4500\n",
       "77     Topic5  0.037384        consume  0.102539   1.2934  -4.4499\n",
       "80     Topic5  0.037382     propensity  0.102553   1.2932  -4.4499\n",
       "147    Topic5  0.037380       research  0.102550   1.2931  -4.4500\n",
       "145    Topic5  0.037380       measured  0.102550   1.2931  -4.4500\n",
       "141    Topic5  0.037372    expenditure  0.102538   1.2931  -4.4502\n",
       "78     Topic5  0.037372            if,  0.102578   1.2927  -4.4502\n",
       "144    Topic5  0.037368     intensity,  0.102573   1.2926  -4.4503\n",
       "75     Topic5  0.037360       balanced  0.102581   1.2923  -4.4505\n",
       "133    Topic5  0.037338         credit  0.102577   1.2918  -4.4511\n",
       "74     Topic5  0.037345          0.75,  0.102605   1.2917  -4.4509\n",
       "71     Topic5  0.037348        depends  0.102612   1.2917  -4.4509\n",
       "69     Topic5  0.068354      according  0.281738   0.8861  -3.8464\n",
       "91     Topic5  0.052079        overall  0.193137   0.9917  -4.1184\n",
       "89     Topic5  0.049839      increases  0.235288   0.7503  -4.1623\n",
       "35     Topic5  0.037449            tax  0.157426   0.8664  -4.4482\n",
       "28     Topic5  0.037440         public  0.140647   0.9788  -4.4484\n",
       "68     Topic5  0.037419     multiplier  0.140895   0.9765  -4.4489\n",
       "60     Topic5  0.037406            per  0.224102   0.5121  -4.4493\n",
       "143    Topic5  0.037405      indiaâ€™s  0.157311   0.8659  -4.4493\n",
       "62     Topic5  0.037395           rate  0.393719  -0.0518  -4.4496\n",
       "\n",
       "[233 rows x 6 columns], token_table=Empty DataFrame\n",
       "Columns: [Topic, Freq, Term]\n",
       "Index: [], R=30, lambda_step=0.01, plot_opts={'xlab': 'PC1', 'ylab': 'PC2'}, topic_order=[3, 1, 4, 2, 5])"
      ]
     },
     "execution_count": 23,
     "metadata": {},
     "output_type": "execute_result"
    }
   ],
   "source": [
    "import pyLDAvis.gensim\n",
    "\n",
    "pyLDAvis.enable_notebook()\n",
    "panel = pyLDAvis.gensim.prepare(lda, corpus_lda, dictionary, mds='tsne')\n",
    "panel"
   ]
  },
  {
   "cell_type": "code",
   "execution_count": null,
   "metadata": {},
   "outputs": [],
   "source": []
  }
 ],
 "metadata": {
  "kernelspec": {
   "display_name": "Python 3",
   "language": "python",
   "name": "python3"
  },
  "language_info": {
   "codemirror_mode": {
    "name": "ipython",
    "version": 3
   },
   "file_extension": ".py",
   "mimetype": "text/x-python",
   "name": "python",
   "nbconvert_exporter": "python",
   "pygments_lexer": "ipython3",
   "version": "3.7.1"
  }
 },
 "nbformat": 4,
 "nbformat_minor": 2
}
