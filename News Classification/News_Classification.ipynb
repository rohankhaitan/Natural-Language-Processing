{
 "cells": [
  {
   "cell_type": "markdown",
   "metadata": {},
   "source": [
    "## News Classification using Neural Network\n"
   ]
  },
  {
   "cell_type": "markdown",
   "metadata": {},
   "source": [
    "### Importing necessary libraries"
   ]
  },
  {
   "cell_type": "code",
   "execution_count": 1,
   "metadata": {},
   "outputs": [],
   "source": [
    "import pandas as pd\n",
    "import numpy as np\n",
    "from IPython.core.interactiveshell import InteractiveShell\n",
    "InteractiveShell.ast_node_interactivity = \"all\"\n",
    "import simplejson as json"
   ]
  },
  {
   "cell_type": "markdown",
   "metadata": {},
   "source": [
    "### Reading Data "
   ]
  },
  {
   "cell_type": "code",
   "execution_count": 2,
   "metadata": {},
   "outputs": [],
   "source": [
    "data_json = []\n",
    "for line in open('/home/rohan/CMI/SEM_2/DMML/Assignment_3/Data/News-Classification-DataSet.json', 'r'):\n",
    "    data_json.append(json.loads(line))"
   ]
  },
  {
   "cell_type": "code",
   "execution_count": 3,
   "metadata": {},
   "outputs": [
    {
     "data": {
      "text/plain": [
       "['SciTech']"
      ]
     },
     "execution_count": 3,
     "metadata": {},
     "output_type": "execute_result"
    },
    {
     "data": {
      "text/plain": [
       "'SPACE.com - TORONTO, Canada -- A second\\\\team of rocketeers competing for the  #36;10 million Ansari X Prize, a contest for\\\\privately funded suborbital space flight, has officially announced the first\\\\launch date for its manned rocket.'"
      ]
     },
     "execution_count": 3,
     "metadata": {},
     "output_type": "execute_result"
    }
   ],
   "source": [
    "data_json[1]['annotation']['label']\n",
    "data_json[1]['content']"
   ]
  },
  {
   "cell_type": "markdown",
   "metadata": {},
   "source": [
    "## Preprocessing\n",
    "### Making two lists- content & label"
   ]
  },
  {
   "cell_type": "code",
   "execution_count": 4,
   "metadata": {},
   "outputs": [],
   "source": [
    "import re\n",
    "p=re.compile(r'[a-zA-Z]+')\n",
    "content=[]\n",
    "label=[]\n",
    "for i in range(len(data_json)):\n",
    "    content.append(data_json[i]['content'])\n",
    "    label.append(p.findall(str(data_json[i]['annotation']['label']))[0])"
   ]
  },
  {
   "cell_type": "code",
   "execution_count": 5,
   "metadata": {
    "scrolled": false
   },
   "outputs": [
    {
     "data": {
      "text/plain": [
       "7600"
      ]
     },
     "execution_count": 5,
     "metadata": {},
     "output_type": "execute_result"
    },
    {
     "data": {
      "text/plain": [
       "7600"
      ]
     },
     "execution_count": 5,
     "metadata": {},
     "output_type": "execute_result"
    },
    {
     "data": {
      "text/plain": [
       "\"Unions representing workers at Turner   Newall say they are 'disappointed' after talks with stricken parent firm Federal Mogul.\""
      ]
     },
     "execution_count": 5,
     "metadata": {},
     "output_type": "execute_result"
    },
    {
     "data": {
      "text/plain": [
       "'Business'"
      ]
     },
     "execution_count": 5,
     "metadata": {},
     "output_type": "execute_result"
    }
   ],
   "source": [
    "len(content)\n",
    "len(label)\n",
    "content[0]\n",
    "label[0]"
   ]
  },
  {
   "cell_type": "markdown",
   "metadata": {},
   "source": [
    "### Creating a dataframe to get a look on the data"
   ]
  },
  {
   "cell_type": "code",
   "execution_count": 6,
   "metadata": {},
   "outputs": [
    {
     "data": {
      "text/html": [
       "<div>\n",
       "<style scoped>\n",
       "    .dataframe tbody tr th:only-of-type {\n",
       "        vertical-align: middle;\n",
       "    }\n",
       "\n",
       "    .dataframe tbody tr th {\n",
       "        vertical-align: top;\n",
       "    }\n",
       "\n",
       "    .dataframe thead th {\n",
       "        text-align: right;\n",
       "    }\n",
       "</style>\n",
       "<table border=\"1\" class=\"dataframe\">\n",
       "  <thead>\n",
       "    <tr style=\"text-align: right;\">\n",
       "      <th></th>\n",
       "      <th>content</th>\n",
       "      <th>label</th>\n",
       "    </tr>\n",
       "  </thead>\n",
       "  <tbody>\n",
       "    <tr>\n",
       "      <th>7595</th>\n",
       "      <td>Ukrainian presidential candidate Viktor Yushch...</td>\n",
       "      <td>World</td>\n",
       "    </tr>\n",
       "    <tr>\n",
       "      <th>7596</th>\n",
       "      <td>With the supply of attractive pitching options...</td>\n",
       "      <td>Sports</td>\n",
       "    </tr>\n",
       "    <tr>\n",
       "      <th>7597</th>\n",
       "      <td>Like Roger Clemens did almost exactly eight ye...</td>\n",
       "      <td>Sports</td>\n",
       "    </tr>\n",
       "    <tr>\n",
       "      <th>7598</th>\n",
       "      <td>SINGAPORE : Doctors in the United States have ...</td>\n",
       "      <td>Business</td>\n",
       "    </tr>\n",
       "    <tr>\n",
       "      <th>7599</th>\n",
       "      <td>EBay plans to buy the apartment and home renta...</td>\n",
       "      <td>Business</td>\n",
       "    </tr>\n",
       "  </tbody>\n",
       "</table>\n",
       "</div>"
      ],
      "text/plain": [
       "                                                content     label\n",
       "7595  Ukrainian presidential candidate Viktor Yushch...     World\n",
       "7596  With the supply of attractive pitching options...    Sports\n",
       "7597  Like Roger Clemens did almost exactly eight ye...    Sports\n",
       "7598  SINGAPORE : Doctors in the United States have ...  Business\n",
       "7599  EBay plans to buy the apartment and home renta...  Business"
      ]
     },
     "execution_count": 6,
     "metadata": {},
     "output_type": "execute_result"
    }
   ],
   "source": [
    "df=pd.DataFrame(list(zip(content,label)),\n",
    "              columns=['content','label'])\n",
    "df.tail()"
   ]
  },
  {
   "cell_type": "markdown",
   "metadata": {},
   "source": [
    "### To remove stopwords- Creating a list of stopwords"
   ]
  },
  {
   "cell_type": "code",
   "execution_count": 7,
   "metadata": {},
   "outputs": [],
   "source": [
    "import nltk\n",
    "#nltk.download('punkt')\n",
    "from nltk.corpus import stopwords\n",
    "s=stopwords.words('english')\n",
    "add=[\",\",\"'\",\".\",\"-\",\"--\",\"(\",\")\",'``','\\\\\\\\',\"''\",\";\",\"#\",\"...\"]\n",
    "for i in add:\n",
    "    s.append(i)\n",
    "stopset=set(s)    "
   ]
  },
  {
   "cell_type": "code",
   "execution_count": 8,
   "metadata": {},
   "outputs": [
    {
     "name": "stderr",
     "output_type": "stream",
     "text": [
      "Using TensorFlow backend.\n"
     ]
    }
   ],
   "source": [
    "from keras.preprocessing.text import Tokenizer\n",
    "t = Tokenizer()\n",
    "t.fit_on_texts(content)\n",
    "# print(t.word_counts)\n",
    "# print(t.document_count)\n",
    "# print(t.word_index)\n",
    "# print(t.word_docs)"
   ]
  },
  {
   "cell_type": "markdown",
   "metadata": {},
   "source": [
    "### Removing stopwords"
   ]
  },
  {
   "cell_type": "code",
   "execution_count": 9,
   "metadata": {
    "scrolled": true
   },
   "outputs": [
    {
     "data": {
      "text/plain": [
       "406"
      ]
     },
     "execution_count": 9,
     "metadata": {},
     "output_type": "execute_result"
    },
    {
     "data": {
      "text/plain": [
       "17095"
      ]
     },
     "execution_count": 9,
     "metadata": {},
     "output_type": "execute_result"
    },
    {
     "data": {
      "text/plain": [
       "392"
      ]
     },
     "execution_count": 9,
     "metadata": {},
     "output_type": "execute_result"
    },
    {
     "data": {
      "text/plain": [
       "526"
      ]
     },
     "execution_count": 9,
     "metadata": {},
     "output_type": "execute_result"
    },
    {
     "data": {
      "text/plain": [
       "18421"
      ]
     },
     "execution_count": 9,
     "metadata": {},
     "output_type": "execute_result"
    },
    {
     "data": {
      "text/plain": [
       "1371"
      ]
     },
     "execution_count": 9,
     "metadata": {},
     "output_type": "execute_result"
    },
    {
     "data": {
      "text/plain": [
       "19"
      ]
     },
     "execution_count": 9,
     "metadata": {},
     "output_type": "execute_result"
    },
    {
     "data": {
      "text/plain": [
       "587"
      ]
     },
     "execution_count": 9,
     "metadata": {},
     "output_type": "execute_result"
    },
    {
     "data": {
      "text/plain": [
       "10247"
      ]
     },
     "execution_count": 9,
     "metadata": {},
     "output_type": "execute_result"
    },
    {
     "data": {
      "text/plain": [
       "184"
      ]
     },
     "execution_count": 9,
     "metadata": {},
     "output_type": "execute_result"
    },
    {
     "data": {
      "text/plain": [
       "18"
      ]
     },
     "execution_count": 9,
     "metadata": {},
     "output_type": "execute_result"
    },
    {
     "data": {
      "text/plain": [
       "134"
      ]
     },
     "execution_count": 9,
     "metadata": {},
     "output_type": "execute_result"
    },
    {
     "data": {
      "text/plain": [
       "31"
      ]
     },
     "execution_count": 9,
     "metadata": {},
     "output_type": "execute_result"
    },
    {
     "data": {
      "text/plain": [
       "9334"
      ]
     },
     "execution_count": 9,
     "metadata": {},
     "output_type": "execute_result"
    },
    {
     "data": {
      "text/plain": [
       "47"
      ]
     },
     "execution_count": 9,
     "metadata": {},
     "output_type": "execute_result"
    },
    {
     "data": {
      "text/plain": [
       "14892"
      ]
     },
     "execution_count": 9,
     "metadata": {},
     "output_type": "execute_result"
    },
    {
     "data": {
      "text/plain": [
       "64"
      ]
     },
     "execution_count": 9,
     "metadata": {},
     "output_type": "execute_result"
    },
    {
     "data": {
      "text/plain": [
       "396"
      ]
     },
     "execution_count": 9,
     "metadata": {},
     "output_type": "execute_result"
    },
    {
     "data": {
      "text/plain": [
       "6"
      ]
     },
     "execution_count": 9,
     "metadata": {},
     "output_type": "execute_result"
    },
    {
     "data": {
      "text/plain": [
       "44"
      ]
     },
     "execution_count": 9,
     "metadata": {},
     "output_type": "execute_result"
    },
    {
     "data": {
      "text/plain": [
       "1158"
      ]
     },
     "execution_count": 9,
     "metadata": {},
     "output_type": "execute_result"
    },
    {
     "data": {
      "text/plain": [
       "155"
      ]
     },
     "execution_count": 9,
     "metadata": {},
     "output_type": "execute_result"
    },
    {
     "data": {
      "text/plain": [
       "2254"
      ]
     },
     "execution_count": 9,
     "metadata": {},
     "output_type": "execute_result"
    },
    {
     "data": {
      "text/plain": [
       "1048"
      ]
     },
     "execution_count": 9,
     "metadata": {},
     "output_type": "execute_result"
    },
    {
     "data": {
      "text/plain": [
       "46"
      ]
     },
     "execution_count": 9,
     "metadata": {},
     "output_type": "execute_result"
    },
    {
     "data": {
      "text/plain": [
       "686"
      ]
     },
     "execution_count": 9,
     "metadata": {},
     "output_type": "execute_result"
    },
    {
     "data": {
      "text/plain": [
       "29"
      ]
     },
     "execution_count": 9,
     "metadata": {},
     "output_type": "execute_result"
    },
    {
     "data": {
      "text/plain": [
       "357"
      ]
     },
     "execution_count": 9,
     "metadata": {},
     "output_type": "execute_result"
    },
    {
     "data": {
      "text/plain": [
       "4675"
      ]
     },
     "execution_count": 9,
     "metadata": {},
     "output_type": "execute_result"
    },
    {
     "data": {
      "text/plain": [
       "201"
      ]
     },
     "execution_count": 9,
     "metadata": {},
     "output_type": "execute_result"
    },
    {
     "data": {
      "text/plain": [
       "4507"
      ]
     },
     "execution_count": 9,
     "metadata": {},
     "output_type": "execute_result"
    },
    {
     "data": {
      "text/plain": [
       "2702"
      ]
     },
     "execution_count": 9,
     "metadata": {},
     "output_type": "execute_result"
    },
    {
     "data": {
      "text/plain": [
       "148"
      ]
     },
     "execution_count": 9,
     "metadata": {},
     "output_type": "execute_result"
    },
    {
     "data": {
      "text/plain": [
       "408"
      ]
     },
     "execution_count": 9,
     "metadata": {},
     "output_type": "execute_result"
    },
    {
     "data": {
      "text/plain": [
       "15858"
      ]
     },
     "execution_count": 9,
     "metadata": {},
     "output_type": "execute_result"
    },
    {
     "data": {
      "text/plain": [
       "2537"
      ]
     },
     "execution_count": 9,
     "metadata": {},
     "output_type": "execute_result"
    },
    {
     "data": {
      "text/plain": [
       "23"
      ]
     },
     "execution_count": 9,
     "metadata": {},
     "output_type": "execute_result"
    },
    {
     "data": {
      "text/plain": [
       "65"
      ]
     },
     "execution_count": 9,
     "metadata": {},
     "output_type": "execute_result"
    },
    {
     "data": {
      "text/plain": [
       "5069"
      ]
     },
     "execution_count": 9,
     "metadata": {},
     "output_type": "execute_result"
    },
    {
     "data": {
      "text/plain": [
       "337"
      ]
     },
     "execution_count": 9,
     "metadata": {},
     "output_type": "execute_result"
    },
    {
     "data": {
      "text/plain": [
       "11"
      ]
     },
     "execution_count": 9,
     "metadata": {},
     "output_type": "execute_result"
    },
    {
     "data": {
      "text/plain": [
       "7100"
      ]
     },
     "execution_count": 9,
     "metadata": {},
     "output_type": "execute_result"
    },
    {
     "data": {
      "text/plain": [
       "1"
      ]
     },
     "execution_count": 9,
     "metadata": {},
     "output_type": "execute_result"
    },
    {
     "data": {
      "text/plain": [
       "294"
      ]
     },
     "execution_count": 9,
     "metadata": {},
     "output_type": "execute_result"
    },
    {
     "data": {
      "text/plain": [
       "175"
      ]
     },
     "execution_count": 9,
     "metadata": {},
     "output_type": "execute_result"
    },
    {
     "data": {
      "text/plain": [
       "11490"
      ]
     },
     "execution_count": 9,
     "metadata": {},
     "output_type": "execute_result"
    },
    {
     "data": {
      "text/plain": [
       "12"
      ]
     },
     "execution_count": 9,
     "metadata": {},
     "output_type": "execute_result"
    },
    {
     "data": {
      "text/plain": [
       "10313"
      ]
     },
     "execution_count": 9,
     "metadata": {},
     "output_type": "execute_result"
    },
    {
     "data": {
      "text/plain": [
       "2660"
      ]
     },
     "execution_count": 9,
     "metadata": {},
     "output_type": "execute_result"
    },
    {
     "data": {
      "text/plain": [
       "15"
      ]
     },
     "execution_count": 9,
     "metadata": {},
     "output_type": "execute_result"
    },
    {
     "data": {
      "text/plain": [
       "1262"
      ]
     },
     "execution_count": 9,
     "metadata": {},
     "output_type": "execute_result"
    },
    {
     "data": {
      "text/plain": [
       "2"
      ]
     },
     "execution_count": 9,
     "metadata": {},
     "output_type": "execute_result"
    },
    {
     "data": {
      "text/plain": [
       "3628"
      ]
     },
     "execution_count": 9,
     "metadata": {},
     "output_type": "execute_result"
    },
    {
     "data": {
      "text/plain": [
       "4321"
      ]
     },
     "execution_count": 9,
     "metadata": {},
     "output_type": "execute_result"
    },
    {
     "data": {
      "text/plain": [
       "277"
      ]
     },
     "execution_count": 9,
     "metadata": {},
     "output_type": "execute_result"
    },
    {
     "data": {
      "text/plain": [
       "15546"
      ]
     },
     "execution_count": 9,
     "metadata": {},
     "output_type": "execute_result"
    },
    {
     "data": {
      "text/plain": [
       "8"
      ]
     },
     "execution_count": 9,
     "metadata": {},
     "output_type": "execute_result"
    },
    {
     "data": {
      "text/plain": [
       "13"
      ]
     },
     "execution_count": 9,
     "metadata": {},
     "output_type": "execute_result"
    },
    {
     "data": {
      "text/plain": [
       "20"
      ]
     },
     "execution_count": 9,
     "metadata": {},
     "output_type": "execute_result"
    },
    {
     "data": {
      "text/plain": [
       "6974"
      ]
     },
     "execution_count": 9,
     "metadata": {},
     "output_type": "execute_result"
    },
    {
     "data": {
      "text/plain": [
       "1731"
      ]
     },
     "execution_count": 9,
     "metadata": {},
     "output_type": "execute_result"
    },
    {
     "data": {
      "text/plain": [
       "22"
      ]
     },
     "execution_count": 9,
     "metadata": {},
     "output_type": "execute_result"
    },
    {
     "data": {
      "text/plain": [
       "312"
      ]
     },
     "execution_count": 9,
     "metadata": {},
     "output_type": "execute_result"
    },
    {
     "data": {
      "text/plain": [
       "67"
      ]
     },
     "execution_count": 9,
     "metadata": {},
     "output_type": "execute_result"
    },
    {
     "data": {
      "text/plain": [
       "9229"
      ]
     },
     "execution_count": 9,
     "metadata": {},
     "output_type": "execute_result"
    },
    {
     "data": {
      "text/plain": [
       "17"
      ]
     },
     "execution_count": 9,
     "metadata": {},
     "output_type": "execute_result"
    },
    {
     "data": {
      "text/plain": [
       "173"
      ]
     },
     "execution_count": 9,
     "metadata": {},
     "output_type": "execute_result"
    },
    {
     "data": {
      "text/plain": [
       "2327"
      ]
     },
     "execution_count": 9,
     "metadata": {},
     "output_type": "execute_result"
    },
    {
     "data": {
      "text/plain": [
       "631"
      ]
     },
     "execution_count": 9,
     "metadata": {},
     "output_type": "execute_result"
    },
    {
     "data": {
      "text/plain": [
       "40"
      ]
     },
     "execution_count": 9,
     "metadata": {},
     "output_type": "execute_result"
    },
    {
     "data": {
      "text/plain": [
       "142"
      ]
     },
     "execution_count": 9,
     "metadata": {},
     "output_type": "execute_result"
    },
    {
     "data": {
      "text/plain": [
       "825"
      ]
     },
     "execution_count": 9,
     "metadata": {},
     "output_type": "execute_result"
    },
    {
     "data": {
      "text/plain": [
       "34"
      ]
     },
     "execution_count": 9,
     "metadata": {},
     "output_type": "execute_result"
    },
    {
     "data": {
      "text/plain": [
       "681"
      ]
     },
     "execution_count": 9,
     "metadata": {},
     "output_type": "execute_result"
    },
    {
     "data": {
      "text/plain": [
       "41"
      ]
     },
     "execution_count": 9,
     "metadata": {},
     "output_type": "execute_result"
    },
    {
     "data": {
      "text/plain": [
       "251"
      ]
     },
     "execution_count": 9,
     "metadata": {},
     "output_type": "execute_result"
    },
    {
     "data": {
      "text/plain": [
       "2276"
      ]
     },
     "execution_count": 9,
     "metadata": {},
     "output_type": "execute_result"
    },
    {
     "data": {
      "text/plain": [
       "2805"
      ]
     },
     "execution_count": 9,
     "metadata": {},
     "output_type": "execute_result"
    },
    {
     "data": {
      "text/plain": [
       "9200"
      ]
     },
     "execution_count": 9,
     "metadata": {},
     "output_type": "execute_result"
    },
    {
     "data": {
      "text/plain": [
       "5"
      ]
     },
     "execution_count": 9,
     "metadata": {},
     "output_type": "execute_result"
    },
    {
     "data": {
      "text/plain": [
       "4301"
      ]
     },
     "execution_count": 9,
     "metadata": {},
     "output_type": "execute_result"
    },
    {
     "data": {
      "text/plain": [
       "249"
      ]
     },
     "execution_count": 9,
     "metadata": {},
     "output_type": "execute_result"
    },
    {
     "data": {
      "text/plain": [
       "784"
      ]
     },
     "execution_count": 9,
     "metadata": {},
     "output_type": "execute_result"
    },
    {
     "data": {
      "text/plain": [
       "27"
      ]
     },
     "execution_count": 9,
     "metadata": {},
     "output_type": "execute_result"
    },
    {
     "data": {
      "text/plain": [
       "963"
      ]
     },
     "execution_count": 9,
     "metadata": {},
     "output_type": "execute_result"
    },
    {
     "data": {
      "text/plain": [
       "7"
      ]
     },
     "execution_count": 9,
     "metadata": {},
     "output_type": "execute_result"
    },
    {
     "data": {
      "text/plain": [
       "232"
      ]
     },
     "execution_count": 9,
     "metadata": {},
     "output_type": "execute_result"
    },
    {
     "data": {
      "text/plain": [
       "1135"
      ]
     },
     "execution_count": 9,
     "metadata": {},
     "output_type": "execute_result"
    },
    {
     "data": {
      "text/plain": [
       "477"
      ]
     },
     "execution_count": 9,
     "metadata": {},
     "output_type": "execute_result"
    },
    {
     "data": {
      "text/plain": [
       "292"
      ]
     },
     "execution_count": 9,
     "metadata": {},
     "output_type": "execute_result"
    },
    {
     "data": {
      "text/plain": [
       "168"
      ]
     },
     "execution_count": 9,
     "metadata": {},
     "output_type": "execute_result"
    },
    {
     "data": {
      "text/plain": [
       "14063"
      ]
     },
     "execution_count": 9,
     "metadata": {},
     "output_type": "execute_result"
    },
    {
     "data": {
      "text/plain": [
       "311"
      ]
     },
     "execution_count": 9,
     "metadata": {},
     "output_type": "execute_result"
    },
    {
     "data": {
      "text/plain": [
       "36"
      ]
     },
     "execution_count": 9,
     "metadata": {},
     "output_type": "execute_result"
    },
    {
     "data": {
      "text/plain": [
       "77"
      ]
     },
     "execution_count": 9,
     "metadata": {},
     "output_type": "execute_result"
    },
    {
     "data": {
      "text/plain": [
       "10588"
      ]
     },
     "execution_count": 9,
     "metadata": {},
     "output_type": "execute_result"
    },
    {
     "data": {
      "text/plain": [
       "266"
      ]
     },
     "execution_count": 9,
     "metadata": {},
     "output_type": "execute_result"
    },
    {
     "data": {
      "text/plain": [
       "710"
      ]
     },
     "execution_count": 9,
     "metadata": {},
     "output_type": "execute_result"
    },
    {
     "data": {
      "text/plain": [
       "7736"
      ]
     },
     "execution_count": 9,
     "metadata": {},
     "output_type": "execute_result"
    },
    {
     "data": {
      "text/plain": [
       "26"
      ]
     },
     "execution_count": 9,
     "metadata": {},
     "output_type": "execute_result"
    },
    {
     "data": {
      "text/plain": [
       "282"
      ]
     },
     "execution_count": 9,
     "metadata": {},
     "output_type": "execute_result"
    },
    {
     "data": {
      "text/plain": [
       "604"
      ]
     },
     "execution_count": 9,
     "metadata": {},
     "output_type": "execute_result"
    },
    {
     "data": {
      "text/plain": [
       "158"
      ]
     },
     "execution_count": 9,
     "metadata": {},
     "output_type": "execute_result"
    },
    {
     "data": {
      "text/plain": [
       "1581"
      ]
     },
     "execution_count": 9,
     "metadata": {},
     "output_type": "execute_result"
    },
    {
     "data": {
      "text/plain": [
       "3137"
      ]
     },
     "execution_count": 9,
     "metadata": {},
     "output_type": "execute_result"
    },
    {
     "data": {
      "text/plain": [
       "1210"
      ]
     },
     "execution_count": 9,
     "metadata": {},
     "output_type": "execute_result"
    },
    {
     "data": {
      "text/plain": [
       "550"
      ]
     },
     "execution_count": 9,
     "metadata": {},
     "output_type": "execute_result"
    },
    {
     "data": {
      "text/plain": [
       "1055"
      ]
     },
     "execution_count": 9,
     "metadata": {},
     "output_type": "execute_result"
    },
    {
     "data": {
      "text/plain": [
       "433"
      ]
     },
     "execution_count": 9,
     "metadata": {},
     "output_type": "execute_result"
    },
    {
     "data": {
      "text/plain": [
       "4"
      ]
     },
     "execution_count": 9,
     "metadata": {},
     "output_type": "execute_result"
    },
    {
     "data": {
      "text/plain": [
       "159"
      ]
     },
     "execution_count": 9,
     "metadata": {},
     "output_type": "execute_result"
    },
    {
     "data": {
      "text/plain": [
       "723"
      ]
     },
     "execution_count": 9,
     "metadata": {},
     "output_type": "execute_result"
    },
    {
     "data": {
      "text/plain": [
       "93"
      ]
     },
     "execution_count": 9,
     "metadata": {},
     "output_type": "execute_result"
    },
    {
     "data": {
      "text/plain": [
       "1848"
      ]
     },
     "execution_count": 9,
     "metadata": {},
     "output_type": "execute_result"
    },
    {
     "data": {
      "text/plain": [
       "1667"
      ]
     },
     "execution_count": 9,
     "metadata": {},
     "output_type": "execute_result"
    },
    {
     "data": {
      "text/plain": [
       "16194"
      ]
     },
     "execution_count": 9,
     "metadata": {},
     "output_type": "execute_result"
    },
    {
     "data": {
      "text/plain": [
       "497"
      ]
     },
     "execution_count": 9,
     "metadata": {},
     "output_type": "execute_result"
    },
    {
     "data": {
      "text/plain": [
       "12810"
      ]
     },
     "execution_count": 9,
     "metadata": {},
     "output_type": "execute_result"
    },
    {
     "data": {
      "text/plain": [
       "206"
      ]
     },
     "execution_count": 9,
     "metadata": {},
     "output_type": "execute_result"
    },
    {
     "data": {
      "text/plain": [
       "7939"
      ]
     },
     "execution_count": 9,
     "metadata": {},
     "output_type": "execute_result"
    },
    {
     "data": {
      "text/plain": [
       "10"
      ]
     },
     "execution_count": 9,
     "metadata": {},
     "output_type": "execute_result"
    },
    {
     "data": {
      "text/plain": [
       "2371"
      ]
     },
     "execution_count": 9,
     "metadata": {},
     "output_type": "execute_result"
    },
    {
     "data": {
      "text/plain": [
       "835"
      ]
     },
     "execution_count": 9,
     "metadata": {},
     "output_type": "execute_result"
    },
    {
     "data": {
      "text/plain": [
       "837"
      ]
     },
     "execution_count": 9,
     "metadata": {},
     "output_type": "execute_result"
    },
    {
     "data": {
      "text/plain": [
       "3111"
      ]
     },
     "execution_count": 9,
     "metadata": {},
     "output_type": "execute_result"
    },
    {
     "data": {
      "text/plain": [
       "514"
      ]
     },
     "execution_count": 9,
     "metadata": {},
     "output_type": "execute_result"
    },
    {
     "data": {
      "text/plain": [
       "2559"
      ]
     },
     "execution_count": 9,
     "metadata": {},
     "output_type": "execute_result"
    },
    {
     "data": {
      "text/plain": [
       "9336"
      ]
     },
     "execution_count": 9,
     "metadata": {},
     "output_type": "execute_result"
    },
    {
     "data": {
      "text/plain": [
       "193"
      ]
     },
     "execution_count": 9,
     "metadata": {},
     "output_type": "execute_result"
    },
    {
     "data": {
      "text/plain": [
       "3210"
      ]
     },
     "execution_count": 9,
     "metadata": {},
     "output_type": "execute_result"
    },
    {
     "data": {
      "text/plain": [
       "9014"
      ]
     },
     "execution_count": 9,
     "metadata": {},
     "output_type": "execute_result"
    },
    {
     "data": {
      "text/plain": [
       "665"
      ]
     },
     "execution_count": 9,
     "metadata": {},
     "output_type": "execute_result"
    },
    {
     "data": {
      "text/plain": [
       "926"
      ]
     },
     "execution_count": 9,
     "metadata": {},
     "output_type": "execute_result"
    },
    {
     "data": {
      "text/plain": [
       "56"
      ]
     },
     "execution_count": 9,
     "metadata": {},
     "output_type": "execute_result"
    },
    {
     "data": {
      "text/plain": [
       "758"
      ]
     },
     "execution_count": 9,
     "metadata": {},
     "output_type": "execute_result"
    },
    {
     "data": {
      "text/plain": [
       "57"
      ]
     },
     "execution_count": 9,
     "metadata": {},
     "output_type": "execute_result"
    },
    {
     "data": {
      "text/plain": [
       "101"
      ]
     },
     "execution_count": 9,
     "metadata": {},
     "output_type": "execute_result"
    },
    {
     "data": {
      "text/plain": [
       "63"
      ]
     },
     "execution_count": 9,
     "metadata": {},
     "output_type": "execute_result"
    },
    {
     "data": {
      "text/plain": [
       "360"
      ]
     },
     "execution_count": 9,
     "metadata": {},
     "output_type": "execute_result"
    },
    {
     "data": {
      "text/plain": [
       "1608"
      ]
     },
     "execution_count": 9,
     "metadata": {},
     "output_type": "execute_result"
    },
    {
     "data": {
      "text/plain": [
       "112"
      ]
     },
     "execution_count": 9,
     "metadata": {},
     "output_type": "execute_result"
    },
    {
     "data": {
      "text/plain": [
       "54"
      ]
     },
     "execution_count": 9,
     "metadata": {},
     "output_type": "execute_result"
    },
    {
     "data": {
      "text/plain": [
       "24"
      ]
     },
     "execution_count": 9,
     "metadata": {},
     "output_type": "execute_result"
    },
    {
     "data": {
      "text/plain": [
       "82"
      ]
     },
     "execution_count": 9,
     "metadata": {},
     "output_type": "execute_result"
    },
    {
     "data": {
      "text/plain": [
       "32"
      ]
     },
     "execution_count": 9,
     "metadata": {},
     "output_type": "execute_result"
    },
    {
     "data": {
      "text/plain": [
       "259"
      ]
     },
     "execution_count": 9,
     "metadata": {},
     "output_type": "execute_result"
    },
    {
     "data": {
      "text/plain": [
       "104"
      ]
     },
     "execution_count": 9,
     "metadata": {},
     "output_type": "execute_result"
    },
    {
     "data": {
      "text/plain": [
       "14"
      ]
     },
     "execution_count": 9,
     "metadata": {},
     "output_type": "execute_result"
    },
    {
     "data": {
      "text/plain": [
       "7077"
      ]
     },
     "execution_count": 9,
     "metadata": {},
     "output_type": "execute_result"
    },
    {
     "data": {
      "text/plain": [
       "12323"
      ]
     },
     "execution_count": 9,
     "metadata": {},
     "output_type": "execute_result"
    },
    {
     "data": {
      "text/plain": [
       "4991"
      ]
     },
     "execution_count": 9,
     "metadata": {},
     "output_type": "execute_result"
    },
    {
     "data": {
      "text/plain": [
       "66"
      ]
     },
     "execution_count": 9,
     "metadata": {},
     "output_type": "execute_result"
    },
    {
     "data": {
      "text/plain": [
       "3"
      ]
     },
     "execution_count": 9,
     "metadata": {},
     "output_type": "execute_result"
    },
    {
     "data": {
      "text/plain": [
       "919"
      ]
     },
     "execution_count": 9,
     "metadata": {},
     "output_type": "execute_result"
    },
    {
     "data": {
      "text/plain": [
       "156"
      ]
     },
     "execution_count": 9,
     "metadata": {},
     "output_type": "execute_result"
    },
    {
     "data": {
      "text/plain": [
       "120"
      ]
     },
     "execution_count": 9,
     "metadata": {},
     "output_type": "execute_result"
    },
    {
     "data": {
      "text/plain": [
       "28"
      ]
     },
     "execution_count": 9,
     "metadata": {},
     "output_type": "execute_result"
    },
    {
     "data": {
      "text/plain": [
       "59"
      ]
     },
     "execution_count": 9,
     "metadata": {},
     "output_type": "execute_result"
    },
    {
     "data": {
      "text/plain": [
       "71"
      ]
     },
     "execution_count": 9,
     "metadata": {},
     "output_type": "execute_result"
    },
    {
     "data": {
      "text/plain": [
       "179"
      ]
     },
     "execution_count": 9,
     "metadata": {},
     "output_type": "execute_result"
    },
    {
     "data": {
      "text/plain": [
       "1764"
      ]
     },
     "execution_count": 9,
     "metadata": {},
     "output_type": "execute_result"
    },
    {
     "data": {
      "text/plain": [
       "113"
      ]
     },
     "execution_count": 9,
     "metadata": {},
     "output_type": "execute_result"
    },
    {
     "data": {
      "text/plain": [
       "154"
      ]
     },
     "execution_count": 9,
     "metadata": {},
     "output_type": "execute_result"
    },
    {
     "data": {
      "text/plain": [
       "73"
      ]
     },
     "execution_count": 9,
     "metadata": {},
     "output_type": "execute_result"
    }
   ],
   "source": [
    "stopset = set(s)\n",
    "for i in stopset:\n",
    "    if i in t.word_index:\n",
    "        t.word_index.pop(i)\n"
   ]
  },
  {
   "cell_type": "markdown",
   "metadata": {},
   "source": [
    "### Encoding the content using tokenizer\n",
    "### Vocabulary of 20421 words"
   ]
  },
  {
   "cell_type": "code",
   "execution_count": 10,
   "metadata": {},
   "outputs": [
    {
     "name": "stdout",
     "output_type": "stream",
     "text": [
      "[[0. 0. 0. ... 0. 0. 0.]\n",
      " [0. 0. 0. ... 0. 0. 0.]\n",
      " [0. 0. 0. ... 0. 0. 0.]\n",
      " ...\n",
      " [0. 0. 0. ... 0. 0. 0.]\n",
      " [0. 0. 0. ... 0. 0. 0.]\n",
      " [0. 0. 0. ... 0. 0. 0.]]\n"
     ]
    },
    {
     "data": {
      "text/plain": [
       "20421"
      ]
     },
     "execution_count": 10,
     "metadata": {},
     "output_type": "execute_result"
    },
    {
     "data": {
      "text/plain": [
       "array([0., 0., 0., ..., 0., 0., 0.])"
      ]
     },
     "execution_count": 10,
     "metadata": {},
     "output_type": "execute_result"
    }
   ],
   "source": [
    "#integer encode documents\n",
    "encoded_content = t.texts_to_matrix(content)\n",
    "print(encoded_content)\n",
    "# print(encoded_content[1])\n",
    "len(encoded_content[1])\n",
    "encoded_content[100] # an example"
   ]
  },
  {
   "cell_type": "markdown",
   "metadata": {},
   "source": [
    "### An example "
   ]
  },
  {
   "cell_type": "code",
   "execution_count": 11,
   "metadata": {},
   "outputs": [
    {
     "name": "stdout",
     "output_type": "stream",
     "text": [
      "[161, 191, 223, 362, 434, 1606, 2338, 2871, 4190, 5439, 8130, 11247, 11248]\n"
     ]
    }
   ],
   "source": [
    "#printing position where the words of the first content lies in vocabulary\n",
    "position=[]\n",
    "for i in range(len(encoded_content[0])):\n",
    "    if encoded_content[0][i]==1.0:\n",
    "        position.append(i)\n",
    "print(position)        "
   ]
  },
  {
   "cell_type": "code",
   "execution_count": 12,
   "metadata": {
    "scrolled": true
   },
   "outputs": [
    {
     "name": "stdout",
     "output_type": "stream",
     "text": [
      "Shape of X is : 7600\n"
     ]
    }
   ],
   "source": [
    "print(\"Shape of X is :\" ,len(label))"
   ]
  },
  {
   "cell_type": "markdown",
   "metadata": {},
   "source": [
    "### Label encoding of target class"
   ]
  },
  {
   "cell_type": "code",
   "execution_count": 13,
   "metadata": {},
   "outputs": [],
   "source": [
    "from sklearn.preprocessing import LabelEncoder\n",
    "\n",
    "lb_make = LabelEncoder()\n",
    "\n",
    "label_code = lb_make.fit_transform(label)"
   ]
  },
  {
   "cell_type": "code",
   "execution_count": 14,
   "metadata": {},
   "outputs": [
    {
     "data": {
      "text/plain": [
       "{0, 1, 2, 3}"
      ]
     },
     "execution_count": 14,
     "metadata": {},
     "output_type": "execute_result"
    }
   ],
   "source": [
    "set(label_code)"
   ]
  },
  {
   "cell_type": "markdown",
   "metadata": {},
   "source": [
    "### Train-Test Split"
   ]
  },
  {
   "cell_type": "code",
   "execution_count": 15,
   "metadata": {},
   "outputs": [],
   "source": [
    "from sklearn.model_selection import train_test_split\n",
    "\n",
    "X_train, X_test, y_train, y_test = train_test_split(encoded_content,label_code, random_state=17)\n"
   ]
  },
  {
   "cell_type": "code",
   "execution_count": 16,
   "metadata": {},
   "outputs": [
    {
     "data": {
      "text/plain": [
       "7600"
      ]
     },
     "execution_count": 16,
     "metadata": {},
     "output_type": "execute_result"
    },
    {
     "data": {
      "text/plain": [
       "5700"
      ]
     },
     "execution_count": 16,
     "metadata": {},
     "output_type": "execute_result"
    },
    {
     "data": {
      "text/plain": [
       "1900"
      ]
     },
     "execution_count": 16,
     "metadata": {},
     "output_type": "execute_result"
    }
   ],
   "source": [
    "len(label)\n",
    "len(X_train)\n",
    "len(X_test)"
   ]
  },
  {
   "cell_type": "markdown",
   "metadata": {},
   "source": [
    "### One hot encoding of target class"
   ]
  },
  {
   "cell_type": "code",
   "execution_count": 17,
   "metadata": {},
   "outputs": [],
   "source": [
    "def to_one_hot(labels, dimension=4):\n",
    "    results = np.zeros((len(labels), dimension))\n",
    "    for i, label in enumerate(labels):\n",
    "        results[i, label] = 1.\n",
    "    return results\n",
    "\n",
    "# Our vectorized training labels\n",
    "one_hot_train_labels = to_one_hot(y_train)\n",
    "# Our vectorized test labels\n",
    "one_hot_test_labels = to_one_hot(y_test)"
   ]
  },
  {
   "cell_type": "markdown",
   "metadata": {},
   "source": [
    "#### Fitting models with different no of layers with different no of nodes and different activation functions"
   ]
  },
  {
   "cell_type": "markdown",
   "metadata": {},
   "source": [
    "#### Traing Data : X_train , one_hot_train_labels(Target)\n",
    "#### Test Data : X_test , one_hot_test_labels(Target)  "
   ]
  },
  {
   "cell_type": "markdown",
   "metadata": {},
   "source": [
    "## Model 1"
   ]
  },
  {
   "cell_type": "markdown",
   "metadata": {},
   "source": [
    "### k-fold cross-validation\n",
    "#### Here k=10"
   ]
  },
  {
   "cell_type": "code",
   "execution_count": 18,
   "metadata": {
    "scrolled": true
   },
   "outputs": [],
   "source": [
    "from keras import models\n",
    "from keras import layers\n",
    "def model1():\n",
    "    model = models.Sequential()\n",
    "    model.add(layers.Dense(16, activation='relu', input_shape=(20421,)))\n",
    "    model.add(layers.Dense(16, activation='relu'))\n",
    "    model.add(layers.Dense(4, activation='softmax'))\n",
    "    model.compile(optimizer='rmsprop',\n",
    "              loss='categorical_crossentropy',\n",
    "              metrics=['accuracy'])\n",
    "    return model\n"
   ]
  },
  {
   "cell_type": "code",
   "execution_count": 19,
   "metadata": {},
   "outputs": [
    {
     "name": "stdout",
     "output_type": "stream",
     "text": [
      "WARNING:tensorflow:From /home/arkaprava/anaconda3/lib/python3.6/site-packages/tensorflow/python/framework/op_def_library.py:263: colocate_with (from tensorflow.python.framework.ops) is deprecated and will be removed in a future version.\n",
      "Instructions for updating:\n",
      "Colocations handled automatically by placer.\n",
      "WARNING:tensorflow:From /home/arkaprava/anaconda3/lib/python3.6/site-packages/tensorflow/python/ops/math_ops.py:3066: to_int32 (from tensorflow.python.ops.math_ops) is deprecated and will be removed in a future version.\n",
      "Instructions for updating:\n",
      "Use tf.cast instead.\n"
     ]
    }
   ],
   "source": [
    "from sklearn.model_selection import cross_val_score\n",
    "from keras import models\n",
    "from keras import layers\n",
    "from keras.wrappers.scikit_learn import KerasClassifier\n",
    "from sklearn.model_selection import cross_val_score\n",
    "from sklearn.datasets import make_classification\n",
    "neural_network = KerasClassifier(build_fn=model1, \n",
    "                                 epochs=10, \n",
    "                                 batch_size=50, \n",
    "                                 verbose=0)\n",
    "cv_score_1 = cross_val_score(neural_network,X_train,one_hot_train_labels, cv=10)"
   ]
  },
  {
   "cell_type": "code",
   "execution_count": 20,
   "metadata": {},
   "outputs": [
    {
     "data": {
      "text/plain": [
       "array([0.84736841, 0.84561402, 0.85789474, 0.86666666, 0.85438597,\n",
       "       0.85614034, 0.84561403, 0.8368421 , 0.85614033, 0.84736842])"
      ]
     },
     "execution_count": 20,
     "metadata": {},
     "output_type": "execute_result"
    }
   ],
   "source": [
    "cv_score_1"
   ]
  },
  {
   "cell_type": "code",
   "execution_count": 21,
   "metadata": {},
   "outputs": [],
   "source": [
    "from keras import models\n",
    "from keras import layers\n",
    "\n",
    "model = models.Sequential()\n",
    "model.add(layers.Dense(16, activation='relu', input_shape=(20421,)))\n",
    "model.add(layers.Dense(16, activation='relu'))\n",
    "model.add(layers.Dense(4, activation='softmax'))"
   ]
  },
  {
   "cell_type": "code",
   "execution_count": 22,
   "metadata": {},
   "outputs": [],
   "source": [
    "model.compile(optimizer='rmsprop',\n",
    "              loss='categorical_crossentropy',\n",
    "              metrics=['accuracy'])"
   ]
  },
  {
   "cell_type": "code",
   "execution_count": 23,
   "metadata": {},
   "outputs": [
    {
     "name": "stdout",
     "output_type": "stream",
     "text": [
      "Epoch 1/10\n",
      "5700/5700 [==============================] - 3s 523us/step - loss: 1.0530 - acc: 0.6847\n",
      "Epoch 2/10\n",
      "5700/5700 [==============================] - 2s 387us/step - loss: 0.4638 - acc: 0.8982\n",
      "Epoch 3/10\n",
      "5700/5700 [==============================] - 2s 388us/step - loss: 0.2439 - acc: 0.9374\n",
      "Epoch 4/10\n",
      "5700/5700 [==============================] - 2s 380us/step - loss: 0.1582 - acc: 0.9574\n",
      "Epoch 5/10\n",
      "5700/5700 [==============================] - 2s 400us/step - loss: 0.1075 - acc: 0.9698\n",
      "Epoch 6/10\n",
      "5700/5700 [==============================] - 2s 401us/step - loss: 0.0746 - acc: 0.9786\n",
      "Epoch 7/10\n",
      "5700/5700 [==============================] - 2s 402us/step - loss: 0.0496 - acc: 0.9854\n",
      "Epoch 8/10\n",
      "5700/5700 [==============================] - 2s 407us/step - loss: 0.0329 - acc: 0.9898\n",
      "Epoch 9/10\n",
      "5700/5700 [==============================] - 2s 404us/step - loss: 0.0196 - acc: 0.9949\n",
      "Epoch 10/10\n",
      "5700/5700 [==============================] - 2s 406us/step - loss: 0.0122 - acc: 0.9970\n",
      "1900/1900 [==============================] - 1s 371us/step\n"
     ]
    }
   ],
   "source": [
    "neural_1 =  model.fit(X_train,one_hot_train_labels,epochs=10,batch_size=50)\n",
    "results1 = model.evaluate(X_test,one_hot_test_labels)"
   ]
  },
  {
   "cell_type": "code",
   "execution_count": 24,
   "metadata": {},
   "outputs": [
    {
     "data": {
      "text/plain": [
       "[0.6732649003028085, 0.8531578947368421]"
      ]
     },
     "execution_count": 24,
     "metadata": {},
     "output_type": "execute_result"
    }
   ],
   "source": [
    "results1"
   ]
  },
  {
   "cell_type": "code",
   "execution_count": 25,
   "metadata": {},
   "outputs": [],
   "source": [
    "from sklearn.model_selection import cross_val_score\n",
    "from sklearn.metrics import accuracy_score, f1_score, recall_score, precision_score"
   ]
  },
  {
   "cell_type": "code",
   "execution_count": 26,
   "metadata": {},
   "outputs": [],
   "source": [
    "result1 = model.predict(X_test)\n",
    "\n",
    "pred_label_1 = []\n",
    "for array in result1:\n",
    "    pred_label_1.append(np.argmax(array))"
   ]
  },
  {
   "cell_type": "code",
   "execution_count": 27,
   "metadata": {},
   "outputs": [
    {
     "name": "stdout",
     "output_type": "stream",
     "text": [
      "[[2.3522509e-02 9.6115917e-01 1.1349554e-03 1.4183379e-02]\n",
      " [1.7779470e-05 9.9454135e-01 1.3863995e-04 5.3022448e-03]\n",
      " [3.2793771e-05 7.6516527e-01 3.8267329e-04 2.3441927e-01]\n",
      " ...\n",
      " [8.6307931e-01 1.3454072e-01 8.9345273e-04 1.4865154e-03]\n",
      " [4.3025960e-12 1.9771926e-09 1.8883786e-09 1.0000000e+00]\n",
      " [1.2215490e-04 9.9867803e-01 3.4988503e-04 8.4990537e-04]]\n"
     ]
    }
   ],
   "source": [
    "print(result1)"
   ]
  },
  {
   "cell_type": "code",
   "execution_count": 29,
   "metadata": {
    "scrolled": true
   },
   "outputs": [
    {
     "name": "stdout",
     "output_type": "stream",
     "text": [
      "1900/1900 [==============================] - 0s 221us/step\n"
     ]
    }
   ],
   "source": [
    "loss_model_1, acc_model_1 = model.evaluate(X_test, one_hot_test_labels)"
   ]
  },
  {
   "cell_type": "code",
   "execution_count": 30,
   "metadata": {},
   "outputs": [],
   "source": [
    "prec_model_1 = precision_score(y_test,pred_label_1, average=None)[0]\n",
    "f1_model_1 = f1_score(list(y_test), pred_label_1, average = None)[0]"
   ]
  },
  {
   "cell_type": "code",
   "execution_count": 31,
   "metadata": {},
   "outputs": [
    {
     "name": "stdout",
     "output_type": "stream",
     "text": [
      "Accuracy of model 1 :  0.8531578947368421\n",
      "Precision of model 1 :  0.8121827411167513\n",
      "F1 score of model 1  :  0.7872078720787207\n"
     ]
    }
   ],
   "source": [
    "print(\"Accuracy of model 1 : \", acc_model_1)\n",
    "print(\"Precision of model 1 : \", prec_model_1)\n",
    "print(\"F1 score of model 1  : \", f1_model_1)"
   ]
  },
  {
   "cell_type": "markdown",
   "metadata": {},
   "source": [
    "## Model 2"
   ]
  },
  {
   "cell_type": "markdown",
   "metadata": {},
   "source": [
    "### k-fold cross-validation \n",
    "#### Here k=10"
   ]
  },
  {
   "cell_type": "code",
   "execution_count": 32,
   "metadata": {},
   "outputs": [],
   "source": [
    "from keras import models\n",
    "from keras import layers\n",
    "def model2():\n",
    "    model = models.Sequential()\n",
    "    model.add(layers.Dense(16, activation='relu', input_shape=(20421,)))\n",
    "    model.add(layers.Dense(16, activation='relu'))\n",
    "    model.add(layers.Dense(4, activation='sigmoid'))\n",
    "    model.compile(optimizer='rmsprop',\n",
    "              loss='categorical_crossentropy',\n",
    "              metrics=['accuracy'])\n",
    "    return model"
   ]
  },
  {
   "cell_type": "code",
   "execution_count": 33,
   "metadata": {},
   "outputs": [],
   "source": [
    "neural_network = KerasClassifier(build_fn=model2, \n",
    "                                 epochs=10, \n",
    "                                 batch_size=512, \n",
    "                                 verbose=0)\n",
    "cv_score_2 = cross_val_score(neural_network,X_train,one_hot_train_labels, cv=10)"
   ]
  },
  {
   "cell_type": "code",
   "execution_count": 34,
   "metadata": {},
   "outputs": [],
   "source": [
    "model2 = models.Sequential()\n",
    "model2.add(layers.Dense(16, activation='relu', input_shape=(20421,)))\n",
    "model2.add(layers.Dense(16, activation='relu'))\n",
    "model2.add(layers.Dense(4, activation='sigmoid'))"
   ]
  },
  {
   "cell_type": "code",
   "execution_count": 35,
   "metadata": {},
   "outputs": [],
   "source": [
    "model2.compile(optimizer='rmsprop',\n",
    "              loss='categorical_crossentropy',\n",
    "              metrics=['accuracy'])"
   ]
  },
  {
   "cell_type": "code",
   "execution_count": 36,
   "metadata": {},
   "outputs": [
    {
     "name": "stdout",
     "output_type": "stream",
     "text": [
      "Epoch 1/10\n",
      "5700/5700 [==============================] - 4s 623us/step - loss: 1.3487 - acc: 0.5661\n",
      "Epoch 2/10\n",
      "5700/5700 [==============================] - 2s 378us/step - loss: 1.2323 - acc: 0.8330\n",
      "Epoch 3/10\n",
      "5700/5700 [==============================] - 2s 379us/step - loss: 1.1172 - acc: 0.8807\n",
      "Epoch 4/10\n",
      "5700/5700 [==============================] - 2s 377us/step - loss: 0.9993 - acc: 0.9065\n",
      "Epoch 5/10\n",
      "5700/5700 [==============================] - 2s 382us/step - loss: 0.8798 - acc: 0.9228\n",
      "Epoch 6/10\n",
      "5700/5700 [==============================] - 2s 379us/step - loss: 0.7603 - acc: 0.9311\n",
      "Epoch 7/10\n",
      "5700/5700 [==============================] - 2s 380us/step - loss: 0.6451 - acc: 0.9411\n",
      "Epoch 8/10\n",
      "5700/5700 [==============================] - 2s 379us/step - loss: 0.5362 - acc: 0.9468\n",
      "Epoch 9/10\n",
      "5700/5700 [==============================] - 2s 376us/step - loss: 0.4379 - acc: 0.9511\n",
      "Epoch 10/10\n",
      "5700/5700 [==============================] - 2s 380us/step - loss: 0.3541 - acc: 0.9581\n",
      "1900/1900 [==============================] - 1s 515us/step\n"
     ]
    }
   ],
   "source": [
    "neural_2 = model2.fit(X_train,one_hot_train_labels,epochs=10,batch_size=512)\n",
    "results2 = model2.evaluate(X_test,one_hot_test_labels)"
   ]
  },
  {
   "cell_type": "code",
   "execution_count": 37,
   "metadata": {},
   "outputs": [
    {
     "data": {
      "text/plain": [
       "[0.5445045305553236, 0.8605263157894737]"
      ]
     },
     "execution_count": 37,
     "metadata": {},
     "output_type": "execute_result"
    }
   ],
   "source": [
    "results2"
   ]
  },
  {
   "cell_type": "code",
   "execution_count": 38,
   "metadata": {},
   "outputs": [],
   "source": [
    "result2 = model2.predict(X_test)\n",
    "\n",
    "pred_label_2 = []\n",
    "for array in result2:\n",
    "    pred_label_2.append(np.argmax(array))"
   ]
  },
  {
   "cell_type": "code",
   "execution_count": 39,
   "metadata": {},
   "outputs": [
    {
     "name": "stdout",
     "output_type": "stream",
     "text": [
      "1900/1900 [==============================] - 0s 206us/step\n"
     ]
    }
   ],
   "source": [
    "loss_model_2, acc_model_2 = model2.evaluate(X_test, one_hot_test_labels)\n",
    "\n",
    "prec_model_2 = precision_score(y_test,pred_label_2, average=None)[0]\n",
    "f1_model_2 = f1_score(list(y_test), pred_label_2, average = None)[0]"
   ]
  },
  {
   "cell_type": "code",
   "execution_count": 40,
   "metadata": {},
   "outputs": [
    {
     "name": "stdout",
     "output_type": "stream",
     "text": [
      "Accuracy of model 2 :  0.8605263157894737\n",
      "Precision of model 2 :  0.8036951501154734\n",
      "F1 score of model 2  :  0.8169014084507042\n"
     ]
    }
   ],
   "source": [
    "print(\"Accuracy of model 2 : \", acc_model_2)\n",
    "print(\"Precision of model 2 : \", prec_model_2)\n",
    "print(\"F1 score of model 2  : \", f1_model_2)"
   ]
  },
  {
   "cell_type": "markdown",
   "metadata": {},
   "source": [
    "## Model 3"
   ]
  },
  {
   "cell_type": "code",
   "execution_count": 41,
   "metadata": {},
   "outputs": [],
   "source": [
    "def model3():\n",
    "    model = models.Sequential()\n",
    "    model.add(layers.Dense(40, activation='relu', input_shape=(20421,)))\n",
    "    model.add(layers.Dense(40, activation='relu'))\n",
    "    model.add(layers.Dense(4, activation='softmax'))\n",
    "    model.compile(optimizer='rmsprop',\n",
    "              loss='categorical_crossentropy',\n",
    "              metrics=['accuracy'])\n",
    "    return model\n"
   ]
  },
  {
   "cell_type": "code",
   "execution_count": 42,
   "metadata": {},
   "outputs": [],
   "source": [
    "neural_network = KerasClassifier(build_fn=model3, \n",
    "                                 epochs=10, \n",
    "                                 batch_size=50, \n",
    "                                 verbose=0)\n",
    "cv_score_3 = cross_val_score(neural_network,X_train,one_hot_train_labels, cv=10)"
   ]
  },
  {
   "cell_type": "code",
   "execution_count": 43,
   "metadata": {},
   "outputs": [],
   "source": [
    "model3 = models.Sequential()\n",
    "model3.add(layers.Dense(40, activation='relu', input_shape=(20421,)))\n",
    "model3.add(layers.Dense(40, activation='relu'))\n",
    "model3.add(layers.Dense(4, activation='softmax'))"
   ]
  },
  {
   "cell_type": "code",
   "execution_count": 44,
   "metadata": {},
   "outputs": [],
   "source": [
    "model3.compile(optimizer='rmsprop',\n",
    "              loss='binary_crossentropy',\n",
    "              metrics=['accuracy'])"
   ]
  },
  {
   "cell_type": "code",
   "execution_count": 91,
   "metadata": {},
   "outputs": [
    {
     "name": "stdout",
     "output_type": "stream",
     "text": [
      "Epoch 1/10\n",
      "5700/5700 [==============================] - 5s 823us/step - loss: 4.8635e-04 - acc: 0.9998\n",
      "Epoch 2/10\n",
      "5700/5700 [==============================] - 4s 671us/step - loss: 2.3347e-04 - acc: 0.9999\n",
      "Epoch 3/10\n",
      "5700/5700 [==============================] - 4s 672us/step - loss: 2.0705e-04 - acc: 0.9999\n",
      "Epoch 4/10\n",
      "5700/5700 [==============================] - 4s 670us/step - loss: 1.8696e-04 - acc: 0.9999\n",
      "Epoch 5/10\n",
      "5700/5700 [==============================] - 4s 676us/step - loss: 7.9282e-05 - acc: 0.9999\n",
      "Epoch 6/10\n",
      "5700/5700 [==============================] - 4s 678us/step - loss: 1.5650e-05 - acc: 1.0000\n",
      "Epoch 7/10\n",
      "5700/5700 [==============================] - 4s 677us/step - loss: 6.8467e-05 - acc: 0.9999\n",
      "Epoch 8/10\n",
      "5700/5700 [==============================] - 4s 679us/step - loss: 1.1219e-04 - acc: 0.9999\n",
      "Epoch 9/10\n",
      "5700/5700 [==============================] - 4s 676us/step - loss: 8.7949e-05 - acc: 0.9999\n",
      "Epoch 10/10\n",
      "5700/5700 [==============================] - 4s 685us/step - loss: 4.2830e-05 - acc: 1.0000\n",
      "1900/1900 [==============================] - 1s 358us/step\n"
     ]
    }
   ],
   "source": [
    "neural_3 = model3.fit(X_train,one_hot_train_labels,epochs=10,batch_size=50)\n",
    "results3=model3.evaluate(X_test,one_hot_test_labels)"
   ]
  },
  {
   "cell_type": "code",
   "execution_count": 92,
   "metadata": {
    "scrolled": true
   },
   "outputs": [
    {
     "data": {
      "text/plain": [
       "[0.5588376650547511, 0.9173684210526316]"
      ]
     },
     "execution_count": 92,
     "metadata": {},
     "output_type": "execute_result"
    }
   ],
   "source": [
    "results3"
   ]
  },
  {
   "cell_type": "code",
   "execution_count": 93,
   "metadata": {},
   "outputs": [],
   "source": [
    "result3 = model3.predict(X_test)\n",
    "\n",
    "pred_label_3 = []\n",
    "for array in result3:\n",
    "    pred_label_3.append(np.argmax(array))"
   ]
  },
  {
   "cell_type": "code",
   "execution_count": 94,
   "metadata": {},
   "outputs": [
    {
     "name": "stdout",
     "output_type": "stream",
     "text": [
      "1900/1900 [==============================] - 1s 318us/step\n"
     ]
    }
   ],
   "source": [
    "loss_model_3, acc_model_3 = model3.evaluate(X_test, one_hot_test_labels)\n",
    "\n",
    "prec_model_3 = precision_score(y_test,pred_label_3, average=None)[0]\n",
    "f1_model_3 = f1_score(list(y_test), pred_label_3, average = None)[0]"
   ]
  },
  {
   "cell_type": "code",
   "execution_count": 95,
   "metadata": {},
   "outputs": [
    {
     "name": "stdout",
     "output_type": "stream",
     "text": [
      "Accuracy of model 3 :  0.9173684210526316\n",
      "Precision of model 3 :  0.7712895377128953\n",
      "F1 score of model 3  :  0.7638554216867469\n"
     ]
    }
   ],
   "source": [
    "print(\"Accuracy of model 3 : \", acc_model_3)\n",
    "print(\"Precision of model 3 : \", prec_model_3)\n",
    "print(\"F1 score of model 3  : \", f1_model_3)"
   ]
  },
  {
   "cell_type": "markdown",
   "metadata": {},
   "source": [
    "### Model 4"
   ]
  },
  {
   "cell_type": "code",
   "execution_count": 50,
   "metadata": {},
   "outputs": [],
   "source": [
    "def model4():\n",
    "    model = models.Sequential()\n",
    "    model.add(layers.Dense(40, activation='relu', input_shape=(20421,)))\n",
    "    model.add(layers.Dense(4, activation='softmax'))\n",
    "    model.compile(optimizer='rmsprop',\n",
    "              loss='binary_crossentropy',\n",
    "              metrics=['accuracy'])\n",
    "    return model"
   ]
  },
  {
   "cell_type": "code",
   "execution_count": 51,
   "metadata": {},
   "outputs": [],
   "source": [
    "neural_network = KerasClassifier(build_fn=model4, \n",
    "                                 epochs=10, \n",
    "                                 batch_size=50, \n",
    "                                 verbose=0)\n",
    "cv_score_4 = cross_val_score(neural_network,X_train,one_hot_train_labels, cv=10)"
   ]
  },
  {
   "cell_type": "code",
   "execution_count": 52,
   "metadata": {},
   "outputs": [],
   "source": [
    "model4 = models.Sequential()\n",
    "model4.add(layers.Dense(40, activation='relu', input_shape=(20421,)))\n",
    "model4.add(layers.Dense(4, activation='softmax'))"
   ]
  },
  {
   "cell_type": "code",
   "execution_count": 53,
   "metadata": {},
   "outputs": [],
   "source": [
    "model4.compile(optimizer='rmsprop',\n",
    "              loss='binary_crossentropy',\n",
    "              metrics=['accuracy'])"
   ]
  },
  {
   "cell_type": "code",
   "execution_count": 54,
   "metadata": {},
   "outputs": [
    {
     "name": "stdout",
     "output_type": "stream",
     "text": [
      "Epoch 1/10\n",
      "5700/5700 [==============================] - 6s 1ms/step - loss: 0.3866 - acc: 0.8273\n",
      "Epoch 2/10\n",
      "5700/5700 [==============================] - 4s 659us/step - loss: 0.1689 - acc: 0.9478\n",
      "Epoch 3/10\n",
      "5700/5700 [==============================] - 4s 666us/step - loss: 0.1061 - acc: 0.9670\n",
      "Epoch 4/10\n",
      "5700/5700 [==============================] - 4s 667us/step - loss: 0.0738 - acc: 0.9783\n",
      "Epoch 5/10\n",
      "5700/5700 [==============================] - 4s 668us/step - loss: 0.0532 - acc: 0.9850\n",
      "Epoch 6/10\n",
      "5700/5700 [==============================] - 4s 670us/step - loss: 0.0388 - acc: 0.9889\n",
      "Epoch 7/10\n",
      "5700/5700 [==============================] - 4s 675us/step - loss: 0.0278 - acc: 0.9916\n",
      "Epoch 8/10\n",
      "5700/5700 [==============================] - 4s 669us/step - loss: 0.0197 - acc: 0.9942 0s - loss: 0.0191 - acc: 0\n",
      "Epoch 9/10\n",
      "5700/5700 [==============================] - 4s 681us/step - loss: 0.0135 - acc: 0.9963\n",
      "Epoch 10/10\n",
      "5700/5700 [==============================] - 4s 683us/step - loss: 0.0092 - acc: 0.9978\n"
     ]
    },
    {
     "data": {
      "text/plain": [
       "<keras.callbacks.History at 0x7fd5e8316ef0>"
      ]
     },
     "execution_count": 54,
     "metadata": {},
     "output_type": "execute_result"
    },
    {
     "name": "stdout",
     "output_type": "stream",
     "text": [
      "1900/1900 [==============================] - 2s 854us/step\n"
     ]
    }
   ],
   "source": [
    "neural_4 = model4.fit(X_train,one_hot_train_labels,epochs=10,batch_size=50)\n",
    "results4=model4.evaluate(X_test,one_hot_test_labels)"
   ]
  },
  {
   "cell_type": "code",
   "execution_count": 55,
   "metadata": {},
   "outputs": [
    {
     "data": {
      "text/plain": [
       "[0.26806785332627203, 0.9285526315789474]"
      ]
     },
     "execution_count": 55,
     "metadata": {},
     "output_type": "execute_result"
    }
   ],
   "source": [
    "results4"
   ]
  },
  {
   "cell_type": "code",
   "execution_count": 56,
   "metadata": {},
   "outputs": [],
   "source": [
    "result4 = model4.predict(X_test)\n",
    "\n",
    "pred_label_4 = []\n",
    "for array in result4:\n",
    "    pred_label_4.append(np.argmax(array))"
   ]
  },
  {
   "cell_type": "code",
   "execution_count": 57,
   "metadata": {},
   "outputs": [
    {
     "name": "stdout",
     "output_type": "stream",
     "text": [
      "1900/1900 [==============================] - 1s 300us/step\n"
     ]
    }
   ],
   "source": [
    "loss_model_4, acc_model_4 = model4.evaluate(X_test, one_hot_test_labels)\n",
    "\n",
    "prec_model_4 = precision_score(y_test,pred_label_4, average=None)[0]\n",
    "f1_model_4 = f1_score(list(y_test), pred_label_4, average = None)[0]"
   ]
  },
  {
   "cell_type": "code",
   "execution_count": 58,
   "metadata": {},
   "outputs": [
    {
     "name": "stdout",
     "output_type": "stream",
     "text": [
      "Accuracy of model 4 :  0.9285526315789474\n",
      "Precision of model 4 :  0.7752293577981652\n",
      "F1 score of model 4  :  0.7906432748538011\n"
     ]
    }
   ],
   "source": [
    "print(\"Accuracy of model 4 : \", acc_model_4)\n",
    "print(\"Precision of model 4 : \", prec_model_4)\n",
    "print(\"F1 score of model 4  : \", f1_model_4)"
   ]
  },
  {
   "cell_type": "markdown",
   "metadata": {},
   "source": [
    "### Model 5"
   ]
  },
  {
   "cell_type": "code",
   "execution_count": 59,
   "metadata": {},
   "outputs": [],
   "source": [
    "def model5():\n",
    "    model = models.Sequential()\n",
    "    model.add(layers.Dense(40, activation='relu', input_shape=(20421,)))\n",
    "    model.add(layers.Dense(4, activation='sigmoid'))\n",
    "    model.compile(optimizer='rmsprop',\n",
    "              loss='binary_crossentropy',\n",
    "              metrics=['accuracy'])\n",
    "    return model"
   ]
  },
  {
   "cell_type": "code",
   "execution_count": 60,
   "metadata": {},
   "outputs": [
    {
     "name": "stderr",
     "output_type": "stream",
     "text": [
      "/home/arkaprava/anaconda3/lib/python3.6/site-packages/keras/callbacks.py:120: UserWarning: Method on_batch_end() is slow compared to the batch update (0.294482). Check your callbacks.\n",
      "  % delta_t_median)\n",
      "/home/arkaprava/anaconda3/lib/python3.6/site-packages/keras/callbacks.py:120: UserWarning: Method on_batch_end() is slow compared to the batch update (0.250600). Check your callbacks.\n",
      "  % delta_t_median)\n",
      "/home/arkaprava/anaconda3/lib/python3.6/site-packages/keras/callbacks.py:120: UserWarning: Method on_batch_end() is slow compared to the batch update (0.249680). Check your callbacks.\n",
      "  % delta_t_median)\n",
      "/home/arkaprava/anaconda3/lib/python3.6/site-packages/keras/callbacks.py:120: UserWarning: Method on_batch_end() is slow compared to the batch update (0.222109). Check your callbacks.\n",
      "  % delta_t_median)\n"
     ]
    }
   ],
   "source": [
    "neural_network = KerasClassifier(build_fn=model5, \n",
    "                                 epochs=10, \n",
    "                                 batch_size=50, \n",
    "                                 verbose=0)\n",
    "cv_score_5 = cross_val_score(neural_network,X_train,one_hot_train_labels, cv=10)"
   ]
  },
  {
   "cell_type": "code",
   "execution_count": 61,
   "metadata": {},
   "outputs": [],
   "source": [
    "model5 = models.Sequential()\n",
    "model5.add(layers.Dense(40, activation='relu', input_shape=(20421,)))\n",
    "model5.add(layers.Dense(4, activation='sigmoid'))"
   ]
  },
  {
   "cell_type": "code",
   "execution_count": 62,
   "metadata": {},
   "outputs": [],
   "source": [
    "model5.compile(optimizer='rmsprop',\n",
    "              loss='binary_crossentropy',\n",
    "              metrics=['accuracy'])"
   ]
  },
  {
   "cell_type": "code",
   "execution_count": 63,
   "metadata": {},
   "outputs": [
    {
     "name": "stdout",
     "output_type": "stream",
     "text": [
      "Epoch 1/10\n",
      "5700/5700 [==============================] - 7s 1ms/step - loss: 0.4593 - acc: 0.8145\n",
      "Epoch 2/10\n",
      "5700/5700 [==============================] - 4s 666us/step - loss: 0.2253 - acc: 0.9327\n",
      "Epoch 3/10\n",
      "5700/5700 [==============================] - 4s 677us/step - loss: 0.1408 - acc: 0.9570\n",
      "Epoch 4/10\n",
      "5700/5700 [==============================] - 4s 676us/step - loss: 0.1018 - acc: 0.9692\n",
      "Epoch 5/10\n",
      "5700/5700 [==============================] - 4s 677us/step - loss: 0.0783 - acc: 0.9761\n",
      "Epoch 6/10\n",
      "5700/5700 [==============================] - 4s 681us/step - loss: 0.0614 - acc: 0.9826\n",
      "Epoch 7/10\n",
      "5700/5700 [==============================] - 4s 678us/step - loss: 0.0484 - acc: 0.9854\n",
      "Epoch 8/10\n",
      "5700/5700 [==============================] - 4s 674us/step - loss: 0.0388 - acc: 0.9885\n",
      "Epoch 9/10\n",
      "5700/5700 [==============================] - 4s 684us/step - loss: 0.0303 - acc: 0.9908\n",
      "Epoch 10/10\n",
      "5700/5700 [==============================] - 4s 698us/step - loss: 0.0240 - acc: 0.9928\n"
     ]
    },
    {
     "data": {
      "text/plain": [
       "<keras.callbacks.History at 0x7fd67d1860b8>"
      ]
     },
     "execution_count": 63,
     "metadata": {},
     "output_type": "execute_result"
    },
    {
     "name": "stdout",
     "output_type": "stream",
     "text": [
      "1900/1900 [==============================] - 4s 2ms/step\n"
     ]
    }
   ],
   "source": [
    "model5.fit(X_train,one_hot_train_labels,epochs=10,batch_size=50)\n",
    "results5=model5.evaluate(X_test,one_hot_test_labels)"
   ]
  },
  {
   "cell_type": "code",
   "execution_count": 64,
   "metadata": {
    "scrolled": true
   },
   "outputs": [
    {
     "data": {
      "text/plain": [
       "[0.2380709560137046, 0.9301315789473684]"
      ]
     },
     "execution_count": 64,
     "metadata": {},
     "output_type": "execute_result"
    }
   ],
   "source": [
    "results5"
   ]
  },
  {
   "cell_type": "code",
   "execution_count": 65,
   "metadata": {},
   "outputs": [],
   "source": [
    "result5 = model5.predict(X_test)\n",
    "\n",
    "pred_label_5 = []\n",
    "for array in result5:\n",
    "    pred_label_5.append(np.argmax(array))"
   ]
  },
  {
   "cell_type": "code",
   "execution_count": 66,
   "metadata": {},
   "outputs": [
    {
     "name": "stdout",
     "output_type": "stream",
     "text": [
      "1900/1900 [==============================] - 1s 328us/step\n"
     ]
    }
   ],
   "source": [
    "loss_model_5, acc_model_5 = model5.evaluate(X_test, one_hot_test_labels)\n",
    "\n",
    "prec_model_5 = precision_score(y_test,pred_label_5, average=None)[0]\n",
    "f1_model_5 = f1_score(list(y_test), pred_label_5, average = None)[0]"
   ]
  },
  {
   "cell_type": "code",
   "execution_count": 67,
   "metadata": {},
   "outputs": [
    {
     "name": "stdout",
     "output_type": "stream",
     "text": [
      "Accuracy of model 5 :  0.9301315789473684\n",
      "Precision of model 5 :  0.7837837837837838\n",
      "F1 score of model 5  :  0.8064889918887602\n"
     ]
    }
   ],
   "source": [
    "print(\"Accuracy of model 5 : \", acc_model_5)\n",
    "print(\"Precision of model 5 : \", prec_model_5)\n",
    "print(\"F1 score of model 5  : \", f1_model_5)"
   ]
  },
  {
   "cell_type": "markdown",
   "metadata": {},
   "source": [
    "## Model 6"
   ]
  },
  {
   "cell_type": "code",
   "execution_count": 76,
   "metadata": {},
   "outputs": [],
   "source": [
    "from keras import optimizers\n",
    "from keras import losses\n",
    "from keras.wrappers.scikit_learn import KerasClassifier"
   ]
  },
  {
   "cell_type": "code",
   "execution_count": 77,
   "metadata": {},
   "outputs": [],
   "source": [
    "def model6():\n",
    "    model = models.Sequential()\n",
    "    model.add(layers.Dense(40, activation='relu', input_shape=(20421,)))\n",
    "    model.add(layers.Dense(4, activation='softmax'))\n",
    "    \n",
    "    model.compile(optimizer=optimizers.RMSprop(lr=0.01), loss=losses.binary_crossentropy, metrics = [\"acc\"] )\n",
    "    return model"
   ]
  },
  {
   "cell_type": "code",
   "execution_count": 78,
   "metadata": {},
   "outputs": [
    {
     "name": "stderr",
     "output_type": "stream",
     "text": [
      "/home/arkaprava/anaconda3/lib/python3.6/site-packages/keras/callbacks.py:120: UserWarning: Method on_batch_end() is slow compared to the batch update (0.146183). Check your callbacks.\n",
      "  % delta_t_median)\n"
     ]
    }
   ],
   "source": [
    "neural_network = KerasClassifier(build_fn=model6, \n",
    "                                 epochs=10, \n",
    "                                 batch_size=50, \n",
    "                                 verbose=0)\n",
    "cv_score_6 = cross_val_score(neural_network,X_train,one_hot_train_labels, cv=10)"
   ]
  },
  {
   "cell_type": "code",
   "execution_count": 79,
   "metadata": {
    "scrolled": true
   },
   "outputs": [
    {
     "name": "stdout",
     "output_type": "stream",
     "text": [
      "Epoch 1/10\n",
      "5700/5700 [==============================] - 8s 1ms/step - loss: 0.2292 - acc: 0.9135\n",
      "Epoch 2/10\n",
      "5700/5700 [==============================] - 4s 664us/step - loss: 0.0664 - acc: 0.9790\n",
      "Epoch 3/10\n",
      "5700/5700 [==============================] - 4s 669us/step - loss: 0.0212 - acc: 0.9930\n",
      "Epoch 4/10\n",
      "5700/5700 [==============================] - 4s 671us/step - loss: 0.0046 - acc: 0.9985\n",
      "Epoch 5/10\n",
      "5700/5700 [==============================] - 4s 670us/step - loss: 0.0014 - acc: 0.9996\n",
      "Epoch 6/10\n",
      "5700/5700 [==============================] - 4s 671us/step - loss: 6.2516e-04 - acc: 0.9997\n",
      "Epoch 7/10\n",
      "5700/5700 [==============================] - 4s 669us/step - loss: 2.7502e-04 - acc: 0.9999\n",
      "Epoch 8/10\n",
      "5700/5700 [==============================] - 4s 679us/step - loss: 5.2845e-04 - acc: 0.9999\n",
      "Epoch 9/10\n",
      "5700/5700 [==============================] - 4s 723us/step - loss: 7.3920e-05 - acc: 1.0000\n",
      "Epoch 10/10\n",
      "5700/5700 [==============================] - 4s 639us/step - loss: 6.5721e-05 - acc: 1.0000\n",
      "1900/1900 [==============================] - 13s 7ms/step\n"
     ]
    }
   ],
   "source": [
    "model_6 = model6()\n",
    "neural_6 = model_6.fit(X_train,one_hot_train_labels,epochs=10,batch_size=50)\n",
    "results6 = model_6.evaluate(X_test,one_hot_test_labels)"
   ]
  },
  {
   "cell_type": "code",
   "execution_count": 80,
   "metadata": {},
   "outputs": [
    {
     "data": {
      "text/plain": [
       "[0.6236510901819718, 0.9180263157894737]"
      ]
     },
     "execution_count": 80,
     "metadata": {},
     "output_type": "execute_result"
    }
   ],
   "source": [
    "results6"
   ]
  },
  {
   "cell_type": "code",
   "execution_count": 81,
   "metadata": {},
   "outputs": [],
   "source": [
    "result6 = model_6.predict(X_test)\n",
    "\n",
    "pred_label_6 = []\n",
    "for array in result6:\n",
    "    pred_label_6.append(np.argmax(array))"
   ]
  },
  {
   "cell_type": "code",
   "execution_count": 82,
   "metadata": {},
   "outputs": [
    {
     "name": "stdout",
     "output_type": "stream",
     "text": [
      "1900/1900 [==============================] - 1s 308us/step\n"
     ]
    }
   ],
   "source": [
    "loss_model_6, acc_model_6 = model_6.evaluate(X_test, one_hot_test_labels)\n",
    "\n",
    "prec_model_6 = precision_score(y_test,pred_label_6, average=None)[0]\n",
    "f1_model_6 = f1_score(list(y_test), pred_label_6, average = None)[0]"
   ]
  },
  {
   "cell_type": "code",
   "execution_count": 83,
   "metadata": {},
   "outputs": [
    {
     "name": "stdout",
     "output_type": "stream",
     "text": [
      "Accuracy of model 6 :  0.9180263157894737\n",
      "Precision of model 6 :  0.7822784810126582\n",
      "F1 score of model 6  :  0.7592137592137592\n"
     ]
    }
   ],
   "source": [
    "print(\"Accuracy of model 6 : \", acc_model_6)\n",
    "print(\"Precision of model 6 : \", prec_model_6)\n",
    "print(\"F1 score of model 6  : \", f1_model_6)"
   ]
  },
  {
   "cell_type": "markdown",
   "metadata": {},
   "source": [
    "### Model 7"
   ]
  },
  {
   "cell_type": "code",
   "execution_count": 68,
   "metadata": {},
   "outputs": [],
   "source": [
    "def model7():\n",
    "    model = models.Sequential()\n",
    "    model.add(layers.Dense(32, activation='sigmoid', input_shape=(20421,)))\n",
    "    model.add(layers.Dense(32, activation='sigmoid'))\n",
    "    model.add(layers.Dense(4, activation='softmax'))\n",
    "    model.compile(optimizer='rmsprop',\n",
    "              loss='binary_crossentropy',\n",
    "              metrics=['accuracy'])\n",
    "    return model"
   ]
  },
  {
   "cell_type": "code",
   "execution_count": 69,
   "metadata": {},
   "outputs": [],
   "source": [
    "neural_network = KerasClassifier(build_fn=model7, \n",
    "                                 epochs=10, \n",
    "                                 batch_size=50, \n",
    "                                 verbose=0)\n",
    "cv_score_7 = cross_val_score(neural_network,X_train,one_hot_train_labels, cv=10)"
   ]
  },
  {
   "cell_type": "code",
   "execution_count": 70,
   "metadata": {},
   "outputs": [],
   "source": [
    "model7 = models.Sequential()\n",
    "model7.add(layers.Dense(32, activation='sigmoid', input_shape=(20421,)))\n",
    "model7.add(layers.Dense(32, activation='sigmoid'))\n",
    "model7.add(layers.Dense(4, activation='softmax'))"
   ]
  },
  {
   "cell_type": "code",
   "execution_count": 71,
   "metadata": {},
   "outputs": [],
   "source": [
    "model7.compile(optimizer='rmsprop',\n",
    "              loss='categorical_crossentropy',\n",
    "              metrics=['accuracy'])"
   ]
  },
  {
   "cell_type": "code",
   "execution_count": 72,
   "metadata": {},
   "outputs": [
    {
     "name": "stdout",
     "output_type": "stream",
     "text": [
      "Epoch 1/10\n",
      "5700/5700 [==============================] - 7s 1ms/step - loss: 1.3362 - acc: 0.5298\n",
      "Epoch 2/10\n",
      "5700/5700 [==============================] - 3s 487us/step - loss: 1.1226 - acc: 0.8333\n",
      "Epoch 3/10\n",
      "5700/5700 [==============================] - 3s 472us/step - loss: 0.8006 - acc: 0.8830\n",
      "Epoch 4/10\n",
      "5700/5700 [==============================] - 3s 468us/step - loss: 0.5284 - acc: 0.9002\n",
      "Epoch 5/10\n",
      "5700/5700 [==============================] - 3s 474us/step - loss: 0.3688 - acc: 0.9132\n",
      "Epoch 6/10\n",
      "5700/5700 [==============================] - 3s 497us/step - loss: 0.2838 - acc: 0.9267\n",
      "Epoch 7/10\n",
      "5700/5700 [==============================] - 3s 488us/step - loss: 0.2312 - acc: 0.9344\n",
      "Epoch 8/10\n",
      "5700/5700 [==============================] - 3s 475us/step - loss: 0.1965 - acc: 0.9435\n",
      "Epoch 9/10\n",
      "5700/5700 [==============================] - 3s 530us/step - loss: 0.1688 - acc: 0.9505\n",
      "Epoch 10/10\n",
      "5700/5700 [==============================] - 3s 606us/step - loss: 0.1465 - acc: 0.9560\n"
     ]
    },
    {
     "data": {
      "text/plain": [
       "<keras.callbacks.History at 0x7fd5e2ef7320>"
      ]
     },
     "execution_count": 72,
     "metadata": {},
     "output_type": "execute_result"
    },
    {
     "name": "stdout",
     "output_type": "stream",
     "text": [
      "1900/1900 [==============================] - 2s 1ms/step\n"
     ]
    }
   ],
   "source": [
    "model7.fit(X_train,one_hot_train_labels,epochs=10,batch_size=50)\n",
    "results7=model7.evaluate(X_test,one_hot_test_labels)"
   ]
  },
  {
   "cell_type": "code",
   "execution_count": 73,
   "metadata": {},
   "outputs": [],
   "source": [
    "result7 = model7.predict(X_test)\n",
    "\n",
    "pred_label_7 = []\n",
    "for array in result7:\n",
    "    pred_label_7.append(np.argmax(array))"
   ]
  },
  {
   "cell_type": "code",
   "execution_count": 74,
   "metadata": {},
   "outputs": [
    {
     "name": "stdout",
     "output_type": "stream",
     "text": [
      "1900/1900 [==============================] - 1s 292us/step\n"
     ]
    }
   ],
   "source": [
    "loss_model_7, acc_model_7 = model7.evaluate(X_test, one_hot_test_labels)\n",
    "\n",
    "prec_model_7 = precision_score(y_test,pred_label_7, average=None)[0]\n",
    "f1_model_7 = f1_score(list(y_test), pred_label_7, average = None)[0]"
   ]
  },
  {
   "cell_type": "code",
   "execution_count": 75,
   "metadata": {},
   "outputs": [
    {
     "name": "stdout",
     "output_type": "stream",
     "text": [
      "Accuracy of model 7 :  0.8721052631578947\n",
      "Precision of model 7 :  0.7982062780269058\n",
      "F1 score of model 7  :  0.823121387283237\n"
     ]
    }
   ],
   "source": [
    "print(\"Accuracy of model 7 : \", acc_model_7)\n",
    "print(\"Precision of model 7 : \", prec_model_7)\n",
    "print(\"F1 score of model 7  : \", f1_model_7)"
   ]
  },
  {
   "cell_type": "markdown",
   "metadata": {},
   "source": [
    "## Saving Output in a file"
   ]
  },
  {
   "cell_type": "code",
   "execution_count": 112,
   "metadata": {},
   "outputs": [],
   "source": [
    "f = open(\"Output\",\"w\")"
   ]
  },
  {
   "cell_type": "code",
   "execution_count": 113,
   "metadata": {},
   "outputs": [],
   "source": [
    "for i in range(1,8):\n",
    "\n",
    "\n",
    "    cv_score = vars()[\"cv_score_\" + str(i)]\n",
    "    acc_model = vars()[\"acc_model_\" + str(i)]\n",
    "    prec_model = vars()[\"prec_model_\" + str(i)]\n",
    "    f1_model = vars()[\"f1_model_\" + str(i)]\n",
    "\n",
    "\n",
    "    print(\"\\t\\t MODEL\",i, file = f)\n",
    "    print(\"\\n\\n\", file = f)\n",
    "\n",
    "    print(\"Ten fold cross validation of model {} is : \".format(i), list(map(lambda x: round(x * 100,2), cv_score)), file = f)\n",
    "    print(\"\\n\", file = f)\n",
    "\n",
    "    print(\"Accuracy is : \", acc_model, file = f)\n",
    "    print(\"Precision is : \", prec_model, file = f)\n",
    "    print(\"F1 score is : \", f1_model, file = f)\n",
    "    print(\"\\n\\n\", file = f)\n"
   ]
  },
  {
   "cell_type": "code",
   "execution_count": 114,
   "metadata": {},
   "outputs": [],
   "source": [
    "f.close()"
   ]
  },
  {
   "cell_type": "code",
   "execution_count": null,
   "metadata": {},
   "outputs": [],
   "source": []
  }
 ],
 "metadata": {
  "kernelspec": {
   "display_name": "Python 3",
   "language": "python",
   "name": "python3"
  },
  "language_info": {
   "codemirror_mode": {
    "name": "ipython",
    "version": 3
   },
   "file_extension": ".py",
   "mimetype": "text/x-python",
   "name": "python",
   "nbconvert_exporter": "python",
   "pygments_lexer": "ipython3",
   "version": "3.7.3"
  }
 },
 "nbformat": 4,
 "nbformat_minor": 2
}
