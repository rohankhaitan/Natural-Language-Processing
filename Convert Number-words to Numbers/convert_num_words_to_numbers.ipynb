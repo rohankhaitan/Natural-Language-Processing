{
 "cells": [
  {
   "cell_type": "markdown",
   "metadata": {},
   "source": [
    "### NLP"
   ]
  },
  {
   "cell_type": "markdown",
   "metadata": {},
   "source": [
    "### Some important points"
   ]
  },
  {
   "cell_type": "markdown",
   "metadata": {},
   "source": [
    "The task here is to convert the number words to numbers. \n",
    "I have divided the task into parts so that we can use this for some other puposes also and we will be able to extend and modify it easily if needed.\n",
    "1. First function takes number texts only as input and convert those to integer. It doesn't handle the decimal case and will throw error if the input is any word other than the number word.\n",
    "2. Second function is for handling the decimal case.\n",
    "3. Third function just combines the first and second function. It takes any number words(including decimal cases) and convert them to corresponding numeric value.\n",
    "4. The fourth function is to identify the number words from the given input. It returns start and end indices of the number words from which we can easily extract the number words if we want.\n",
    "5. The final function uses all these functions. It takes any sentence as input. Then using fourth function it indentifies the number word parts and apply the third function on that part and finally return the required output."
   ]
  },
  {
   "cell_type": "markdown",
   "metadata": {},
   "source": [
    "Some of the important cases handled:\n",
    "1. The word \"and\" can occur in between the number words. For eg- One hundred and ten.\n",
    "2. The input may contain number words in capital letters.\n",
    "3. The number words may end with some characters.For eg: \"... sixty six: ...\",\"... One million twenty; ...\".\n",
    "\n",
    "There are some other basic cases also which has been done."
   ]
  },
  {
   "cell_type": "markdown",
   "metadata": {},
   "source": [
    "Some cases can not be handled without knowing context. For those we need to train a model with some data.<br>\n",
    "**For example**-<br>\n",
    "Sentence 1-  \"I have one **hundred and eighty** ruppes.\"<br>\n",
    "Sentence 2-  \"Velocity of cars are **hundred and eighty** kms per hour respectively\"\n",
    "<br>Both should not return same output for number words. Need to understand context.<br>\n",
    "**Another example**- \"You are the chosen **one**\" .Here we should not convert one to 1."
   ]
  },
  {
   "cell_type": "markdown",
   "metadata": {},
   "source": [
    "### Lists of number words"
   ]
  },
  {
   "cell_type": "code",
   "execution_count": 1,
   "metadata": {},
   "outputs": [],
   "source": [
    "units = [\"zero\", \"one\", \"two\", \"three\", \"four\", \"five\", \"six\", \"seven\", \"eight\",\"nine\", \"ten\", \"eleven\", \"twelve\", \"thirteen\", \"fourteen\", \"fifteen\",\n",
    "\"sixteen\", \"seventeen\", \"eighteen\", \"nineteen\"]\n",
    "\n",
    "tens = [\"\", \"\", \"twenty\", \"thirty\", \"forty\", \"fifty\", \"sixty\", \"seventy\", \"eighty\", \"ninety\"]\n",
    "\n",
    "scales = [\"hundred\", \"thousand\", \"million\", \"billion\", \"trillion\"]\n",
    "\n",
    "number_system={}\n",
    "for index, word in enumerate(units):    number_system[word] = (1, index)\n",
    "for index, word in enumerate(tens):     number_system[word] = (1, index * 10)\n",
    "for index, word in enumerate(scales):   number_system[word] = (10 ** (index * 3 or 2), 0)"
   ]
  },
  {
   "cell_type": "markdown",
   "metadata": {},
   "source": [
    "### Function that only converts a text word to integer values"
   ]
  },
  {
   "cell_type": "code",
   "execution_count": 2,
   "metadata": {},
   "outputs": [],
   "source": [
    "def text_to_integer(num_text):\n",
    "    current = result = 0\n",
    "    for word in num_text.split():\n",
    "        if word not in number_system:\n",
    "            raise Exception(\"Error! Invalid word\" + word)\n",
    "\n",
    "        scale, increment = number_system[word]\n",
    "        current = current * scale + increment\n",
    "        if scale > 100:\n",
    "            result += current\n",
    "            current = 0\n",
    "\n",
    "    return result + current"
   ]
  },
  {
   "cell_type": "markdown",
   "metadata": {},
   "source": [
    "### Function that compute the decimal texts to decimal values"
   ]
  },
  {
   "cell_type": "code",
   "execution_count": 3,
   "metadata": {},
   "outputs": [],
   "source": [
    "decimal_words = ['zero', 'one', 'two', 'three', 'four', 'five', 'six', 'seven', 'eight', 'nine']\n",
    "\n",
    "def get_decimal_number(decimal_digit_words):\n",
    "    decimal_number_str = []\n",
    "    decimal_dic={}\n",
    "    for idx, word in enumerate(decimal_words):  \n",
    "        decimal_dic[word] =  idx\n",
    "    for dec_word in decimal_digit_words:\n",
    "        if(dec_word not in decimal_words):\n",
    "            return int(0)\n",
    "        else:\n",
    "            decimal_number_str.append(decimal_dic[dec_word])\n",
    "    final_decimal_string = '0.' + ''.join(map(str,decimal_number_str))\n",
    "    return float(final_decimal_string)\n"
   ]
  },
  {
   "cell_type": "code",
   "execution_count": 4,
   "metadata": {},
   "outputs": [],
   "source": [
    "extra_words=[\"and\",\"point\"]  ## List of words which we want to allow in between the number words"
   ]
  },
  {
   "cell_type": "markdown",
   "metadata": {},
   "source": [
    "### Convert the number words to numbers</br>\n",
    "#### Combining previous two functions"
   ]
  },
  {
   "cell_type": "code",
   "execution_count": 5,
   "metadata": {},
   "outputs": [],
   "source": [
    "def text_to_num(number_sentence):\n",
    "    number_sentence = number_sentence.lower() ## To get rid of capital letters\n",
    "    if(number_sentence.isdigit()):  # return the number if user enters a number string(not necessary here)\n",
    "        return int(number_sentence)\n",
    "    total_sum=0\n",
    "    num_words = number_sentence.partition(\"point\")[0]\n",
    "    decimal_words= number_sentence.partition(\"point\")[2].split()\n",
    "    total_sum+= text_to_integer(num_words)\n",
    "    if decimal_words!=[]:\n",
    "        total_sum+= get_decimal_number(decimal_words)\n",
    "    return total_sum"
   ]
  },
  {
   "cell_type": "markdown",
   "metadata": {},
   "source": [
    "### Extract indices those parts of the sentence which need to be converted to numbers </br>"
   ]
  },
  {
   "cell_type": "code",
   "execution_count": 6,
   "metadata": {},
   "outputs": [],
   "source": [
    "def extract_numeric_word_index(sentence):\n",
    "    sentence = sentence.lower() \n",
    "    words=sentence.split(\" \")\n",
    "    counter=0\n",
    "    start_index= -1\n",
    "    end_index= -1\n",
    "    start_index_list=[]\n",
    "    end_index_list=[]\n",
    "    for i in range(len(words)):\n",
    "        if words[i] in number_system.keys():\n",
    "            if counter==0:\n",
    "                start_index=i\n",
    "                start_index_list.append(start_index)\n",
    "                counter=1\n",
    "            else:\n",
    "                counter+=1\n",
    "        else:\n",
    "            if start_index!= -1:\n",
    "                if words[i] not in extra_words or (words[i] in extra_words and words[i+1] not in number_system.keys()):\n",
    "                    end_index=start_index + counter-1\n",
    "                    end_index_list.append(end_index)\n",
    "                    start_index= -1\n",
    "                    counter=0\n",
    "                else:\n",
    "                    counter+=1\n",
    "                    pass                      \n",
    "            else:\n",
    "                pass\n",
    "    if counter!=0:\n",
    "        end_index=start_index + counter-1\n",
    "        end_index_list.append(end_index)      \n",
    "    return((start_index_list,end_index_list)) "
   ]
  },
  {
   "cell_type": "markdown",
   "metadata": {},
   "source": [
    "### Final function which takes any sentence and convert the necessary parts to numbers"
   ]
  },
  {
   "cell_type": "code",
   "execution_count": 7,
   "metadata": {},
   "outputs": [],
   "source": [
    "import re"
   ]
  },
  {
   "cell_type": "code",
   "execution_count": 8,
   "metadata": {},
   "outputs": [],
   "source": [
    "## Characters which can occur just at the end of a number word.\n",
    "## We can add all other characters.\n",
    "characters=[\"-\",\",\",\";\",\"=\",\":\",\"!\"] "
   ]
  },
  {
   "cell_type": "code",
   "execution_count": 9,
   "metadata": {},
   "outputs": [],
   "source": [
    "def text_to_numeric(sentence):\n",
    "    ## Get rid of the case where some characters like (,;:!=?) occurs just after number word\n",
    "    for i in characters:\n",
    "        sentence=re.sub(i,\" \"+i+\"#\",sentence)  ## used # just to identify where the changes are made \n",
    "                                               #so that we can change it back later\n",
    "    sentence=re.sub(\"\\.\",\" .\"+\"#\",sentence)\n",
    "    converted_words=[]\n",
    "    words=sentence.split(\" \")\n",
    "    start_index_list,end_index_list=extract_numeric_word_index(sentence)\n",
    "    if start_index_list == []:\n",
    "        return sentence\n",
    "    else:\n",
    "        for i in range(len(start_index_list)):\n",
    "            word_list=words[start_index_list[i]:end_index_list[i]+1]\n",
    "            indices = [i for i, x in enumerate(word_list) if x == \"and\"]\n",
    "            word_list = [i for j, i in enumerate(word_list) if j not in indices]\n",
    "            #print((' '.join(word_list)))\n",
    "            number=text_to_num(' '.join(word_list))\n",
    "            if i!=0:\n",
    "                converted_words+=words[end_index_list[i-1]+1:start_index_list[i]]+ [str(number)]\n",
    "            else:\n",
    "                converted_words+=words[0:start_index_list[i]]+ [str(number)]  \n",
    "            if i== len(start_index_list)-1:\n",
    "                converted_words+= words[end_index_list[i]+1:]\n",
    "    final=' '.join(converted_words)\n",
    "    for i in characters:\n",
    "        final=re.sub(\"\\ \"+i+\"#\",i,final)   ## The changes made previously are taken care of \n",
    "    final=re.sub(\"\\ \\.\"+\"#\",\".\",final)\n",
    "    return(final)"
   ]
  },
  {
   "cell_type": "markdown",
   "metadata": {},
   "source": [
    "### Check how the function works"
   ]
  },
  {
   "cell_type": "code",
   "execution_count": 21,
   "metadata": {},
   "outputs": [
    {
     "data": {
      "text/plain": [
       "59"
      ]
     },
     "execution_count": 21,
     "metadata": {},
     "output_type": "execute_result"
    }
   ],
   "source": [
    "text_to_integer(\"fifty nine\") # Only converts to integer"
   ]
  },
  {
   "cell_type": "code",
   "execution_count": 23,
   "metadata": {},
   "outputs": [
    {
     "data": {
      "text/plain": [
       "0"
      ]
     },
     "execution_count": 23,
     "metadata": {},
     "output_type": "execute_result"
    }
   ],
   "source": [
    "get_decimal_number(\"five six\")"
   ]
  },
  {
   "cell_type": "code",
   "execution_count": 10,
   "metadata": {},
   "outputs": [],
   "source": [
    "text_1 = \"A car starts from rest and accelerates uniformly over a time of five point two one seconds \\\n",
    "for a distance of one hundred and ten meters. Determine the acceleration of the car.\"\n",
    "text_2 = \"I don't have three point two three eight grams of sugar but I have one billion and two hundred and \\\n",
    "two point two zero ruppes\"\n",
    "text_3= \"We together have one million and one thousand and thirty two. We want to split it \\\n",
    "in thirty two parts or forty five point five parts.\""
   ]
  },
  {
   "cell_type": "markdown",
   "metadata": {},
   "source": [
    "#### Decimal and \"and\" case "
   ]
  },
  {
   "cell_type": "markdown",
   "metadata": {},
   "source": [
    "#### Some other examples"
   ]
  },
  {
   "cell_type": "code",
   "execution_count": 11,
   "metadata": {},
   "outputs": [
    {
     "data": {
      "text/plain": [
       "'A car starts from rest and accelerates uniformly over a time of 5.21 seconds for a distance of 110 meters. Determine the acceleration of the car.'"
      ]
     },
     "execution_count": 11,
     "metadata": {},
     "output_type": "execute_result"
    }
   ],
   "source": [
    "text_to_numeric(text_1)"
   ]
  },
  {
   "cell_type": "code",
   "execution_count": 12,
   "metadata": {
    "scrolled": true
   },
   "outputs": [
    {
     "data": {
      "text/plain": [
       "\"I don't have 3.238 grams of sugar but I have 1000000202.2 ruppes\""
      ]
     },
     "execution_count": 12,
     "metadata": {},
     "output_type": "execute_result"
    }
   ],
   "source": [
    "text_to_numeric(text_2)"
   ]
  },
  {
   "cell_type": "code",
   "execution_count": 13,
   "metadata": {},
   "outputs": [
    {
     "data": {
      "text/plain": [
       "'We together have 1001032. We want to split it in 32 parts or 45.5 parts.'"
      ]
     },
     "execution_count": 13,
     "metadata": {},
     "output_type": "execute_result"
    }
   ],
   "source": [
    "text_to_numeric(text_3)"
   ]
  },
  {
   "cell_type": "markdown",
   "metadata": {},
   "source": [
    "#### It also works for the third case mentioned above"
   ]
  },
  {
   "cell_type": "code",
   "execution_count": 16,
   "metadata": {},
   "outputs": [],
   "source": [
    "text_4=\"you won one million! Yeah! Here your two thousand bonus.\""
   ]
  },
  {
   "cell_type": "code",
   "execution_count": 17,
   "metadata": {
    "scrolled": true
   },
   "outputs": [
    {
     "data": {
      "text/plain": [
       "'you won 1000000! Yeah! Here your 2000 bonus.'"
      ]
     },
     "execution_count": 17,
     "metadata": {},
     "output_type": "execute_result"
    }
   ],
   "source": [
    "text_to_numeric(text_4)"
   ]
  },
  {
   "cell_type": "code",
   "execution_count": null,
   "metadata": {},
   "outputs": [],
   "source": []
  },
  {
   "cell_type": "code",
   "execution_count": null,
   "metadata": {},
   "outputs": [],
   "source": []
  }
 ],
 "metadata": {
  "kernelspec": {
   "display_name": "Python 3",
   "language": "python",
   "name": "python3"
  },
  "language_info": {
   "codemirror_mode": {
    "name": "ipython",
    "version": 3
   },
   "file_extension": ".py",
   "mimetype": "text/x-python",
   "name": "python",
   "nbconvert_exporter": "python",
   "pygments_lexer": "ipython3",
   "version": "3.7.3"
  }
 },
 "nbformat": 4,
 "nbformat_minor": 2
}
